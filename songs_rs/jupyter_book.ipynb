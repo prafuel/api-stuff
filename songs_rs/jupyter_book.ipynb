{
 "cells": [
  {
   "cell_type": "code",
   "execution_count": 6,
   "metadata": {},
   "outputs": [],
   "source": [
    "import pandas as pd\n",
    "import numpy as np"
   ]
  },
  {
   "cell_type": "code",
   "execution_count": 7,
   "metadata": {},
   "outputs": [],
   "source": [
    "songs = pd.read_csv(\"./spotify_songs.csv\")"
   ]
  },
  {
   "cell_type": "code",
   "execution_count": 8,
   "metadata": {},
   "outputs": [
    {
     "data": {
      "text/html": [
       "<div>\n",
       "<style scoped>\n",
       "    .dataframe tbody tr th:only-of-type {\n",
       "        vertical-align: middle;\n",
       "    }\n",
       "\n",
       "    .dataframe tbody tr th {\n",
       "        vertical-align: top;\n",
       "    }\n",
       "\n",
       "    .dataframe thead th {\n",
       "        text-align: right;\n",
       "    }\n",
       "</style>\n",
       "<table border=\"1\" class=\"dataframe\">\n",
       "  <thead>\n",
       "    <tr style=\"text-align: right;\">\n",
       "      <th></th>\n",
       "      <th>track_id</th>\n",
       "      <th>track_name</th>\n",
       "      <th>track_artist</th>\n",
       "      <th>track_popularity</th>\n",
       "      <th>track_album_id</th>\n",
       "      <th>track_album_name</th>\n",
       "      <th>track_album_release_date</th>\n",
       "      <th>playlist_name</th>\n",
       "      <th>playlist_id</th>\n",
       "      <th>playlist_genre</th>\n",
       "      <th>...</th>\n",
       "      <th>key</th>\n",
       "      <th>loudness</th>\n",
       "      <th>mode</th>\n",
       "      <th>speechiness</th>\n",
       "      <th>acousticness</th>\n",
       "      <th>instrumentalness</th>\n",
       "      <th>liveness</th>\n",
       "      <th>valence</th>\n",
       "      <th>tempo</th>\n",
       "      <th>duration_ms</th>\n",
       "    </tr>\n",
       "  </thead>\n",
       "  <tbody>\n",
       "    <tr>\n",
       "      <th>0</th>\n",
       "      <td>6f807x0ima9a1j3VPbc7VN</td>\n",
       "      <td>I Don't Care (with Justin Bieber) - Loud Luxur...</td>\n",
       "      <td>Ed Sheeran</td>\n",
       "      <td>66</td>\n",
       "      <td>2oCs0DGTsRO98Gh5ZSl2Cx</td>\n",
       "      <td>I Don't Care (with Justin Bieber) [Loud Luxury...</td>\n",
       "      <td>2019-06-14</td>\n",
       "      <td>Pop Remix</td>\n",
       "      <td>37i9dQZF1DXcZDD7cfEKhW</td>\n",
       "      <td>pop</td>\n",
       "      <td>...</td>\n",
       "      <td>6</td>\n",
       "      <td>-2.634</td>\n",
       "      <td>1</td>\n",
       "      <td>0.0583</td>\n",
       "      <td>0.102</td>\n",
       "      <td>0.0</td>\n",
       "      <td>0.0653</td>\n",
       "      <td>0.518</td>\n",
       "      <td>122.036</td>\n",
       "      <td>194754</td>\n",
       "    </tr>\n",
       "  </tbody>\n",
       "</table>\n",
       "<p>1 rows × 23 columns</p>\n",
       "</div>"
      ],
      "text/plain": [
       "                 track_id                                         track_name  \\\n",
       "0  6f807x0ima9a1j3VPbc7VN  I Don't Care (with Justin Bieber) - Loud Luxur...   \n",
       "\n",
       "  track_artist  track_popularity          track_album_id  \\\n",
       "0   Ed Sheeran                66  2oCs0DGTsRO98Gh5ZSl2Cx   \n",
       "\n",
       "                                    track_album_name track_album_release_date  \\\n",
       "0  I Don't Care (with Justin Bieber) [Loud Luxury...               2019-06-14   \n",
       "\n",
       "  playlist_name             playlist_id playlist_genre  ... key  loudness  \\\n",
       "0     Pop Remix  37i9dQZF1DXcZDD7cfEKhW            pop  ...   6    -2.634   \n",
       "\n",
       "   mode  speechiness  acousticness  instrumentalness  liveness  valence  \\\n",
       "0     1       0.0583         0.102               0.0    0.0653    0.518   \n",
       "\n",
       "     tempo  duration_ms  \n",
       "0  122.036       194754  \n",
       "\n",
       "[1 rows x 23 columns]"
      ]
     },
     "execution_count": 8,
     "metadata": {},
     "output_type": "execute_result"
    }
   ],
   "source": [
    "songs.head(1)"
   ]
  },
  {
   "cell_type": "code",
   "execution_count": 9,
   "metadata": {},
   "outputs": [
    {
     "name": "stdout",
     "output_type": "stream",
     "text": [
      "<class 'pandas.core.frame.DataFrame'>\n",
      "RangeIndex: 32833 entries, 0 to 32832\n",
      "Data columns (total 23 columns):\n",
      " #   Column                    Non-Null Count  Dtype  \n",
      "---  ------                    --------------  -----  \n",
      " 0   track_id                  32833 non-null  object \n",
      " 1   track_name                32828 non-null  object \n",
      " 2   track_artist              32828 non-null  object \n",
      " 3   track_popularity          32833 non-null  int64  \n",
      " 4   track_album_id            32833 non-null  object \n",
      " 5   track_album_name          32828 non-null  object \n",
      " 6   track_album_release_date  32833 non-null  object \n",
      " 7   playlist_name             32833 non-null  object \n",
      " 8   playlist_id               32833 non-null  object \n",
      " 9   playlist_genre            32833 non-null  object \n",
      " 10  playlist_subgenre         32833 non-null  object \n",
      " 11  danceability              32833 non-null  float64\n",
      " 12  energy                    32833 non-null  float64\n",
      " 13  key                       32833 non-null  int64  \n",
      " 14  loudness                  32833 non-null  float64\n",
      " 15  mode                      32833 non-null  int64  \n",
      " 16  speechiness               32833 non-null  float64\n",
      " 17  acousticness              32833 non-null  float64\n",
      " 18  instrumentalness          32833 non-null  float64\n",
      " 19  liveness                  32833 non-null  float64\n",
      " 20  valence                   32833 non-null  float64\n",
      " 21  tempo                     32833 non-null  float64\n",
      " 22  duration_ms               32833 non-null  int64  \n",
      "dtypes: float64(9), int64(4), object(10)\n",
      "memory usage: 5.8+ MB\n"
     ]
    }
   ],
   "source": [
    "songs.info()"
   ]
  },
  {
   "cell_type": "markdown",
   "metadata": {},
   "source": [
    "Selected Columns"
   ]
  },
  {
   "cell_type": "code",
   "execution_count": 10,
   "metadata": {},
   "outputs": [],
   "source": [
    "# track_name\n",
    "# track_artist\n",
    "# playlist_name\n",
    "# playlist_genre\n",
    "# playlist_subgenre"
   ]
  },
  {
   "cell_type": "code",
   "execution_count": 11,
   "metadata": {},
   "outputs": [],
   "source": [
    "songs = songs[['track_name', 'track_artist', 'playlist_name', 'playlist_genre', 'playlist_subgenre']]"
   ]
  },
  {
   "cell_type": "code",
   "execution_count": 12,
   "metadata": {},
   "outputs": [
    {
     "data": {
      "text/html": [
       "<div>\n",
       "<style scoped>\n",
       "    .dataframe tbody tr th:only-of-type {\n",
       "        vertical-align: middle;\n",
       "    }\n",
       "\n",
       "    .dataframe tbody tr th {\n",
       "        vertical-align: top;\n",
       "    }\n",
       "\n",
       "    .dataframe thead th {\n",
       "        text-align: right;\n",
       "    }\n",
       "</style>\n",
       "<table border=\"1\" class=\"dataframe\">\n",
       "  <thead>\n",
       "    <tr style=\"text-align: right;\">\n",
       "      <th></th>\n",
       "      <th>track_name</th>\n",
       "      <th>track_artist</th>\n",
       "      <th>playlist_name</th>\n",
       "      <th>playlist_genre</th>\n",
       "      <th>playlist_subgenre</th>\n",
       "    </tr>\n",
       "  </thead>\n",
       "  <tbody>\n",
       "    <tr>\n",
       "      <th>0</th>\n",
       "      <td>I Don't Care (with Justin Bieber) - Loud Luxur...</td>\n",
       "      <td>Ed Sheeran</td>\n",
       "      <td>Pop Remix</td>\n",
       "      <td>pop</td>\n",
       "      <td>dance pop</td>\n",
       "    </tr>\n",
       "  </tbody>\n",
       "</table>\n",
       "</div>"
      ],
      "text/plain": [
       "                                          track_name track_artist  \\\n",
       "0  I Don't Care (with Justin Bieber) - Loud Luxur...   Ed Sheeran   \n",
       "\n",
       "  playlist_name playlist_genre playlist_subgenre  \n",
       "0     Pop Remix            pop         dance pop  "
      ]
     },
     "execution_count": 12,
     "metadata": {},
     "output_type": "execute_result"
    }
   ],
   "source": [
    "songs.head(1)"
   ]
  },
  {
   "cell_type": "code",
   "execution_count": 13,
   "metadata": {},
   "outputs": [
    {
     "data": {
      "text/plain": [
       "array(['dance pop', 'post-teen pop', 'electropop', 'indie poptimism',\n",
       "       'hip hop', 'southern hip hop', 'gangster rap', 'trap',\n",
       "       'album rock', 'classic rock', 'permanent wave', 'hard rock',\n",
       "       'tropical', 'latin pop', 'reggaeton', 'latin hip hop',\n",
       "       'urban contemporary', 'hip pop', 'new jack swing', 'neo soul',\n",
       "       'electro house', 'big room', 'pop edm',\n",
       "       'progressive electro house'], dtype=object)"
      ]
     },
     "execution_count": 13,
     "metadata": {},
     "output_type": "execute_result"
    }
   ],
   "source": [
    "songs['playlist_subgenre'].unique()"
   ]
  },
  {
   "cell_type": "code",
   "execution_count": 14,
   "metadata": {},
   "outputs": [],
   "source": [
    "def remove_space(string: str):\n",
    "    return string.replace(\" \", \"\").lower()"
   ]
  },
  {
   "cell_type": "code",
   "execution_count": 15,
   "metadata": {},
   "outputs": [],
   "source": [
    "songs = songs.astype({\"track_name\" : str, \"track_artist\" : str, \"playlist_name\" : str})"
   ]
  },
  {
   "cell_type": "code",
   "execution_count": 16,
   "metadata": {},
   "outputs": [],
   "source": [
    "songs['playlist_subgenre'] = songs['playlist_subgenre'].apply(remove_space)"
   ]
  },
  {
   "cell_type": "code",
   "execution_count": 17,
   "metadata": {},
   "outputs": [],
   "source": [
    "songs['track_artist'] = songs['track_artist'].apply(remove_space)"
   ]
  },
  {
   "cell_type": "code",
   "execution_count": 18,
   "metadata": {},
   "outputs": [
    {
     "data": {
      "text/html": [
       "<div>\n",
       "<style scoped>\n",
       "    .dataframe tbody tr th:only-of-type {\n",
       "        vertical-align: middle;\n",
       "    }\n",
       "\n",
       "    .dataframe tbody tr th {\n",
       "        vertical-align: top;\n",
       "    }\n",
       "\n",
       "    .dataframe thead th {\n",
       "        text-align: right;\n",
       "    }\n",
       "</style>\n",
       "<table border=\"1\" class=\"dataframe\">\n",
       "  <thead>\n",
       "    <tr style=\"text-align: right;\">\n",
       "      <th></th>\n",
       "      <th>track_name</th>\n",
       "      <th>track_artist</th>\n",
       "      <th>playlist_name</th>\n",
       "      <th>playlist_genre</th>\n",
       "      <th>playlist_subgenre</th>\n",
       "    </tr>\n",
       "  </thead>\n",
       "  <tbody>\n",
       "    <tr>\n",
       "      <th>0</th>\n",
       "      <td>I Don't Care (with Justin Bieber) - Loud Luxur...</td>\n",
       "      <td>edsheeran</td>\n",
       "      <td>Pop Remix</td>\n",
       "      <td>pop</td>\n",
       "      <td>dancepop</td>\n",
       "    </tr>\n",
       "    <tr>\n",
       "      <th>1</th>\n",
       "      <td>Memories - Dillon Francis Remix</td>\n",
       "      <td>maroon5</td>\n",
       "      <td>Pop Remix</td>\n",
       "      <td>pop</td>\n",
       "      <td>dancepop</td>\n",
       "    </tr>\n",
       "    <tr>\n",
       "      <th>2</th>\n",
       "      <td>All the Time - Don Diablo Remix</td>\n",
       "      <td>zaralarsson</td>\n",
       "      <td>Pop Remix</td>\n",
       "      <td>pop</td>\n",
       "      <td>dancepop</td>\n",
       "    </tr>\n",
       "    <tr>\n",
       "      <th>3</th>\n",
       "      <td>Call You Mine - Keanu Silva Remix</td>\n",
       "      <td>thechainsmokers</td>\n",
       "      <td>Pop Remix</td>\n",
       "      <td>pop</td>\n",
       "      <td>dancepop</td>\n",
       "    </tr>\n",
       "    <tr>\n",
       "      <th>4</th>\n",
       "      <td>Someone You Loved - Future Humans Remix</td>\n",
       "      <td>lewiscapaldi</td>\n",
       "      <td>Pop Remix</td>\n",
       "      <td>pop</td>\n",
       "      <td>dancepop</td>\n",
       "    </tr>\n",
       "    <tr>\n",
       "      <th>...</th>\n",
       "      <td>...</td>\n",
       "      <td>...</td>\n",
       "      <td>...</td>\n",
       "      <td>...</td>\n",
       "      <td>...</td>\n",
       "    </tr>\n",
       "    <tr>\n",
       "      <th>32828</th>\n",
       "      <td>City Of Lights - Official Radio Edit</td>\n",
       "      <td>lush&amp;simon</td>\n",
       "      <td>♥ EDM LOVE 2020</td>\n",
       "      <td>edm</td>\n",
       "      <td>progressiveelectrohouse</td>\n",
       "    </tr>\n",
       "    <tr>\n",
       "      <th>32829</th>\n",
       "      <td>Closer - Sultan &amp; Ned Shepard Remix</td>\n",
       "      <td>teganandsara</td>\n",
       "      <td>♥ EDM LOVE 2020</td>\n",
       "      <td>edm</td>\n",
       "      <td>progressiveelectrohouse</td>\n",
       "    </tr>\n",
       "    <tr>\n",
       "      <th>32830</th>\n",
       "      <td>Sweet Surrender - Radio Edit</td>\n",
       "      <td>starkillers</td>\n",
       "      <td>♥ EDM LOVE 2020</td>\n",
       "      <td>edm</td>\n",
       "      <td>progressiveelectrohouse</td>\n",
       "    </tr>\n",
       "    <tr>\n",
       "      <th>32831</th>\n",
       "      <td>Only For You - Maor Levi Remix</td>\n",
       "      <td>matzo</td>\n",
       "      <td>♥ EDM LOVE 2020</td>\n",
       "      <td>edm</td>\n",
       "      <td>progressiveelectrohouse</td>\n",
       "    </tr>\n",
       "    <tr>\n",
       "      <th>32832</th>\n",
       "      <td>Typhoon - Original Mix</td>\n",
       "      <td>juliancalor</td>\n",
       "      <td>♥ EDM LOVE 2020</td>\n",
       "      <td>edm</td>\n",
       "      <td>progressiveelectrohouse</td>\n",
       "    </tr>\n",
       "  </tbody>\n",
       "</table>\n",
       "<p>32833 rows × 5 columns</p>\n",
       "</div>"
      ],
      "text/plain": [
       "                                              track_name     track_artist  \\\n",
       "0      I Don't Care (with Justin Bieber) - Loud Luxur...        edsheeran   \n",
       "1                        Memories - Dillon Francis Remix          maroon5   \n",
       "2                        All the Time - Don Diablo Remix      zaralarsson   \n",
       "3                      Call You Mine - Keanu Silva Remix  thechainsmokers   \n",
       "4                Someone You Loved - Future Humans Remix     lewiscapaldi   \n",
       "...                                                  ...              ...   \n",
       "32828               City Of Lights - Official Radio Edit       lush&simon   \n",
       "32829                Closer - Sultan & Ned Shepard Remix     teganandsara   \n",
       "32830                       Sweet Surrender - Radio Edit      starkillers   \n",
       "32831                     Only For You - Maor Levi Remix            matzo   \n",
       "32832                             Typhoon - Original Mix      juliancalor   \n",
       "\n",
       "         playlist_name playlist_genre        playlist_subgenre  \n",
       "0            Pop Remix            pop                 dancepop  \n",
       "1            Pop Remix            pop                 dancepop  \n",
       "2            Pop Remix            pop                 dancepop  \n",
       "3            Pop Remix            pop                 dancepop  \n",
       "4            Pop Remix            pop                 dancepop  \n",
       "...                ...            ...                      ...  \n",
       "32828  ♥ EDM LOVE 2020            edm  progressiveelectrohouse  \n",
       "32829  ♥ EDM LOVE 2020            edm  progressiveelectrohouse  \n",
       "32830  ♥ EDM LOVE 2020            edm  progressiveelectrohouse  \n",
       "32831  ♥ EDM LOVE 2020            edm  progressiveelectrohouse  \n",
       "32832  ♥ EDM LOVE 2020            edm  progressiveelectrohouse  \n",
       "\n",
       "[32833 rows x 5 columns]"
      ]
     },
     "execution_count": 18,
     "metadata": {},
     "output_type": "execute_result"
    }
   ],
   "source": [
    "songs"
   ]
  },
  {
   "cell_type": "code",
   "execution_count": 19,
   "metadata": {},
   "outputs": [
    {
     "data": {
      "text/plain": [
       "\"I Don't Care (with Justin Bieber) - Loud Luxury Remix\""
      ]
     },
     "execution_count": 19,
     "metadata": {},
     "output_type": "execute_result"
    }
   ],
   "source": [
    "songs['track_name'][0]"
   ]
  },
  {
   "cell_type": "code",
   "execution_count": 20,
   "metadata": {},
   "outputs": [],
   "source": [
    "def check_track_name(string: str) :\n",
    "    return string.split(\"-\")[0].strip()"
   ]
  },
  {
   "cell_type": "code",
   "execution_count": 21,
   "metadata": {},
   "outputs": [],
   "source": [
    "songs['track_name'] = songs['track_name'].apply(check_track_name)"
   ]
  },
  {
   "cell_type": "code",
   "execution_count": 22,
   "metadata": {},
   "outputs": [],
   "source": [
    "songs['playlist_name'] = songs['playlist_name'].apply(remove_space)"
   ]
  },
  {
   "cell_type": "code",
   "execution_count": 23,
   "metadata": {},
   "outputs": [
    {
     "data": {
      "text/html": [
       "<div>\n",
       "<style scoped>\n",
       "    .dataframe tbody tr th:only-of-type {\n",
       "        vertical-align: middle;\n",
       "    }\n",
       "\n",
       "    .dataframe tbody tr th {\n",
       "        vertical-align: top;\n",
       "    }\n",
       "\n",
       "    .dataframe thead th {\n",
       "        text-align: right;\n",
       "    }\n",
       "</style>\n",
       "<table border=\"1\" class=\"dataframe\">\n",
       "  <thead>\n",
       "    <tr style=\"text-align: right;\">\n",
       "      <th></th>\n",
       "      <th>track_name</th>\n",
       "      <th>track_artist</th>\n",
       "      <th>playlist_name</th>\n",
       "      <th>playlist_genre</th>\n",
       "      <th>playlist_subgenre</th>\n",
       "    </tr>\n",
       "  </thead>\n",
       "  <tbody>\n",
       "    <tr>\n",
       "      <th>0</th>\n",
       "      <td>I Don't Care (with Justin Bieber)</td>\n",
       "      <td>edsheeran</td>\n",
       "      <td>popremix</td>\n",
       "      <td>pop</td>\n",
       "      <td>dancepop</td>\n",
       "    </tr>\n",
       "    <tr>\n",
       "      <th>1</th>\n",
       "      <td>Memories</td>\n",
       "      <td>maroon5</td>\n",
       "      <td>popremix</td>\n",
       "      <td>pop</td>\n",
       "      <td>dancepop</td>\n",
       "    </tr>\n",
       "    <tr>\n",
       "      <th>2</th>\n",
       "      <td>All the Time</td>\n",
       "      <td>zaralarsson</td>\n",
       "      <td>popremix</td>\n",
       "      <td>pop</td>\n",
       "      <td>dancepop</td>\n",
       "    </tr>\n",
       "    <tr>\n",
       "      <th>3</th>\n",
       "      <td>Call You Mine</td>\n",
       "      <td>thechainsmokers</td>\n",
       "      <td>popremix</td>\n",
       "      <td>pop</td>\n",
       "      <td>dancepop</td>\n",
       "    </tr>\n",
       "    <tr>\n",
       "      <th>4</th>\n",
       "      <td>Someone You Loved</td>\n",
       "      <td>lewiscapaldi</td>\n",
       "      <td>popremix</td>\n",
       "      <td>pop</td>\n",
       "      <td>dancepop</td>\n",
       "    </tr>\n",
       "    <tr>\n",
       "      <th>...</th>\n",
       "      <td>...</td>\n",
       "      <td>...</td>\n",
       "      <td>...</td>\n",
       "      <td>...</td>\n",
       "      <td>...</td>\n",
       "    </tr>\n",
       "    <tr>\n",
       "      <th>32828</th>\n",
       "      <td>City Of Lights</td>\n",
       "      <td>lush&amp;simon</td>\n",
       "      <td>♥edmlove2020</td>\n",
       "      <td>edm</td>\n",
       "      <td>progressiveelectrohouse</td>\n",
       "    </tr>\n",
       "    <tr>\n",
       "      <th>32829</th>\n",
       "      <td>Closer</td>\n",
       "      <td>teganandsara</td>\n",
       "      <td>♥edmlove2020</td>\n",
       "      <td>edm</td>\n",
       "      <td>progressiveelectrohouse</td>\n",
       "    </tr>\n",
       "    <tr>\n",
       "      <th>32830</th>\n",
       "      <td>Sweet Surrender</td>\n",
       "      <td>starkillers</td>\n",
       "      <td>♥edmlove2020</td>\n",
       "      <td>edm</td>\n",
       "      <td>progressiveelectrohouse</td>\n",
       "    </tr>\n",
       "    <tr>\n",
       "      <th>32831</th>\n",
       "      <td>Only For You</td>\n",
       "      <td>matzo</td>\n",
       "      <td>♥edmlove2020</td>\n",
       "      <td>edm</td>\n",
       "      <td>progressiveelectrohouse</td>\n",
       "    </tr>\n",
       "    <tr>\n",
       "      <th>32832</th>\n",
       "      <td>Typhoon</td>\n",
       "      <td>juliancalor</td>\n",
       "      <td>♥edmlove2020</td>\n",
       "      <td>edm</td>\n",
       "      <td>progressiveelectrohouse</td>\n",
       "    </tr>\n",
       "  </tbody>\n",
       "</table>\n",
       "<p>32833 rows × 5 columns</p>\n",
       "</div>"
      ],
      "text/plain": [
       "                              track_name     track_artist playlist_name  \\\n",
       "0      I Don't Care (with Justin Bieber)        edsheeran      popremix   \n",
       "1                               Memories          maroon5      popremix   \n",
       "2                           All the Time      zaralarsson      popremix   \n",
       "3                          Call You Mine  thechainsmokers      popremix   \n",
       "4                      Someone You Loved     lewiscapaldi      popremix   \n",
       "...                                  ...              ...           ...   \n",
       "32828                     City Of Lights       lush&simon  ♥edmlove2020   \n",
       "32829                             Closer     teganandsara  ♥edmlove2020   \n",
       "32830                    Sweet Surrender      starkillers  ♥edmlove2020   \n",
       "32831                       Only For You            matzo  ♥edmlove2020   \n",
       "32832                            Typhoon      juliancalor  ♥edmlove2020   \n",
       "\n",
       "      playlist_genre        playlist_subgenre  \n",
       "0                pop                 dancepop  \n",
       "1                pop                 dancepop  \n",
       "2                pop                 dancepop  \n",
       "3                pop                 dancepop  \n",
       "4                pop                 dancepop  \n",
       "...              ...                      ...  \n",
       "32828            edm  progressiveelectrohouse  \n",
       "32829            edm  progressiveelectrohouse  \n",
       "32830            edm  progressiveelectrohouse  \n",
       "32831            edm  progressiveelectrohouse  \n",
       "32832            edm  progressiveelectrohouse  \n",
       "\n",
       "[32833 rows x 5 columns]"
      ]
     },
     "execution_count": 23,
     "metadata": {},
     "output_type": "execute_result"
    }
   ],
   "source": [
    "songs"
   ]
  },
  {
   "cell_type": "code",
   "execution_count": 24,
   "metadata": {},
   "outputs": [
    {
     "name": "stdout",
     "output_type": "stream",
     "text": [
      "I Don't Care (with Justin Bieber)\n"
     ]
    }
   ],
   "source": [
    "print(check_track_name(\"I Don't Care (with Justin Bieber) - Loud Luxury Remix\"))"
   ]
  },
  {
   "cell_type": "code",
   "execution_count": 25,
   "metadata": {},
   "outputs": [],
   "source": [
    "songs['tags'] = songs['track_artist'] + \" \" + songs['playlist_name'] + \" \" + songs['playlist_genre'] + \" \" + songs['playlist_subgenre']"
   ]
  },
  {
   "cell_type": "code",
   "execution_count": 26,
   "metadata": {},
   "outputs": [],
   "source": [
    "main_df = songs[['track_name', 'tags']]"
   ]
  },
  {
   "cell_type": "code",
   "execution_count": 27,
   "metadata": {},
   "outputs": [
    {
     "name": "stderr",
     "output_type": "stream",
     "text": [
      "/tmp/ipykernel_15368/2348058845.py:1: SettingWithCopyWarning: \n",
      "A value is trying to be set on a copy of a slice from a DataFrame.\n",
      "Try using .loc[row_indexer,col_indexer] = value instead\n",
      "\n",
      "See the caveats in the documentation: https://pandas.pydata.org/pandas-docs/stable/user_guide/indexing.html#returning-a-view-versus-a-copy\n",
      "  main_df['track_name'] = main_df['track_name'].drop_duplicates()\n"
     ]
    }
   ],
   "source": [
    "main_df['track_name'] = main_df['track_name'].drop_duplicates()"
   ]
  },
  {
   "cell_type": "code",
   "execution_count": 28,
   "metadata": {},
   "outputs": [
    {
     "data": {
      "text/html": [
       "<div>\n",
       "<style scoped>\n",
       "    .dataframe tbody tr th:only-of-type {\n",
       "        vertical-align: middle;\n",
       "    }\n",
       "\n",
       "    .dataframe tbody tr th {\n",
       "        vertical-align: top;\n",
       "    }\n",
       "\n",
       "    .dataframe thead th {\n",
       "        text-align: right;\n",
       "    }\n",
       "</style>\n",
       "<table border=\"1\" class=\"dataframe\">\n",
       "  <thead>\n",
       "    <tr style=\"text-align: right;\">\n",
       "      <th></th>\n",
       "      <th>track_name</th>\n",
       "      <th>tags</th>\n",
       "    </tr>\n",
       "  </thead>\n",
       "  <tbody>\n",
       "    <tr>\n",
       "      <th>0</th>\n",
       "      <td>I Don't Care (with Justin Bieber)</td>\n",
       "      <td>edsheeran popremix pop dancepop</td>\n",
       "    </tr>\n",
       "    <tr>\n",
       "      <th>1</th>\n",
       "      <td>Memories</td>\n",
       "      <td>maroon5 popremix pop dancepop</td>\n",
       "    </tr>\n",
       "    <tr>\n",
       "      <th>2</th>\n",
       "      <td>All the Time</td>\n",
       "      <td>zaralarsson popremix pop dancepop</td>\n",
       "    </tr>\n",
       "    <tr>\n",
       "      <th>3</th>\n",
       "      <td>Call You Mine</td>\n",
       "      <td>thechainsmokers popremix pop dancepop</td>\n",
       "    </tr>\n",
       "    <tr>\n",
       "      <th>4</th>\n",
       "      <td>Someone You Loved</td>\n",
       "      <td>lewiscapaldi popremix pop dancepop</td>\n",
       "    </tr>\n",
       "  </tbody>\n",
       "</table>\n",
       "</div>"
      ],
      "text/plain": [
       "                          track_name                                   tags\n",
       "0  I Don't Care (with Justin Bieber)        edsheeran popremix pop dancepop\n",
       "1                           Memories          maroon5 popremix pop dancepop\n",
       "2                       All the Time      zaralarsson popremix pop dancepop\n",
       "3                      Call You Mine  thechainsmokers popremix pop dancepop\n",
       "4                  Someone You Loved     lewiscapaldi popremix pop dancepop"
      ]
     },
     "execution_count": 28,
     "metadata": {},
     "output_type": "execute_result"
    }
   ],
   "source": [
    "main_df.head()"
   ]
  },
  {
   "cell_type": "code",
   "execution_count": 29,
   "metadata": {},
   "outputs": [
    {
     "data": {
      "text/plain": [
       "'edsheeran popremix pop dancepop'"
      ]
     },
     "execution_count": 29,
     "metadata": {},
     "output_type": "execute_result"
    }
   ],
   "source": [
    "main_df['tags'][0]"
   ]
  },
  {
   "cell_type": "code",
   "execution_count": 30,
   "metadata": {},
   "outputs": [
    {
     "data": {
      "text/plain": [
       "(32833, 2)"
      ]
     },
     "execution_count": 30,
     "metadata": {},
     "output_type": "execute_result"
    }
   ],
   "source": [
    "main_df.shape"
   ]
  },
  {
   "cell_type": "code",
   "execution_count": 31,
   "metadata": {},
   "outputs": [],
   "source": [
    "from sklearn.feature_extraction.text import CountVectorizer\n",
    "cv = CountVectorizer(max_features=2000, stop_words='english')"
   ]
  },
  {
   "cell_type": "code",
   "execution_count": 32,
   "metadata": {},
   "outputs": [],
   "source": [
    "vectors = cv.fit_transform(main_df['tags']).toarray()"
   ]
  },
  {
   "cell_type": "code",
   "execution_count": 33,
   "metadata": {},
   "outputs": [
    {
     "data": {
      "text/plain": [
       "array(['edsheeran popremix pop dancepop', 'maroon5 popremix pop dancepop',\n",
       "       'zaralarsson popremix pop dancepop', ...,\n",
       "       'starkillers ♥edmlove2020 edm progressiveelectrohouse',\n",
       "       'matzo ♥edmlove2020 edm progressiveelectrohouse',\n",
       "       'juliancalor ♥edmlove2020 edm progressiveelectrohouse'],\n",
       "      dtype=object)"
      ]
     },
     "execution_count": 33,
     "metadata": {},
     "output_type": "execute_result"
    }
   ],
   "source": [
    "main_df['tags'].unique()"
   ]
  },
  {
   "cell_type": "code",
   "execution_count": 34,
   "metadata": {},
   "outputs": [
    {
     "data": {
      "text/plain": [
       "array(['00', '00shiphop', '100', ..., 'رقص', '②⓪①⑨mixed', 'オメガトライブ'],\n",
       "      dtype=object)"
      ]
     },
     "execution_count": 34,
     "metadata": {},
     "output_type": "execute_result"
    }
   ],
   "source": [
    "cv.get_feature_names_out()"
   ]
  },
  {
   "cell_type": "code",
   "execution_count": 35,
   "metadata": {},
   "outputs": [],
   "source": [
    "from sklearn.metrics.pairwise import cosine_similarity"
   ]
  },
  {
   "cell_type": "code",
   "execution_count": 36,
   "metadata": {},
   "outputs": [],
   "source": [
    "similirarity_mat = cosine_similarity(vectors)"
   ]
  },
  {
   "cell_type": "code",
   "execution_count": null,
   "metadata": {},
   "outputs": [],
   "source": [
    "def reccomended(movie_name):\n",
    "    idx = main_df[main_df['track_name'] == movie_name].index[0]\n",
    "    dist = similirarity_mat[idx]\n",
    "    reccomended_list = sorted(enumerate(dist), reverse=True, key=lambda x : x[1])[1:10]\n",
    "\n",
    "    return [main_df['track_name'][item[0]] for item in reccomended_list]\n",
    "    "
   ]
  },
  {
   "cell_type": "code",
   "execution_count": null,
   "metadata": {},
   "outputs": [
    {
     "name": "stdout",
     "output_type": "stream",
     "text": [
      "nan\n",
      "Against the World\n",
      "If I Fall\n",
      "Don't Hold Us\n",
      "Never Fade\n",
      "All You\n",
      "Rising Like The Sun\n",
      "Helium\n",
      "Utopia\n"
     ]
    }
   ],
   "source": [
    "for song in reccomended(\"Call You Mine\"):\n",
    "    print(song)"
   ]
  },
  {
   "cell_type": "code",
   "execution_count": null,
   "metadata": {},
   "outputs": [],
   "source": []
  }
 ],
 "metadata": {
  "kernelspec": {
   "display_name": "Python 3",
   "language": "python",
   "name": "python3"
  },
  "language_info": {
   "codemirror_mode": {
    "name": "ipython",
    "version": 3
   },
   "file_extension": ".py",
   "mimetype": "text/x-python",
   "name": "python",
   "nbconvert_exporter": "python",
   "pygments_lexer": "ipython3",
   "version": "3.10.12"
  }
 },
 "nbformat": 4,
 "nbformat_minor": 2
}
