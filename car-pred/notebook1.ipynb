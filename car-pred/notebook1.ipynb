{
 "cells": [
  {
   "cell_type": "code",
   "execution_count": 223,
   "metadata": {},
   "outputs": [],
   "source": [
    "import pandas as pd\n",
    "import numpy as np \n",
    "from sklearn.model_selection import train_test_split\n",
    "from sklearn.linear_model import LinearRegression"
   ]
  },
  {
   "cell_type": "code",
   "execution_count": 224,
   "metadata": {},
   "outputs": [],
   "source": [
    "cars = pd.read_csv(\"./car.csv\")"
   ]
  },
  {
   "cell_type": "code",
   "execution_count": 225,
   "metadata": {},
   "outputs": [
    {
     "name": "stdout",
     "output_type": "stream",
     "text": [
      "<class 'pandas.core.frame.DataFrame'>\n",
      "RangeIndex: 117927 entries, 0 to 117926\n",
      "Data columns (total 11 columns):\n",
      " #   Column           Non-Null Count   Dtype \n",
      "---  ------           --------------   ----- \n",
      " 0   Unnamed: 0       117927 non-null  int64 \n",
      " 1   mark             117927 non-null  object\n",
      " 2   model            117927 non-null  object\n",
      " 3   generation_name  87842 non-null   object\n",
      " 4   year             117927 non-null  int64 \n",
      " 5   mileage          117927 non-null  int64 \n",
      " 6   vol_engine       117927 non-null  int64 \n",
      " 7   fuel             117927 non-null  object\n",
      " 8   city             117927 non-null  object\n",
      " 9   province         117927 non-null  object\n",
      " 10  price            117927 non-null  int64 \n",
      "dtypes: int64(5), object(6)\n",
      "memory usage: 9.9+ MB\n"
     ]
    }
   ],
   "source": [
    "cars.info()"
   ]
  },
  {
   "cell_type": "code",
   "execution_count": 226,
   "metadata": {},
   "outputs": [
    {
     "data": {
      "text/plain": [
       "Unnamed: 0             0\n",
       "mark                   0\n",
       "model                  0\n",
       "generation_name    30085\n",
       "year                   0\n",
       "mileage                0\n",
       "vol_engine             0\n",
       "fuel                   0\n",
       "city                   0\n",
       "province               0\n",
       "price                  0\n",
       "dtype: int64"
      ]
     },
     "execution_count": 226,
     "metadata": {},
     "output_type": "execute_result"
    }
   ],
   "source": [
    "cars.isnull().sum()"
   ]
  },
  {
   "cell_type": "code",
   "execution_count": 227,
   "metadata": {},
   "outputs": [],
   "source": [
    "cars.drop(columns=['generation_name'], axis=1, inplace=True)"
   ]
  },
  {
   "cell_type": "code",
   "execution_count": 228,
   "metadata": {},
   "outputs": [
    {
     "data": {
      "text/html": [
       "<div>\n",
       "<style scoped>\n",
       "    .dataframe tbody tr th:only-of-type {\n",
       "        vertical-align: middle;\n",
       "    }\n",
       "\n",
       "    .dataframe tbody tr th {\n",
       "        vertical-align: top;\n",
       "    }\n",
       "\n",
       "    .dataframe thead th {\n",
       "        text-align: right;\n",
       "    }\n",
       "</style>\n",
       "<table border=\"1\" class=\"dataframe\">\n",
       "  <thead>\n",
       "    <tr style=\"text-align: right;\">\n",
       "      <th></th>\n",
       "      <th>Unnamed: 0</th>\n",
       "      <th>mark</th>\n",
       "      <th>model</th>\n",
       "      <th>year</th>\n",
       "      <th>mileage</th>\n",
       "      <th>vol_engine</th>\n",
       "      <th>fuel</th>\n",
       "      <th>city</th>\n",
       "      <th>province</th>\n",
       "      <th>price</th>\n",
       "    </tr>\n",
       "  </thead>\n",
       "  <tbody>\n",
       "    <tr>\n",
       "      <th>0</th>\n",
       "      <td>0</td>\n",
       "      <td>opel</td>\n",
       "      <td>combo</td>\n",
       "      <td>2015</td>\n",
       "      <td>139568</td>\n",
       "      <td>1248</td>\n",
       "      <td>Diesel</td>\n",
       "      <td>Janki</td>\n",
       "      <td>Mazowieckie</td>\n",
       "      <td>35900</td>\n",
       "    </tr>\n",
       "    <tr>\n",
       "      <th>1</th>\n",
       "      <td>1</td>\n",
       "      <td>opel</td>\n",
       "      <td>combo</td>\n",
       "      <td>2018</td>\n",
       "      <td>31991</td>\n",
       "      <td>1499</td>\n",
       "      <td>Diesel</td>\n",
       "      <td>Katowice</td>\n",
       "      <td>Śląskie</td>\n",
       "      <td>78501</td>\n",
       "    </tr>\n",
       "    <tr>\n",
       "      <th>2</th>\n",
       "      <td>2</td>\n",
       "      <td>opel</td>\n",
       "      <td>combo</td>\n",
       "      <td>2015</td>\n",
       "      <td>278437</td>\n",
       "      <td>1598</td>\n",
       "      <td>Diesel</td>\n",
       "      <td>Brzeg</td>\n",
       "      <td>Opolskie</td>\n",
       "      <td>27000</td>\n",
       "    </tr>\n",
       "    <tr>\n",
       "      <th>3</th>\n",
       "      <td>3</td>\n",
       "      <td>opel</td>\n",
       "      <td>combo</td>\n",
       "      <td>2016</td>\n",
       "      <td>47600</td>\n",
       "      <td>1248</td>\n",
       "      <td>Diesel</td>\n",
       "      <td>Korfantów</td>\n",
       "      <td>Opolskie</td>\n",
       "      <td>30800</td>\n",
       "    </tr>\n",
       "    <tr>\n",
       "      <th>4</th>\n",
       "      <td>4</td>\n",
       "      <td>opel</td>\n",
       "      <td>combo</td>\n",
       "      <td>2014</td>\n",
       "      <td>103000</td>\n",
       "      <td>1400</td>\n",
       "      <td>CNG</td>\n",
       "      <td>Tarnowskie Góry</td>\n",
       "      <td>Śląskie</td>\n",
       "      <td>35900</td>\n",
       "    </tr>\n",
       "  </tbody>\n",
       "</table>\n",
       "</div>"
      ],
      "text/plain": [
       "   Unnamed: 0  mark  model  year  mileage  vol_engine    fuel  \\\n",
       "0           0  opel  combo  2015   139568        1248  Diesel   \n",
       "1           1  opel  combo  2018    31991        1499  Diesel   \n",
       "2           2  opel  combo  2015   278437        1598  Diesel   \n",
       "3           3  opel  combo  2016    47600        1248  Diesel   \n",
       "4           4  opel  combo  2014   103000        1400     CNG   \n",
       "\n",
       "              city     province  price  \n",
       "0            Janki  Mazowieckie  35900  \n",
       "1         Katowice      Śląskie  78501  \n",
       "2            Brzeg     Opolskie  27000  \n",
       "3        Korfantów     Opolskie  30800  \n",
       "4  Tarnowskie Góry      Śląskie  35900  "
      ]
     },
     "execution_count": 228,
     "metadata": {},
     "output_type": "execute_result"
    }
   ],
   "source": [
    "cars.head()"
   ]
  },
  {
   "cell_type": "code",
   "execution_count": 229,
   "metadata": {},
   "outputs": [],
   "source": [
    "cars = cars.dropna()"
   ]
  },
  {
   "cell_type": "code",
   "execution_count": 230,
   "metadata": {},
   "outputs": [
    {
     "name": "stdout",
     "output_type": "stream",
     "text": [
      "{'CNG': 0, 'Diesel': 1, 'Electric': 2, 'Gasoline': 3, 'Hybrid': 4, 'LPG': 5}\n"
     ]
    }
   ],
   "source": [
    "fuel_dict = {}\n",
    "for index, item in enumerate(pd.get_dummies(cars['fuel']).columns) :\n",
    "    fuel_dict[item] = index\n",
    "\n",
    "print(fuel_dict)"
   ]
  },
  {
   "cell_type": "code",
   "execution_count": 231,
   "metadata": {},
   "outputs": [],
   "source": [
    "cars['fuel'].replace(fuel_dict, inplace=True)"
   ]
  },
  {
   "cell_type": "code",
   "execution_count": 232,
   "metadata": {},
   "outputs": [
    {
     "data": {
      "text/html": [
       "<div>\n",
       "<style scoped>\n",
       "    .dataframe tbody tr th:only-of-type {\n",
       "        vertical-align: middle;\n",
       "    }\n",
       "\n",
       "    .dataframe tbody tr th {\n",
       "        vertical-align: top;\n",
       "    }\n",
       "\n",
       "    .dataframe thead th {\n",
       "        text-align: right;\n",
       "    }\n",
       "</style>\n",
       "<table border=\"1\" class=\"dataframe\">\n",
       "  <thead>\n",
       "    <tr style=\"text-align: right;\">\n",
       "      <th></th>\n",
       "      <th>Unnamed: 0</th>\n",
       "      <th>mark</th>\n",
       "      <th>model</th>\n",
       "      <th>year</th>\n",
       "      <th>mileage</th>\n",
       "      <th>vol_engine</th>\n",
       "      <th>fuel</th>\n",
       "      <th>city</th>\n",
       "      <th>province</th>\n",
       "      <th>price</th>\n",
       "    </tr>\n",
       "  </thead>\n",
       "  <tbody>\n",
       "    <tr>\n",
       "      <th>0</th>\n",
       "      <td>0</td>\n",
       "      <td>opel</td>\n",
       "      <td>combo</td>\n",
       "      <td>2015</td>\n",
       "      <td>139568</td>\n",
       "      <td>1248</td>\n",
       "      <td>1</td>\n",
       "      <td>Janki</td>\n",
       "      <td>Mazowieckie</td>\n",
       "      <td>35900</td>\n",
       "    </tr>\n",
       "    <tr>\n",
       "      <th>1</th>\n",
       "      <td>1</td>\n",
       "      <td>opel</td>\n",
       "      <td>combo</td>\n",
       "      <td>2018</td>\n",
       "      <td>31991</td>\n",
       "      <td>1499</td>\n",
       "      <td>1</td>\n",
       "      <td>Katowice</td>\n",
       "      <td>Śląskie</td>\n",
       "      <td>78501</td>\n",
       "    </tr>\n",
       "    <tr>\n",
       "      <th>2</th>\n",
       "      <td>2</td>\n",
       "      <td>opel</td>\n",
       "      <td>combo</td>\n",
       "      <td>2015</td>\n",
       "      <td>278437</td>\n",
       "      <td>1598</td>\n",
       "      <td>1</td>\n",
       "      <td>Brzeg</td>\n",
       "      <td>Opolskie</td>\n",
       "      <td>27000</td>\n",
       "    </tr>\n",
       "    <tr>\n",
       "      <th>3</th>\n",
       "      <td>3</td>\n",
       "      <td>opel</td>\n",
       "      <td>combo</td>\n",
       "      <td>2016</td>\n",
       "      <td>47600</td>\n",
       "      <td>1248</td>\n",
       "      <td>1</td>\n",
       "      <td>Korfantów</td>\n",
       "      <td>Opolskie</td>\n",
       "      <td>30800</td>\n",
       "    </tr>\n",
       "    <tr>\n",
       "      <th>4</th>\n",
       "      <td>4</td>\n",
       "      <td>opel</td>\n",
       "      <td>combo</td>\n",
       "      <td>2014</td>\n",
       "      <td>103000</td>\n",
       "      <td>1400</td>\n",
       "      <td>0</td>\n",
       "      <td>Tarnowskie Góry</td>\n",
       "      <td>Śląskie</td>\n",
       "      <td>35900</td>\n",
       "    </tr>\n",
       "  </tbody>\n",
       "</table>\n",
       "</div>"
      ],
      "text/plain": [
       "   Unnamed: 0  mark  model  year  mileage  vol_engine  fuel             city  \\\n",
       "0           0  opel  combo  2015   139568        1248     1            Janki   \n",
       "1           1  opel  combo  2018    31991        1499     1         Katowice   \n",
       "2           2  opel  combo  2015   278437        1598     1            Brzeg   \n",
       "3           3  opel  combo  2016    47600        1248     1        Korfantów   \n",
       "4           4  opel  combo  2014   103000        1400     0  Tarnowskie Góry   \n",
       "\n",
       "      province  price  \n",
       "0  Mazowieckie  35900  \n",
       "1      Śląskie  78501  \n",
       "2     Opolskie  27000  \n",
       "3     Opolskie  30800  \n",
       "4      Śląskie  35900  "
      ]
     },
     "execution_count": 232,
     "metadata": {},
     "output_type": "execute_result"
    }
   ],
   "source": [
    "cars.head()"
   ]
  },
  {
   "cell_type": "markdown",
   "metadata": {},
   "source": [
    "Column Selection"
   ]
  },
  {
   "cell_type": "code",
   "execution_count": 233,
   "metadata": {},
   "outputs": [],
   "source": [
    "# milieage\n",
    "# vol_engine\n",
    "# price\n",
    "# fuel"
   ]
  },
  {
   "cell_type": "code",
   "execution_count": 234,
   "metadata": {},
   "outputs": [],
   "source": [
    "working_df = cars[['mileage','price','vol_engine']]"
   ]
  },
  {
   "cell_type": "code",
   "execution_count": 235,
   "metadata": {},
   "outputs": [],
   "source": [
    "X = np.array(working_df[['mileage','vol_engine']])"
   ]
  },
  {
   "cell_type": "code",
   "execution_count": 236,
   "metadata": {},
   "outputs": [],
   "source": [
    "y = np.array(working_df['price'])"
   ]
  },
  {
   "cell_type": "code",
   "execution_count": 237,
   "metadata": {},
   "outputs": [],
   "source": [
    "X_train, x_test, y_train, y_test = train_test_split(X,y, test_size=0.3)"
   ]
  },
  {
   "cell_type": "code",
   "execution_count": 238,
   "metadata": {},
   "outputs": [
    {
     "data": {
      "text/plain": [
       "array([[ 64000,   1591],\n",
       "       [     1,   1199],\n",
       "       [109290,   1198],\n",
       "       ...,\n",
       "       [ 72300,   4395],\n",
       "       [     5,   1998],\n",
       "       [225000,   1984]])"
      ]
     },
     "execution_count": 238,
     "metadata": {},
     "output_type": "execute_result"
    }
   ],
   "source": [
    "X_train"
   ]
  },
  {
   "cell_type": "code",
   "execution_count": 239,
   "metadata": {},
   "outputs": [
    {
     "data": {
      "text/plain": [
       "array([ 72900, 129900,  17900, ..., 259000, 320700,  12500])"
      ]
     },
     "execution_count": 239,
     "metadata": {},
     "output_type": "execute_result"
    }
   ],
   "source": [
    "y_train"
   ]
  },
  {
   "cell_type": "code",
   "execution_count": 240,
   "metadata": {},
   "outputs": [],
   "source": [
    "model = LinearRegression()"
   ]
  },
  {
   "cell_type": "code",
   "execution_count": 241,
   "metadata": {},
   "outputs": [
    {
     "data": {
      "text/html": [
       "<style>#sk-container-id-10 {color: black;}#sk-container-id-10 pre{padding: 0;}#sk-container-id-10 div.sk-toggleable {background-color: white;}#sk-container-id-10 label.sk-toggleable__label {cursor: pointer;display: block;width: 100%;margin-bottom: 0;padding: 0.3em;box-sizing: border-box;text-align: center;}#sk-container-id-10 label.sk-toggleable__label-arrow:before {content: \"▸\";float: left;margin-right: 0.25em;color: #696969;}#sk-container-id-10 label.sk-toggleable__label-arrow:hover:before {color: black;}#sk-container-id-10 div.sk-estimator:hover label.sk-toggleable__label-arrow:before {color: black;}#sk-container-id-10 div.sk-toggleable__content {max-height: 0;max-width: 0;overflow: hidden;text-align: left;background-color: #f0f8ff;}#sk-container-id-10 div.sk-toggleable__content pre {margin: 0.2em;color: black;border-radius: 0.25em;background-color: #f0f8ff;}#sk-container-id-10 input.sk-toggleable__control:checked~div.sk-toggleable__content {max-height: 200px;max-width: 100%;overflow: auto;}#sk-container-id-10 input.sk-toggleable__control:checked~label.sk-toggleable__label-arrow:before {content: \"▾\";}#sk-container-id-10 div.sk-estimator input.sk-toggleable__control:checked~label.sk-toggleable__label {background-color: #d4ebff;}#sk-container-id-10 div.sk-label input.sk-toggleable__control:checked~label.sk-toggleable__label {background-color: #d4ebff;}#sk-container-id-10 input.sk-hidden--visually {border: 0;clip: rect(1px 1px 1px 1px);clip: rect(1px, 1px, 1px, 1px);height: 1px;margin: -1px;overflow: hidden;padding: 0;position: absolute;width: 1px;}#sk-container-id-10 div.sk-estimator {font-family: monospace;background-color: #f0f8ff;border: 1px dotted black;border-radius: 0.25em;box-sizing: border-box;margin-bottom: 0.5em;}#sk-container-id-10 div.sk-estimator:hover {background-color: #d4ebff;}#sk-container-id-10 div.sk-parallel-item::after {content: \"\";width: 100%;border-bottom: 1px solid gray;flex-grow: 1;}#sk-container-id-10 div.sk-label:hover label.sk-toggleable__label {background-color: #d4ebff;}#sk-container-id-10 div.sk-serial::before {content: \"\";position: absolute;border-left: 1px solid gray;box-sizing: border-box;top: 0;bottom: 0;left: 50%;z-index: 0;}#sk-container-id-10 div.sk-serial {display: flex;flex-direction: column;align-items: center;background-color: white;padding-right: 0.2em;padding-left: 0.2em;position: relative;}#sk-container-id-10 div.sk-item {position: relative;z-index: 1;}#sk-container-id-10 div.sk-parallel {display: flex;align-items: stretch;justify-content: center;background-color: white;position: relative;}#sk-container-id-10 div.sk-item::before, #sk-container-id-10 div.sk-parallel-item::before {content: \"\";position: absolute;border-left: 1px solid gray;box-sizing: border-box;top: 0;bottom: 0;left: 50%;z-index: -1;}#sk-container-id-10 div.sk-parallel-item {display: flex;flex-direction: column;z-index: 1;position: relative;background-color: white;}#sk-container-id-10 div.sk-parallel-item:first-child::after {align-self: flex-end;width: 50%;}#sk-container-id-10 div.sk-parallel-item:last-child::after {align-self: flex-start;width: 50%;}#sk-container-id-10 div.sk-parallel-item:only-child::after {width: 0;}#sk-container-id-10 div.sk-dashed-wrapped {border: 1px dashed gray;margin: 0 0.4em 0.5em 0.4em;box-sizing: border-box;padding-bottom: 0.4em;background-color: white;}#sk-container-id-10 div.sk-label label {font-family: monospace;font-weight: bold;display: inline-block;line-height: 1.2em;}#sk-container-id-10 div.sk-label-container {text-align: center;}#sk-container-id-10 div.sk-container {/* jupyter's `normalize.less` sets `[hidden] { display: none; }` but bootstrap.min.css set `[hidden] { display: none !important; }` so we also need the `!important` here to be able to override the default hidden behavior on the sphinx rendered scikit-learn.org. See: https://github.com/scikit-learn/scikit-learn/issues/21755 */display: inline-block !important;position: relative;}#sk-container-id-10 div.sk-text-repr-fallback {display: none;}</style><div id=\"sk-container-id-10\" class=\"sk-top-container\"><div class=\"sk-text-repr-fallback\"><pre>LinearRegression()</pre><b>In a Jupyter environment, please rerun this cell to show the HTML representation or trust the notebook. <br />On GitHub, the HTML representation is unable to render, please try loading this page with nbviewer.org.</b></div><div class=\"sk-container\" hidden><div class=\"sk-item\"><div class=\"sk-estimator sk-toggleable\"><input class=\"sk-toggleable__control sk-hidden--visually\" id=\"sk-estimator-id-10\" type=\"checkbox\" checked><label for=\"sk-estimator-id-10\" class=\"sk-toggleable__label sk-toggleable__label-arrow\">LinearRegression</label><div class=\"sk-toggleable__content\"><pre>LinearRegression()</pre></div></div></div></div></div>"
      ],
      "text/plain": [
       "LinearRegression()"
      ]
     },
     "execution_count": 241,
     "metadata": {},
     "output_type": "execute_result"
    }
   ],
   "source": [
    "model.fit(X_train, y_train)"
   ]
  },
  {
   "cell_type": "code",
   "execution_count": 251,
   "metadata": {},
   "outputs": [],
   "source": [
    "predicted = model.predict(x_test)"
   ]
  },
  {
   "cell_type": "code",
   "execution_count": 243,
   "metadata": {},
   "outputs": [
    {
     "data": {
      "text/plain": [
       "array([-0.57668945, 56.32677785])"
      ]
     },
     "execution_count": 243,
     "metadata": {},
     "output_type": "execute_result"
    }
   ],
   "source": [
    "model.coef_"
   ]
  },
  {
   "cell_type": "code",
   "execution_count": 244,
   "metadata": {},
   "outputs": [
    {
     "data": {
      "text/plain": [
       "49332.19475875115"
      ]
     },
     "execution_count": 244,
     "metadata": {},
     "output_type": "execute_result"
    }
   ],
   "source": [
    "model.intercept_"
   ]
  },
  {
   "cell_type": "code",
   "execution_count": 245,
   "metadata": {},
   "outputs": [],
   "source": [
    "x1 = np.array(working_df['mileage'])\n",
    "x2 = np.array(working_df['vol_engine'])"
   ]
  },
  {
   "cell_type": "code",
   "execution_count": 246,
   "metadata": {},
   "outputs": [],
   "source": [
    "y = model.coef_[0]*x1 + model.coef_[1]*x2 + model.intercept_"
   ]
  },
  {
   "cell_type": "code",
   "execution_count": 247,
   "metadata": {},
   "outputs": [
    {
     "data": {
      "text/plain": [
       "array([ 39140.62032955, 115317.16255516, -21229.29468379, ...,\n",
       "       112086.05125413,  59895.65601024,  51233.7804681 ])"
      ]
     },
     "execution_count": 247,
     "metadata": {},
     "output_type": "execute_result"
    }
   ],
   "source": [
    "y"
   ]
  },
  {
   "cell_type": "code",
   "execution_count": 257,
   "metadata": {},
   "outputs": [
    {
     "data": {
      "text/plain": [
       "{'fit_intercept': True,\n",
       " 'copy_X': True,\n",
       " 'n_jobs': None,\n",
       " 'positive': False,\n",
       " 'n_features_in_': 2,\n",
       " 'coef_': array([-0.57668945, 56.32677785]),\n",
       " 'rank_': 2,\n",
       " 'singular_': array([26594135.63794484,   182037.92229834]),\n",
       " 'intercept_': 49332.19475875115}"
      ]
     },
     "execution_count": 257,
     "metadata": {},
     "output_type": "execute_result"
    }
   ],
   "source": [
    "model.__dict__"
   ]
  },
  {
   "cell_type": "code",
   "execution_count": null,
   "metadata": {},
   "outputs": [],
   "source": []
  }
 ],
 "metadata": {
  "kernelspec": {
   "display_name": "Python 3",
   "language": "python",
   "name": "python3"
  },
  "language_info": {
   "codemirror_mode": {
    "name": "ipython",
    "version": 3
   },
   "file_extension": ".py",
   "mimetype": "text/x-python",
   "name": "python",
   "nbconvert_exporter": "python",
   "pygments_lexer": "ipython3",
   "version": "3.10.12"
  }
 },
 "nbformat": 4,
 "nbformat_minor": 2
}
