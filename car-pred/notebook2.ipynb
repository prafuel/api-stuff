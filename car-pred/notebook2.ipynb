{
 "cells": [
  {
   "cell_type": "code",
   "execution_count": 2,
   "metadata": {},
   "outputs": [],
   "source": [
    "import pandas as pd\n",
    "import numpy as np"
   ]
  },
  {
   "cell_type": "code",
   "execution_count": 3,
   "metadata": {},
   "outputs": [],
   "source": [
    "cars = pd.read_csv(\"./car.csv\")"
   ]
  },
  {
   "cell_type": "code",
   "execution_count": 4,
   "metadata": {},
   "outputs": [
    {
     "data": {
      "text/plain": [
       "Unnamed: 0             0\n",
       "mark                   0\n",
       "model                  0\n",
       "generation_name    30085\n",
       "year                   0\n",
       "mileage                0\n",
       "vol_engine             0\n",
       "fuel                   0\n",
       "city                   0\n",
       "province               0\n",
       "price                  0\n",
       "dtype: int64"
      ]
     },
     "execution_count": 4,
     "metadata": {},
     "output_type": "execute_result"
    }
   ],
   "source": [
    "cars.isnull().sum()"
   ]
  },
  {
   "cell_type": "code",
   "execution_count": 5,
   "metadata": {},
   "outputs": [],
   "source": [
    "cars.drop(columns=['generation_name'], inplace=True)"
   ]
  },
  {
   "cell_type": "code",
   "execution_count": 6,
   "metadata": {},
   "outputs": [
    {
     "data": {
      "text/html": [
       "<div>\n",
       "<style scoped>\n",
       "    .dataframe tbody tr th:only-of-type {\n",
       "        vertical-align: middle;\n",
       "    }\n",
       "\n",
       "    .dataframe tbody tr th {\n",
       "        vertical-align: top;\n",
       "    }\n",
       "\n",
       "    .dataframe thead th {\n",
       "        text-align: right;\n",
       "    }\n",
       "</style>\n",
       "<table border=\"1\" class=\"dataframe\">\n",
       "  <thead>\n",
       "    <tr style=\"text-align: right;\">\n",
       "      <th></th>\n",
       "      <th>Unnamed: 0</th>\n",
       "      <th>mark</th>\n",
       "      <th>model</th>\n",
       "      <th>year</th>\n",
       "      <th>mileage</th>\n",
       "      <th>vol_engine</th>\n",
       "      <th>fuel</th>\n",
       "      <th>city</th>\n",
       "      <th>province</th>\n",
       "      <th>price</th>\n",
       "    </tr>\n",
       "  </thead>\n",
       "  <tbody>\n",
       "    <tr>\n",
       "      <th>0</th>\n",
       "      <td>0</td>\n",
       "      <td>opel</td>\n",
       "      <td>combo</td>\n",
       "      <td>2015</td>\n",
       "      <td>139568</td>\n",
       "      <td>1248</td>\n",
       "      <td>Diesel</td>\n",
       "      <td>Janki</td>\n",
       "      <td>Mazowieckie</td>\n",
       "      <td>35900</td>\n",
       "    </tr>\n",
       "    <tr>\n",
       "      <th>1</th>\n",
       "      <td>1</td>\n",
       "      <td>opel</td>\n",
       "      <td>combo</td>\n",
       "      <td>2018</td>\n",
       "      <td>31991</td>\n",
       "      <td>1499</td>\n",
       "      <td>Diesel</td>\n",
       "      <td>Katowice</td>\n",
       "      <td>Śląskie</td>\n",
       "      <td>78501</td>\n",
       "    </tr>\n",
       "    <tr>\n",
       "      <th>2</th>\n",
       "      <td>2</td>\n",
       "      <td>opel</td>\n",
       "      <td>combo</td>\n",
       "      <td>2015</td>\n",
       "      <td>278437</td>\n",
       "      <td>1598</td>\n",
       "      <td>Diesel</td>\n",
       "      <td>Brzeg</td>\n",
       "      <td>Opolskie</td>\n",
       "      <td>27000</td>\n",
       "    </tr>\n",
       "    <tr>\n",
       "      <th>3</th>\n",
       "      <td>3</td>\n",
       "      <td>opel</td>\n",
       "      <td>combo</td>\n",
       "      <td>2016</td>\n",
       "      <td>47600</td>\n",
       "      <td>1248</td>\n",
       "      <td>Diesel</td>\n",
       "      <td>Korfantów</td>\n",
       "      <td>Opolskie</td>\n",
       "      <td>30800</td>\n",
       "    </tr>\n",
       "    <tr>\n",
       "      <th>4</th>\n",
       "      <td>4</td>\n",
       "      <td>opel</td>\n",
       "      <td>combo</td>\n",
       "      <td>2014</td>\n",
       "      <td>103000</td>\n",
       "      <td>1400</td>\n",
       "      <td>CNG</td>\n",
       "      <td>Tarnowskie Góry</td>\n",
       "      <td>Śląskie</td>\n",
       "      <td>35900</td>\n",
       "    </tr>\n",
       "  </tbody>\n",
       "</table>\n",
       "</div>"
      ],
      "text/plain": [
       "   Unnamed: 0  mark  model  year  mileage  vol_engine    fuel  \\\n",
       "0           0  opel  combo  2015   139568        1248  Diesel   \n",
       "1           1  opel  combo  2018    31991        1499  Diesel   \n",
       "2           2  opel  combo  2015   278437        1598  Diesel   \n",
       "3           3  opel  combo  2016    47600        1248  Diesel   \n",
       "4           4  opel  combo  2014   103000        1400     CNG   \n",
       "\n",
       "              city     province  price  \n",
       "0            Janki  Mazowieckie  35900  \n",
       "1         Katowice      Śląskie  78501  \n",
       "2            Brzeg     Opolskie  27000  \n",
       "3        Korfantów     Opolskie  30800  \n",
       "4  Tarnowskie Góry      Śląskie  35900  "
      ]
     },
     "execution_count": 6,
     "metadata": {},
     "output_type": "execute_result"
    }
   ],
   "source": [
    "cars.head()"
   ]
  },
  {
   "cell_type": "code",
   "execution_count": 7,
   "metadata": {},
   "outputs": [
    {
     "data": {
      "text/plain": [
       "Index(['alfa-romeo', 'audi', 'bmw', 'chevrolet', 'citroen', 'fiat', 'ford',\n",
       "       'honda', 'hyundai', 'kia', 'mazda', 'mercedes-benz', 'mini',\n",
       "       'mitsubishi', 'nissan', 'opel', 'peugeot', 'renault', 'seat', 'skoda',\n",
       "       'toyota', 'volkswagen', 'volvo'],\n",
       "      dtype='object')"
      ]
     },
     "execution_count": 7,
     "metadata": {},
     "output_type": "execute_result"
    }
   ],
   "source": [
    "pd.get_dummies(cars['mark']).columns"
   ]
  },
  {
   "cell_type": "code",
   "execution_count": 8,
   "metadata": {},
   "outputs": [],
   "source": [
    "def obj_to_numeric(col : pd.Series):\n",
    "    return_dict = {}\n",
    "    column = pd.get_dummies(col).columns\n",
    "\n",
    "    for index, key in enumerate(column):\n",
    "        return_dict[key] = index\n",
    "    print(return_dict)\n",
    "    return return_dict"
   ]
  },
  {
   "cell_type": "code",
   "execution_count": 9,
   "metadata": {},
   "outputs": [
    {
     "name": "stdout",
     "output_type": "stream",
     "text": [
      "{'alfa-romeo': 0, 'audi': 1, 'bmw': 2, 'chevrolet': 3, 'citroen': 4, 'fiat': 5, 'ford': 6, 'honda': 7, 'hyundai': 8, 'kia': 9, 'mazda': 10, 'mercedes-benz': 11, 'mini': 12, 'mitsubishi': 13, 'nissan': 14, 'opel': 15, 'peugeot': 16, 'renault': 17, 'seat': 18, 'skoda': 19, 'toyota': 20, 'volkswagen': 21, 'volvo': 22}\n"
     ]
    }
   ],
   "source": [
    "cars['mark'].replace(obj_to_numeric(cars['mark']), inplace=True)"
   ]
  },
  {
   "cell_type": "code",
   "execution_count": 10,
   "metadata": {},
   "outputs": [
    {
     "name": "stdout",
     "output_type": "stream",
     "text": [
      "{'CNG': 0, 'Diesel': 1, 'Electric': 2, 'Gasoline': 3, 'Hybrid': 4, 'LPG': 5}\n"
     ]
    }
   ],
   "source": [
    "cars['fuel'].replace(obj_to_numeric(cars['fuel']), inplace=True)"
   ]
  },
  {
   "cell_type": "code",
   "execution_count": 11,
   "metadata": {},
   "outputs": [
    {
     "name": "stdout",
     "output_type": "stream",
     "text": [
      "{'()': 0, 'Adamowizna': 1, 'Adamowo': 2, 'Adamusy': 3, 'Adamów': 4, 'Adamówka': 5, 'Albigowa': 6, 'Aleksandria': 7, 'Aleksandrowice': 8, 'Aleksandrów': 9, 'Aleksandrów Duży': 10, 'Aleksandrów Kujawski': 11, 'Aleksandrów Pierwszy': 12, 'Aleksandrów Łódzki': 13, 'Altanka': 14, 'Alwernia': 15, 'Andrespol': 16, 'Andrychów': 17, 'Andrzejów Duranowski': 18, 'Anielew': 19, 'Ankamaty': 20, 'Annopol': 21, 'Anonin': 22, 'Antoniew': 23, 'Antoniów': 24, 'Antoniówka': 25, 'Antonów': 26, 'Augustowo': 27, 'Augustów': 28, 'Augustówek': 29, 'Babiak': 30, 'Babica': 31, 'Babice': 32, 'Babice Nowe': 33, 'Babicha': 34, 'Babiec Piaseczny': 35, 'Babienica': 36, 'Babimost': 37, 'Babin': 38, 'Baborów': 39, 'Baboszewo': 40, 'Bachowice': 41, 'Bachórz': 42, 'Baciki Dalsze': 43, 'Baczków': 44, 'Bajerze': 45, 'Bakałarzewo': 46, 'Balice': 47, 'Baligród': 48, 'Banachy': 49, 'Bandrów Narodowy': 50, 'Banie': 51, 'Banie Mazurskie': 52, 'Banino': 53, 'Baniocha': 54, 'Baranowo': 55, 'Baranów': 56, 'Baranówka': 57, 'Barbarka': 58, 'Barcice': 59, 'Barcin': 60, 'Barcza': 61, 'Barczewo': 62, 'Bargłówka': 63, 'Barkowo': 64, 'Barlinek': 65, 'Bartkowa-Posadowa': 66, 'Bartkowice': 67, 'Bartków': 68, 'Bartniczka': 69, 'Bartniki': 70, 'Bartochów': 71, 'Bartoszyce': 72, 'Barwałd Górny': 73, 'Barwice': 74, 'Barycz': 75, 'Barłogi': 76, 'Baćkowice': 77, 'Bałtów': 78, 'Bażanowice': 79, 'Bedlno': 80, 'Bednary': 81, 'Bejsce': 82, 'Belno': 83, 'Benice': 84, 'Berest': 85, 'Berlin': 86, 'Berzyna': 87, 'Besko': 88, 'Bestwina': 89, 'Bestwinka': 90, 'Bezrzecze': 91, 'Bełchatów': 92, 'Bełk': 93, 'Bełżec': 94, 'Bełżyce': 95, 'Biadaszka': 96, 'Biadaszki': 97, 'Biadki': 98, 'Biała': 99, 'Biała Dolna': 100, 'Biała Druga': 101, 'Biała Niżna': 102, 'Biała Piska': 103, 'Biała Podlaska': 104, 'Biała Rawska': 105, 'Biała-Kopiec': 106, 'Białe Błota': 107, 'Białka': 108, 'Białka Tatrzańska': 109, 'Białki': 110, 'Białobrzegi': 111, 'Białogard': 112, 'Białostoczek': 113, 'Białousy': 114, 'Białowieża': 115, 'Białowieża-Suliszów': 116, 'Białośliwie': 117, 'Białuń': 118, 'Biały Bór': 119, 'Biały Kościół': 120, 'Białystok': 121, 'Bibianów': 122, 'Bibice': 123, 'Biczyce Dolne': 124, 'Biechowo': 125, 'Biecz': 126, 'Biedrusko': 127, 'Bieganin': 128, 'Bielany': 129, 'Bielany Wrocławskie': 130, 'Bielawa': 131, 'Bielawa Górna': 132, 'Bielawy': 133, 'Biele': 134, 'Bielicha': 135, 'Bieliny': 136, 'Bielkowo': 137, 'Bielkówko': 138, 'Bielowice': 139, 'Bielsk': 140, 'Bielsk Podlaski': 141, 'Bielsko': 142, 'Bielsko-Biała': 143, 'Bieniewice': 144, 'Bieniowice': 145, 'Bierawa': 146, 'Bierdzany': 147, 'Bierna': 148, 'Biernatki': 149, 'Bierutów': 150, 'Bieruń': 151, 'Biery': 152, 'Bierzglin': 153, 'Bierzglinek': 154, 'Bierzgłowo': 155, 'Bierzwnik': 156, 'Biesal': 157, 'Biesiekierz': 158, 'Biestrzyków': 159, 'Bieszewo': 160, 'Bieślin': 161, 'Bieździedza': 162, 'Bieżeń': 163, 'Bieżuń': 164, 'Bieżyce': 165, 'Bilcza': 166, 'Binczarowa': 167, 'Biskupice': 168, 'Biskupice Ołoboczne': 169, 'Biskupice Podgórne': 170, 'Biskupiec': 171, 'Biskupów': 172, 'Bisztynek': 173, 'Biórków Mały': 174, 'Biłgoraj': 175, 'Blachownia': 176, 'Bledzew': 177, 'Bledzianów': 178, 'Blichowo': 179, 'Blizanów': 180, 'Blizne': 181, 'Blizne Jasińskiego': 182, 'Blizne Łaszczyńskiego': 183, 'Bliż': 184, 'Bliżyn': 185, 'Bobolice': 186, 'Bobowa': 187, 'Bobowo': 188, 'Bobrowiec': 189, 'Bobrowniki': 190, 'Bobrowniki Małe': 191, 'Bochlin': 192, 'Bochnia': 193, 'Bochotnica': 194, 'Boczów': 195, 'Boduszyn': 196, 'Bodzanów': 197, 'Bodzechów': 198, 'Bodzentyn': 199, 'Bogacica': 200, 'Bogatki': 201, 'Bogatynia': 202, 'Bogdanka': 203, 'Bogdanowo': 204, 'Bogdaszowice': 205, 'Bogoria': 206, 'Bogoria Skotnicka': 207, 'Bogucin': 208, 'Bogumiłowice': 209, 'Boguszyce': 210, 'Boguszów-Gorce': 211, 'Bojadła': 212, 'Bojano': 213, 'Bojanowo': 214, 'Bojszowy': 215, 'Bojszowy Nowe': 216, 'Bolechowice': 217, 'Boleszkowice': 218, 'Bolesław': 219, 'Bolesławice': 220, 'Bolesławiec': 221, 'Bolków': 222, 'Bolszewo': 223, 'Boników': 224, 'Borek Strzeliński': 225, 'Borek Szlachecki': 226, 'Borek Wielkopolski': 227, 'Borki Wielkie': 228, 'Borkowo': 229, 'Borkowo Kościelne': 230, 'Borne Sulinowo': 231, 'Boronów': 232, 'Borowa': 233, 'Borowa Góra': 234, 'Borowianka': 235, 'Borowiczki-Pieńki': 236, 'Borowie': 237, 'Borowiec': 238, 'Borowina Sitaniecka': 239, 'Borowo': 240, 'Borucino': 241, 'Boruja Kościelna': 242, 'Borysławice Kościelne': 243, 'Borzechowo': 244, 'Borzechów': 245, 'Borzykowo': 246, 'Borzymy': 247, 'Borzęcin': 248, 'Borzęcin Duży': 249, 'Borzęcin Mały': 250, 'Borzęta': 251, 'Borów': 252, 'Borówiec': 253, 'Boszkowo-Letnisko': 254, 'Bożepole Wielkie': 255, 'Bożewo': 256, 'Bożków': 257, 'Boży Dar': 258, 'Braciejowa': 259, 'Braciejówka': 260, 'Bralin': 261, 'Bramka': 262, 'Braniewo': 263, 'Bratian': 264, 'Bratoszewice': 265, 'Brańsk': 266, 'Brańszczyk': 267, 'Brenna': 268, 'Brnik': 269, 'Brochów': 270, 'Brodnica': 271, 'Brodnica Górna': 272, 'Brodniczka': 273, 'Brodno': 274, 'Brodowo': 275, 'Brody': 276, 'Brodów': 277, 'Brojce': 278, 'Brok': 279, 'Broniszewice': 280, 'Bronisław': 281, 'Bronkowice': 282, 'Bronowice': 283, 'Bronowo': 284, 'Bronów': 285, 'Broszęcin': 286, 'Brudki Stare': 287, 'Brudzew': 288, 'Brudzewice': 289, 'Brudzeń Duży': 290, 'Brudzice': 291, 'Brudzów': 292, 'Brunary': 293, 'Brunów': 294, 'Brusy': 295, 'Bruszewo': 296, 'Brutus': 297, 'Brwinów': 298, 'Brzechów': 299, 'Brzeg': 300, 'Brzeg Dolny': 301, 'Brzegi': 302, 'Brzeski': 303, 'Brzesko': 304, 'Brzeszcze': 305, 'Brzezia Łąka': 306, 'Brzezie': 307, 'Brzezie k. Sulechowa': 308, 'Brzezina': 309, 'Brzezina Sułowska': 310, 'Brzezinka': 311, 'Brzezinki': 312, 'Brzeziny': 313, 'Brzeziny Nowe': 314, 'Brzezno': 315, 'Brześć Kujawski': 316, 'Brzeźce': 317, 'Brzeźnica': 318, 'Brzeźnio': 319, 'Brzeźno': 320, 'Brzostek': 321, 'Brzoza': 322, 'Brzozie': 323, 'Brzozie Lubawskie': 324, 'Brzozów': 325, 'Brzozówka': 326, 'Brzustów': 327, 'Brzyczyna': 328, 'Brzyno': 329, 'Brzóza Królewska': 330, 'Brzóze': 331, 'Brzączowice': 332, 'Brąchnówko': 333, 'Bucz': 334, 'Bucze': 335, 'Buczek': 336, 'Buczkowice': 337, 'Budki Stare': 338, 'Budno': 339, 'Budowo': 340, 'Budy': 341, 'Budy Barcząckie': 342, 'Budy Głogowskie': 343, 'Budy Wolskie': 344, 'Budzieszewice': 345, 'Budziska': 346, 'Budzisław Kościelny': 347, 'Budzyń': 348, 'Budzów': 349, 'Bujaków': 350, 'Buk': 351, 'Bukowice': 352, 'Bukowie': 353, 'Bukowiec': 354, 'Bukowina Tatrzańska': 355, 'Bukowno': 356, 'Bukowo': 357, 'Buków': 358, 'Bukówno': 359, 'Bulowice': 360, 'Bursztynik': 361, 'Burzenin': 362, 'Busko-Zdrój': 363, 'Bychawa': 364, 'Bycina': 365, 'Byczyna': 366, 'Bydgoszcz': 367, 'Byków': 368, 'Bystra': 369, 'Bystrzyca': 370, 'Bystrzyca Dolna': 371, 'Bystrzyca Kłodzka': 372, 'Bysław': 373, 'Bytkowo': 374, 'Bytom': 375, 'Bytonia': 376, 'Bytów': 377, 'Bączek': 378, 'Bądkowo': 379, 'Bąkowo': 380, 'Bąków': 381, 'Bębło': 382, 'Bęczarka': 383, 'Bęczków': 384, 'Będkowice': 385, 'Będziemyśl': 386, 'Będzieszyn': 387, 'Będzin': 388, 'Będów': 389, 'Błaszki': 390, 'Błażowa': 391, 'Błonie': 392, 'Błędowa Tyczyńska': 393, 'Błędów': 394, 'Cedry Wielkie': 395, 'Cedynia': 396, 'Cedzyna': 397, 'Cegłów': 398, 'Cekanów': 399, 'Cekcyn': 400, 'Cekcynek': 401, 'Ceków': 402, 'Celejów': 403, 'Celestynów': 404, 'Celiny': 405, 'Ceradz Dolny': 406, 'Cerekwica': 407, 'Cerkwica': 408, 'Cesarzowice': 409, 'Cetki': 410, 'Chabielice Kolonia': 411, 'Chabowo': 412, 'Charsznica': 413, 'Charzykowy': 414, 'Charzyno': 415, 'Chałupki': 416, 'Chechło': 417, 'Chechło Drugie': 418, 'Chechło Pierwsze': 419, 'Chełm': 420, 'Chełm Śląski': 421, 'Chełmce': 422, 'Chełmek': 423, 'Chełmiec': 424, 'Chełmno': 425, 'Chełmża': 426, 'Chlebów': 427, 'Chlewice': 428, 'Chlewiska': 429, 'Chludowo': 430, 'Chmielek': 431, 'Chmieleń': 432, 'Chmielnik': 433, 'Chmielno': 434, 'Chmielów': 435, 'Chobienice': 436, 'Chobędza': 437, 'Choceń': 438, 'Chocianów': 439, 'Chocicza': 440, 'Chociw': 441, 'Chociwek': 442, 'Chocz': 443, 'Chocznia': 444, 'Chodaczów': 445, 'Chodecz': 446, 'Chodel': 447, 'Chodzież': 448, 'Chodów': 449, 'Chojna': 450, 'Chojnice': 451, 'Chojnik': 452, 'Chojno-Młyn': 453, 'Chojnów': 454, 'Cholerzyn': 455, 'Chomranice': 456, 'Chomęcice': 457, 'Choroszcz': 458, 'Chorowice': 459, 'Chorzele': 460, 'Chorzelów': 461, 'Chorzew': 462, 'Chorzów': 463, 'Choszczno': 464, 'Choszczówka Stojecka': 465, 'Chotomów': 466, 'Chotynia': 467, 'Chotynin': 468, 'Chotyłów': 469, 'Chrcynno': 470, 'Chroberz': 471, 'Chruszczewo': 472, 'Chruścice': 473, 'Chrzanowo': 474, 'Chrzanów': 475, 'Chrzanów Czwarty': 476, 'Chrzanówek': 477, 'Chrzelice': 478, 'Chrząstawa Mała': 479, 'Chrząstawa Wielka': 480, 'Chrząstowice': 481, 'Chróstnik': 482, 'Chróścice': 483, 'Chudów': 484, 'Chwalborzyce': 485, 'Chwalibogowo': 486, 'Chwaliszew': 487, 'Chwarstnica': 488, 'Chwaszczyno': 489, 'Chybie': 490, 'Chyby': 491, 'Chylice': 492, 'Chylice-Kolonia': 493, 'Chynów': 494, 'Chyże': 495, 'Chyżne': 496, 'Chęciny': 497, 'Chłopowo': 498, 'Ciachcin Nowy': 499, 'Cianowice': 500, 'Cibórz': 501, 'Ciche': 502, 'Ciechanowiec': 503, 'Ciechanów': 504, 'Ciechocin': 505, 'Ciechocinek': 506, 'Ciechów': 507, 'Ciecierzyn': 508, 'Cielcza': 509, 'Cielądz': 510, 'Ciemne': 511, 'Cieniawa': 512, 'Cienin Kościelny': 513, 'Ciepielów': 514, 'Ciernie': 515, 'Cieszacin Wielki': 516, 'Cieszanowice': 517, 'Cieszków': 518, 'Cieszyce': 519, 'Cieszyn': 520, 'Cieśle': 521, 'Cigacice': 522, 'Ciosaniec': 523, 'Cisek': 524, 'Cisew': 525, 'Cisiec': 526, 'Cisownik': 527, 'Ciszkowo': 528, 'Ciszowice': 529, 'Cisów': 530, 'Ciągowice': 531, 'Ciążeń': 532, 'Cięcina': 533, 'Ciężkowice': 534, 'Cmolas': 535, 'Cybinka': 536, 'Cyców': 537, 'Cyganka': 538, 'Cynków': 539, 'Cytrynowo': 540, 'Czachy': 541, 'Czajcze': 542, 'Czajków': 543, 'Czajków Północny': 544, 'Czajowice': 545, 'Czaniec': 546, 'Czaple': 547, 'Czaplinek': 548, 'Czapury': 549, 'Czarlina': 550, 'Czarna': 551, 'Czarna Białostocka': 552, 'Czarna Dąbrówka': 553, 'Czarna Sędziszowska': 554, 'Czarna Wieś': 555, 'Czarna Woda': 556, 'Czarna Łąka': 557, 'Czarne': 558, 'Czarnków': 559, 'Czarnochowice': 560, 'Czarnowo': 561, 'Czarnożyły': 562, 'Czarny Bór': 563, 'Czarny Dunajec': 564, 'Czarny Kierz': 565, 'Czarny Potok': 566, 'Czartowo': 567, 'Czchów': 568, 'Czciradz': 569, 'Czechowice-Dziedzice': 570, 'Czechy': 571, 'Czechówka': 572, 'Czeczewo': 573, 'Czekanów': 574, 'Czeladź': 575, 'Czempiń': 576, 'Czerlin': 577, 'Czermin': 578, 'Czermno': 579, 'Czernica': 580, 'Czernichów': 581, 'Czerniejewo': 582, 'Czerniewice': 583, 'Czernikowo': 584, 'Czernina Dolna': 585, 'Czernięcin Główny': 586, 'Czersk': 587, 'Czerwin': 588, 'Czerwionka-Leszczyny': 589, 'Czerwińsk nad Wisłą': 590, 'Czerwona Woda': 591, 'Czerwonak': 592, 'Czerwonka-Parcel': 593, 'Czestków F': 594, 'Czeszewo': 595, 'Czewujewo': 596, 'Czosnów': 597, 'Czubrowice': 598, 'Czudec': 599, 'Czuryły': 600, 'Czułów': 601, 'Czułówek': 602, 'Czyrna': 603, 'Czyżew': 604, 'Czyżowice': 605, 'Czyżów': 606, 'Cząstków Polski': 607, 'Częstochowa': 608, 'Człuchów': 609, 'Dachnów': 610, 'Dalachów': 611, 'Dalborowice': 612, 'Dalechowy': 613, 'Daleszyce': 614, 'Daleszynek': 615, 'Dalików': 616, 'Dalki': 617, 'Damasławek': 618, 'Daniszewo': 619, 'Dankowice': 620, 'Danków': 621, 'Danowiec': 622, 'Darłowo': 623, 'Daszewice': 624, 'Daszewo': 625, 'Datyń': 626, 'Dawidy': 627, 'Debrzno': 628, 'Debrzno-Wieś': 629, 'Demlin-Nowe Gołębiewko': 630, 'Deszczno': 631, 'Dobczyce': 632, 'Dobiegniew': 633, 'Dobieszczyzna': 634, 'Dobieszowice': 635, 'Dobieżyn': 636, 'Dobków': 637, 'Dobra': 638, 'Dobre': 639, 'Dobre Miasto': 640, 'Dobrociesz': 641, 'Dobrodzień': 642, 'Dobromierz': 643, 'Dobroszyce': 644, 'Dobroszów Mały': 645, 'Dobroszów Oleśnicki': 646, 'Dobroń': 647, 'Dobroń Mały': 648, 'Dobrut': 649, 'Dobryszyce': 650, 'Dobrzany': 651, 'Dobrzelin': 652, 'Dobrzewino': 653, 'Dobrzeń Wielki': 654, 'Dobrzyca': 655, 'Dobrzykowice': 656, 'Dobrzyniewo Duże': 657, 'Dobrzyniewo Kościelne': 658, 'Dobrzyń nad Wisłą': 659, 'Dojazdów': 660, 'Dolaszewo': 661, 'Dolice': 662, 'Dolna Grupa': 663, 'Dolsk': 664, 'Domaniewice': 665, 'Domaradz': 666, 'Domaszczyn': 667, 'Domaszków': 668, 'Domaszowice': 669, 'Domasław': 670, 'Dominowo': 671, 'Dominów': 672, 'Domosławice': 673, 'Donimierz': 674, 'Dopiewiec': 675, 'Dopiewo': 676, 'Dorohucza': 677, 'Dorohusk': 678, 'Dorotowo': 679, 'Doruchów': 680, 'Dołki': 681, 'Dołuje': 682, 'Doły': 683, 'Dragacz': 684, 'Drawiny': 685, 'Drawski Młyn': 686, 'Drawsko': 687, 'Drawsko Pomorskie': 688, 'Drelów': 689, 'Drewnica': 690, 'Drezdenko': 691, 'Drobin': 692, 'Drogomyśl': 693, 'Drohiczyn': 694, 'Droszków': 695, 'Drołtowice': 696, 'Drożejowice': 697, 'Drożyska Wielkie': 698, 'Drużbice': 699, 'Drwinia': 700, 'Drzewica': 701, 'Drzonowo': 702, 'Drzycim': 703, 'Dubeczno': 704, 'Dubica Dolna': 705, 'Dubiecko': 706, 'Duchnów': 707, 'Duczki': 708, 'Dudki': 709, 'Dukla': 710, 'Dulcza Wielka': 711, 'Dulowa': 712, 'Duszniki': 713, 'Duszniki-Zdrój': 714, 'Dwikozy': 715, 'Dworszowice Pakoszowe': 716, 'Dyblin': 717, 'Dygowo': 718, 'Dylów Rządowy': 719, 'Dymaczewo Stare': 720, 'Dynów': 721, 'Dys': 722, 'Dywity': 723, 'Dzbanki': 724, 'Dzbenin': 725, 'Dziadowa Kłoda': 726, 'Dzianisz': 727, 'Działdowo': 728, 'Działoszyce': 729, 'Działoszyn': 730, 'Dziecinów': 731, 'Dziekanowice': 732, 'Dziekanów Leśny': 733, 'Dziekanów Polski': 734, 'Dzielice': 735, 'Dziemiany': 736, 'Dziemionna': 737, 'Dziergowice': 738, 'Dzierzgoń': 739, 'Dzierzążnia': 740, 'Dzierżoniów': 741, 'Dzierżążno': 742, 'Dzietrzkowice': 743, 'Dziewulin': 744, 'Dziećmorowice': 745, 'Dzikowiec': 746, 'Dzikowo': 747, 'Dziurdzioły': 748, 'Dziurków': 749, 'Dziwnów': 750, 'Dziwnówek': 751, 'Dzięcielin': 752, 'Dziękowizna': 753, 'Dzwonek': 754, 'Dąb Polski': 755, 'Dąbie': 756, 'Dąbrowa': 757, 'Dąbrowa Białostocka': 758, 'Dąbrowa Biskupia': 759, 'Dąbrowa Chełmińska': 760, 'Dąbrowa Duża': 761, 'Dąbrowa Górnicza': 762, 'Dąbrowa Szlachecka': 763, 'Dąbrowa Tarnowska': 764, 'Dąbrowa Tomaszowska': 765, 'Dąbrowa Widawska': 766, 'Dąbrowa Zielona': 767, 'Dąbrowica': 768, 'Dąbrowice': 769, 'Dąbrówka': 770, 'Dąbrówka Kościelna': 771, 'Dąbrówka Leśna': 772, 'Dąbrówka-Ług': 773, 'Dąbrówki': 774, 'Dębe': 775, 'Dębe Wielkie': 776, 'Dębica': 777, 'Dębie': 778, 'Dębienko': 779, 'Dęblin': 780, 'Dębnica': 781, 'Dębno': 782, 'Dębno Polskie': 783, 'Dębogard': 784, 'Dębogórze': 785, 'Dębowa Łąka': 786, 'Dębowiec': 787, 'Dębowo': 788, 'Dębołęka': 789, 'Dębska Kuźnia': 790, 'Dębska Wola': 791, 'Dębówka': 792, 'Długa Szlachecka': 793, 'Długie': 794, 'Długie Stare': 795, 'Długosiodło': 796, 'Długowola': 797, 'Długołęka': 798, 'Długołęka-Świerkla': 799, 'Dłutów': 800, 'Dźwierzuty': 801, 'Egiertowo': 802, 'Elbląg': 803, 'Ełk': 804, 'Fajsławice': 805, 'Falenty': 806, 'Falenty Nowe': 807, 'Fasty': 808, 'Fałków': 809, 'Feliksów': 810, 'Filipowice': 811, 'Filipów': 812, 'Fletnowo': 813, 'Florynka': 814, 'Folwark': 815, 'Frampol': 816, 'Franciszków': 817, 'Franklinów': 818, 'Franków': 819, 'Franopol': 820, 'Frombork': 821, 'Frydek': 822, 'Frydrychowice': 823, 'Frygnowo': 824, 'Fugasówka': 825, 'Gacki Osiedle Robotnicze': 826, 'Gaj': 827, 'Gaj Mały': 828, 'Gajków': 829, 'Galewice': 830, 'Galowice': 831, 'Gamratka': 832, 'Garbatka': 833, 'Garbatka Nowa': 834, 'Garbatka-Letnisko': 835, 'Garby': 836, 'Garbów I': 837, 'Garcz': 838, 'Garczegorze': 839, 'Garncarsko': 840, 'Garnek': 841, 'Garwolin': 842, 'Gaworzyce': 843, 'Gawłowice': 844, 'Gawłów': 845, 'Gałkowice Stare': 846, 'Gałków Duży': 847, 'Gdańsk': 848, 'Gdynia': 849, 'Gdów': 850, 'Gidle': 851, 'Giebułtów': 852, 'Giedlarowa': 853, 'Gielniów': 854, 'Gierałtowice': 855, 'Gietrzwałd': 856, 'Giełczyn': 857, 'Girgajny': 858, 'Gizałki': 859, 'Giżycko': 860, 'Glichów': 861, 'Glina': 862, 'Gliniak': 863, 'Glinianka': 864, 'Glinka': 865, 'Glinnik': 866, 'Glinojeck': 867, 'Gliwice': 868, 'Glińsko': 869, 'Ględy': 870, 'Gnatowice': 871, 'Gniechowice': 872, 'Gniew': 873, 'Gniewczyna Łańcucka': 874, 'Gniewkowo': 875, 'Gniewomirowice': 876, 'Gniewoszów': 877, 'Gniewowo': 878, 'Gniezno': 879, 'Gnieżdżewo': 880, 'Gnojnik': 881, 'Goczałkowice-Zdrój': 882, 'Goczałków': 883, 'Gocław': 884, 'Godowa': 885, 'Godziesze Małe': 886, 'Godziesze Wielkie': 887, 'Godziszewo': 888, 'Godziszka': 889, 'Godów': 890, 'Gogolin': 891, 'Gogolina Stara': 892, 'Golasowice': 893, 'Golcowa': 894, 'Goleniowy': 895, 'Goleniów': 896, 'Goleszów': 897, 'Golina': 898, 'Goliszów': 899, 'Golkowice': 900, 'Golub-Dobrzyń': 901, 'Golęczewo': 902, 'Gomulin-Kolonia': 903, 'Gomunice': 904, 'Goniądz': 905, 'Gorenice': 906, 'Gorlice': 907, 'Gortatowo': 908, 'Gorzałów': 909, 'Gorzew': 910, 'Gorzkowice': 911, 'Gorzków': 912, 'Gorzyca': 913, 'Gorzyce': 914, 'Gorzyczki': 915, 'Gorzów': 916, 'Gorzów Wielkopolski': 917, 'Gorzów Śląski': 918, 'Gostkowo': 919, 'Gostomia': 920, 'Gostwica': 921, 'Gostycyn': 922, 'Gostynin': 923, 'Gostyń': 924, 'Goszcz': 925, 'Goszcza': 926, 'Goszczanów': 927, 'Goszyce': 928, 'Gotkowice': 929, 'Gowarczów': 930, 'Gowarzewo': 931, 'Gowidlino': 932, 'Gowino': 933, 'Goworki': 934, 'Gozdnica': 935, 'Gozdowo': 936, 'Gołaczewy Kol. Piaski': 937, 'Gołanice': 938, 'Gołaszyn': 939, 'Gołańcz': 940, 'Gołdap': 941, 'Gołkowice Dolne': 942, 'Gołkowice Górne': 943, 'Gołubie': 944, 'Gołuchowice': 945, 'Gołuchów': 946, 'Gołąb': 947, 'Gołębiewo Wielkie': 948, 'Gończyce': 949, 'Gościce': 950, 'Gościcino': 951, 'Gościencin': 952, 'Gościeradów Ukazowy': 953, 'Gościniec': 954, 'Gościno': 955, 'Grabanów': 956, 'Grabik': 957, 'Grabin': 958, 'Grabina Radziwiłłowska': 959, 'Grabki Duże': 960, 'Grabno': 961, 'Grabostów': 962, 'Graboszewo': 963, 'Grabowa': 964, 'Grabowiec': 965, 'Grabowo': 966, 'Grabów': 967, 'Grabów nad Prosną': 968, 'Grabówka': 969, 'Grajewo': 970, 'Granica': 971, 'Granowiec': 972, 'Granowo': 973, 'Grobia': 974, 'Grodków': 975, 'Grodziec': 976, 'Grodzisk Mazowiecki': 977, 'Grodzisk Wielkopolski': 978, 'Grodzisko': 979, 'Grodzisko Górne': 980, 'Gromadno': 981, 'Gromiec': 982, 'Gronowo Elbląskie': 983, 'Grotów': 984, 'Groń': 985, 'Gruczno': 986, 'Grudusk': 987, 'Grudziądz': 988, 'Gruszczyn': 989, 'Gruszów Wielki': 990, 'Grybów': 991, 'Gryfice': 992, 'Gryfino': 993, 'Gryfów Śląski': 994, 'Grzebienisko': 995, 'Grzegorzew': 996, 'Grzybowo': 997, 'Grzybów': 998, 'Grzymalin': 999, 'Grzymała': 1000, 'Grzymek': 1001, 'Grzędzice': 1002, 'Gródek nad Dunajcem': 1003, 'Gródków': 1004, 'Grójec': 1005, 'Grąblin': 1006, 'Grębocice': 1007, 'Grębocin': 1008, 'Grębynice': 1009, 'Grębów': 1010, 'Grędzina': 1011, 'Gręzów': 1012, 'Gubin': 1013, 'Gucin': 1014, 'Gulczewo': 1015, 'Gumnisko': 1016, 'Gurówko': 1017, 'Gutowiec': 1018, 'Gutowo Wielkie': 1019, 'Guzowice': 1020, 'Guzów': 1021, 'Gułtowy': 1022, 'Gwiździny': 1023, 'Gwoździec': 1024, 'Gzowice': 1025, 'Góra': 1026, 'Góra Kalwaria': 1027, 'Góra Puławska': 1028, 'Góra Świętej Małgorzaty': 1029, 'Góraszka': 1030, 'Górka': 1031, 'Górka Sobocka': 1032, 'Górki': 1033, 'Górki Małe': 1034, 'Górki Wielkie': 1035, 'Górna Wieś': 1036, 'Górno': 1037, 'Górowo Iławeckie': 1038, 'Górsk': 1039, 'Góry Mokre': 1040, 'Górzno': 1041, 'Górzyca': 1042, 'Gózd': 1043, 'Gąbin': 1044, 'Gądki': 1045, 'Gądów': 1046, 'Gąsiorowo': 1047, 'Gąski': 1048, 'Gąsocin': 1049, 'Gęsiniec': 1050, 'Głogoczów': 1051, 'Głogowa': 1052, 'Głogowo': 1053, 'Głogów': 1054, 'Głogów Małopolski': 1055, 'Głogówek': 1056, 'Głomsk-Nowy Głomsk': 1057, 'Głosków': 1058, 'Głotowo': 1059, 'Głowaczów': 1060, 'Głowienka': 1061, 'Głowińsk': 1062, 'Głowno': 1063, 'Głubczyce': 1064, 'Głuchołazy': 1065, 'Głuchów': 1066, 'Głuchówek': 1067, 'Głuszyca': 1068, 'Główczyce': 1069, 'Głębokie': 1070, 'Głębowice': 1071, 'Haczów': 1072, 'Hadykówka': 1073, 'Hajnówka': 1074, 'Halinów': 1075, 'Hannover': 1076, 'Harasiuki': 1077, 'Harklowa': 1078, 'Harta': 1079, 'Hażlach': 1080, 'Hejdyk': 1081, 'Hel': 1082, 'Helenka': 1083, 'Henryków': 1084, 'Henryków Urocze': 1085, 'Herburtowo': 1086, 'Herby': 1087, 'Hermanów': 1088, 'Hornówek': 1089, 'Horodyszcze-Kolonia': 1090, 'Horodło': 1091, 'Horyniec-Zdrój': 1092, 'Hrubieszów': 1093, 'Hucisko': 1094, 'Humniska': 1095, 'Huta': 1096, 'Huta Komorowska': 1097, 'Huta Mińska': 1098, 'Huta Stara B': 1099, 'Hyżne': 1100, 'Hłudno': 1101, 'Ignatki-Osiedle': 1102, 'Igołomia': 1103, 'Ilkowice': 1104, 'Imielin': 1105, 'Inowrocław': 1106, 'Inwałd': 1107, 'Iwaniska': 1108, 'Iwanowice Duże': 1109, 'Iwanowice Dworskie': 1110, 'Iwierzyce': 1111, 'Iwiny': 1112, 'Iwkowa': 1113, 'Iwno': 1114, 'Iwonicz': 1115, 'Izabelin': 1116, 'Izabelin B': 1117, 'Izabelin C': 1118, 'Izabelin-Dziekanówek': 1119, 'Izabelów': 1120, 'Izbica Kujawska': 1121, 'Izbicko': 1122, 'Izbiska': 1123, 'Izdebnik': 1124, 'Iława': 1125, 'Iłowa': 1126, 'Iłownica': 1127, 'Iłowo-Osada': 1128, 'Iłów': 1129, 'Iłża': 1130, 'Jabłonka': 1131, 'Jabłonna': 1132, 'Jabłonna Druga': 1133, 'Jabłonna-Majątek': 1134, 'Jabłonowo': 1135, 'Jabłonowo Pomorskie': 1136, 'Jabłowo': 1137, 'Jabłów': 1138, 'Jacentów': 1139, 'Jachranka': 1140, 'Jaczków': 1141, 'Jaczów': 1142, 'Jadowniki': 1143, 'Jadowniki Mokre': 1144, 'Jadów': 1145, 'Jagatowo': 1146, 'Jaktorów': 1147, 'Jaktorów-Kolonia': 1148, 'Jakubowice Konińskie': 1149, 'Jakubów': 1150, 'Jamielnik': 1151, 'Jamielnik-Kolonia': 1152, 'Jamki': 1153, 'Jamnica': 1154, 'Janczewice': 1155, 'Jangrot': 1156, 'Janiewice': 1157, 'Janikowo': 1158, 'Janiszew': 1159, 'Janiszewice': 1160, 'Janki': 1161, 'Jankowice': 1162, 'Jankowo Dolne': 1163, 'Jankowo Gdańskie': 1164, 'Jankowy': 1165, 'Janków Pierwszy': 1166, 'Janków Przygodzki': 1167, 'Jankówko': 1168, 'Janowice': 1169, 'Janowice Wielkie': 1170, 'Janowiec Wielkopolski': 1171, 'Janowo': 1172, 'Jantar': 1173, 'Januszewice': 1174, 'Januszkowice': 1175, 'Januszowice': 1176, 'Jany': 1177, 'Janów': 1178, 'Janów Karwicki': 1179, 'Janów Lubelski': 1180, 'Janów Podlaski': 1181, 'Janówek': 1182, 'Jaracz': 1183, 'Jaraczewo': 1184, 'Jarczew': 1185, 'Jarocin': 1186, 'Jaromierz': 1187, 'Jaromirowice': 1188, 'Jaroszyn': 1189, 'Jaroszów': 1190, 'Jarosław': 1191, 'Jarosławiec': 1192, 'Jarużyn': 1193, 'Jarzębia Łąka': 1194, 'Jasienica': 1195, 'Jasienica Górna': 1196, 'Jasienica Rosielna': 1197, 'Jasienie': 1198, 'Jasieniec': 1199, 'Jasień': 1200, 'Jasin': 1201, 'Jasionka': 1202, 'Jasionów': 1203, 'Jaskrów': 1204, 'Jastkowice': 1205, 'Jastków': 1206, 'Jastrowie': 1207, 'Jastrząb': 1208, 'Jastrzębia': 1209, 'Jastrzębia Góra': 1210, 'Jastrzębie': 1211, 'Jastrzębie-Zdrój': 1212, 'Jaszczurowa': 1213, 'Jaszowice': 1214, 'Jasło': 1215, 'Jawczyce': 1216, 'Jawiszowice': 1217, 'Jawor': 1218, 'Jawornik': 1219, 'Jaworowa': 1220, 'Jaworze': 1221, 'Jaworznia': 1222, 'Jaworznik': 1223, 'Jaworzno': 1224, 'Jaworzyna Śląska': 1225, 'Jazgarzew': 1226, 'Jazowsko': 1227, 'Jaśkowice': 1228, 'Jaźwiny': 1229, 'Jedlanka': 1230, 'Jedlicze': 1231, 'Jedlina-Zdrój': 1232, 'Jedlińsk': 1233, 'Jedlnia': 1234, 'Jedlnia-Letnisko': 1235, 'Jednorożec': 1236, 'Jegłownik': 1237, 'Jejkowice': 1238, 'Jelanka': 1239, 'Jelcz-Laskowice': 1240, 'Jelenia Góra': 1241, 'Jeleśnia': 1242, 'Jelonek': 1243, 'Jemielnica': 1244, 'Jenin': 1245, 'Jerka': 1246, 'Jerzmanowice': 1247, 'Jerzykowo': 1248, 'Jesionka': 1249, 'Jesionowo': 1250, 'Jeszkowice': 1251, 'Jeziernik': 1252, 'Jezierzyce': 1253, 'Jeziorany': 1254, 'Jeziorki': 1255, 'Jeziorsko': 1256, 'Jeziorzany': 1257, 'Jełowa': 1258, 'Jeńki': 1259, 'Jeżewo': 1260, 'Jeżów': 1261, 'Jeżów Sudecki': 1262, 'Jeżówka': 1263, 'Jodłownik': 1264, 'Jodłowno': 1265, 'Jodłówka': 1266, 'Joniec': 1267, 'Jonkowo': 1268, 'Jordanów': 1269, 'Jordanów Śląski': 1270, 'Juchnowiec Dolny': 1271, 'Julianów': 1272, 'Junoszyno': 1273, 'Jurczyce': 1274, 'Jurków': 1275, 'Juszczyn': 1276, 'Juszkowo': 1277, 'Jutrosin': 1278, 'Józefin': 1279, 'Józefina': 1280, 'Józefosław': 1281, 'Józefów': 1282, 'Jędrzejewo': 1283, 'Jędrzejów': 1284, 'Jędrzejówka': 1285, 'Kacice': 1286, 'Kacperków': 1287, 'Kacpury': 1288, 'Kaczanowo': 1289, 'Kaczory': 1290, 'Kaczyce': 1291, 'Kadcza': 1292, 'Kadzidło': 1293, 'Kadłub': 1294, 'Kadłubska Wola': 1295, 'Kalembina': 1296, 'Kalety': 1297, 'Kaleń': 1298, 'Kalino': 1299, 'Kalinowice': 1300, 'Kalinówka': 1301, 'Kaliska': 1302, 'Kaliska Kościerskie': 1303, 'Kalisz': 1304, 'Kalisz Pomorski': 1305, 'Kalna': 1306, 'Kalska Wola': 1307, 'Kalwaria Zebrzydowska': 1308, 'Kalwy': 1309, 'Kamianka Nadbużna': 1310, 'Kamienica': 1311, 'Kamienica Królewska': 1312, 'Kamienica Polska': 1313, 'Kamieniec Wrocławski': 1314, 'Kamieniec Ząbkowicki': 1315, 'Kamienna Góra': 1316, 'Kamienna Kolonia': 1317, 'Kamierowo': 1318, 'Kamień': 1319, 'Kamień Krajeński': 1320, 'Kamień Podlesie': 1321, 'Kamień Pomorski': 1322, 'Kamieńsk': 1323, 'Kamionka': 1324, 'Kamionka Dolna': 1325, 'Kamionka Mała': 1326, 'Kamionki': 1327, 'Kamionna': 1328, 'Kamińskie Pliszki': 1329, 'Kampinos': 1330, 'Kampinos A': 1331, 'Kania': 1332, 'Kanie': 1333, 'Kaniów': 1334, 'Karakule': 1335, 'Karczew': 1336, 'Karczewizna': 1337, 'Karczmiska Drugie': 1338, 'Karczowice': 1339, 'Karczów': 1340, 'Kargoszyn': 1341, 'Kargowa': 1342, 'Karlino': 1343, 'Karlusin': 1344, 'Karnice': 1345, 'Karniowice': 1346, 'Karniszewo': 1347, 'Karolewo': 1348, 'Karolin': 1349, 'Karolina': 1350, 'Karpacz': 1351, 'Karpicko': 1352, 'Karpin': 1353, 'Karpniki': 1354, 'Karszówka': 1355, 'Kartuzy': 1356, 'Karwiany': 1357, 'Karwice': 1358, 'Karwieńskie Błota I': 1359, 'Karwowo': 1360, 'Karśnice': 1361, 'Kasyldów': 1362, 'Kaszczor': 1363, 'Kaszów': 1364, 'Katowice': 1365, 'Kawęczyn': 1366, 'Kawęczyn Sędziszowski': 1367, 'Kawęczyn-Kolonia': 1368, 'Kazimierz': 1369, 'Kazimierz Biskupi': 1370, 'Kazimierz Dolny': 1371, 'Kazimierza Wielka': 1372, 'Kazimierzówka': 1373, 'Kazimierów': 1374, 'Kałuszyn': 1375, 'Kańczuga': 1376, 'Kaźmierz': 1377, 'Kcynia': 1378, 'Kczewo': 1379, 'Kiczarowo': 1380, 'Kiczyce': 1381, 'Kiedrzyn': 1382, 'Kiekrz': 1383, 'Kielce': 1384, 'Kielcza': 1385, 'Kielnarowa': 1386, 'Kielno': 1387, 'Kiernozia': 1388, 'Kietrz': 1389, 'Kiezmark': 1390, 'Kiełczew Górny': 1391, 'Kiełczygłów': 1392, 'Kiełczów': 1393, 'Kiełczówek': 1394, 'Kiełpin': 1395, 'Kiełpino': 1396, 'Kieźliny': 1397, 'Kijany': 1398, 'Kije': 1399, 'Kijewo Królewskie': 1400, 'Kijno': 1401, 'Kików': 1402, 'Kikół': 1403, 'Kisielice': 1404, 'Kiszkowo': 1405, 'Klaudyn': 1406, 'Kleczew': 1407, 'Klembów': 1408, 'Kleosin': 1409, 'Klepacze': 1410, 'Klesno': 1411, 'Kleszczewo': 1412, 'Kleszczewo Kościerskie': 1413, 'Kleszczów': 1414, 'Kleszewo': 1415, 'Kletnia': 1416, 'Klikawa': 1417, 'Klikuszowa': 1418, 'Klimkówka': 1419, 'Klimontów': 1420, 'Kliniska Wielkie': 1421, 'Klisino': 1422, 'Klonowa': 1423, 'Kluczbork': 1424, 'Klucze': 1425, 'Kluczewsko': 1426, 'Kluki': 1427, 'Klukowa Huta': 1428, 'Klwatka': 1429, 'Klwów': 1430, 'Kmiecin': 1431, 'Knurów': 1432, 'Knyszyn': 1433, 'Kobielice': 1434, 'Kobierniki': 1435, 'Kobierzyce': 1436, 'Kobiór': 1437, 'Kobyla Góra': 1438, 'Kobylanka': 1439, 'Kobylin': 1440, 'Kobylnica': 1441, 'Kobylniki': 1442, 'Kobysewo': 1443, 'Kobyłka': 1444, 'Kobyłki': 1445, 'Kochanowice': 1446, 'Kochanów': 1447, 'Kock': 1448, 'Kocmyrzów': 1449, 'Koczargi Stare': 1450, 'Kojszówka': 1451, 'Kokanin': 1452, 'Kokoszkowy': 1453, 'Kokotów': 1454, 'Kolbudy': 1455, 'Kolbuszowa': 1456, 'Kolbuszowa Dolna': 1457, 'Kolbuszowa Górna': 1458, 'Kolechowice-Kolonia': 1459, 'Koleczkowo': 1460, 'Kolno': 1461, 'Kolonia Gościeńczyce': 1462, 'Kolonia Ostrowicka': 1463, 'Kolonia Poczesna': 1464, 'Kolonia Wierzchowisko': 1465, 'Kolonia Wola Zaradzyńska': 1466, 'Kolonowskie': 1467, 'Koluszki': 1468, 'Komarówka Podlaska': 1469, 'Komaszyce': 1470, 'Komorniki': 1471, 'Komorno': 1472, 'Komorowo': 1473, 'Komorowo Żuławskie': 1474, 'Komorów': 1475, 'Komprachcice': 1476, 'Komórki': 1477, 'Konary': 1478, 'Konarzewo': 1479, 'Konarzyce': 1480, 'Koniaków': 1481, 'Koniecpol': 1482, 'Konieczki': 1483, 'Konieczna': 1484, 'Konikowo': 1485, 'Konin': 1486, 'Konin Żagański': 1487, 'Koninko': 1488, 'Koniuszowa': 1489, 'Konojady': 1490, 'Konopiska': 1491, 'Konopki': 1492, 'Konopnica': 1493, 'Konotopa': 1494, 'Konradów': 1495, 'Konradówka': 1496, 'Konstancin-Jeziorna': 1497, 'Konstantynów': 1498, 'Konstantynów Łódzki': 1499, 'Kopaliny': 1500, 'Kopanica': 1501, 'Kopanki': 1502, 'Kopienica': 1503, 'Kopki': 1504, 'Koprzywna': 1505, 'Koprzywnica': 1506, 'Korabiewice': 1507, 'Korczew': 1508, 'Korczyna': 1509, 'Korfantów': 1510, 'Kornatka': 1511, 'Koronowo': 1512, 'Koryta': 1513, 'Korytków': 1514, 'Korytnica': 1515, 'Korytów': 1516, 'Korytów A': 1517, 'Korzenna': 1518, 'Korzkiew': 1519, 'Kosakowo': 1520, 'Kosarzyn': 1521, 'Kosewo': 1522, 'Kosina': 1523, 'Kostomłoty': 1524, 'Kostomłoty Drugie': 1525, 'Kostomłoty Pierwsze': 1526, 'Kostrzyn': 1527, 'Kostrzyn nad Odrą': 1528, 'Kostów': 1529, 'Koszalin': 1530, 'Koszarówka': 1531, 'Koszelewki': 1532, 'Koszyce': 1533, 'Koszyce Małe': 1534, 'Koszyce Wielkie': 1535, 'Koszęcin': 1536, 'Kosów Lacki': 1537, 'Kotarwice': 1538, 'Koteże': 1539, 'Kotla': 1540, 'Kotlarnia': 1541, 'Kotlin': 1542, 'Kotomierz': 1543, 'Kotowa Wola': 1544, 'Kotuń': 1545, 'Kotwasice': 1546, 'Kotórz Mały': 1547, 'Kotórz Wielki': 1548, 'Kowal': 1549, 'Kowala': 1550, 'Kowala Druga': 1551, 'Kowale': 1552, 'Kowalew': 1553, 'Kowalewo Pomorskie': 1554, 'Kowalin': 1555, 'Kowary': 1556, 'Kozakowice Górne': 1557, 'Kozerki': 1558, 'Kozie Doły': 1559, 'Kozie Laski': 1560, 'Koziebrody': 1561, 'Koziegłowy': 1562, 'Koziegłówki': 1563, 'Kozienice': 1564, 'Kozietuły Nowe': 1565, 'Koziniec': 1566, 'Kozy': 1567, 'Kozłów Biskupi': 1568, 'Kołaczkowo': 1569, 'Kołaczyce': 1570, 'Kołbacz': 1571, 'Kołbaskowo': 1572, 'Kołbiel': 1573, 'Kołczyn': 1574, 'Kołdowo': 1575, 'Koło': 1576, 'Kołobrzeg': 1577, 'Kończyce Małe': 1578, 'Końskie': 1579, 'Kościan': 1580, 'Kościelec': 1581, 'Kościelec-Kolonia': 1582, 'Kościelisko': 1583, 'Kościelna Wieś': 1584, 'Kościeniewicze': 1585, 'Kościerzyna': 1586, 'Kościerzyna-Wybudowanie': 1587, 'Kościołków': 1588, 'Kośmidry': 1589, 'Kośmin': 1590, 'Koźmice Wielkie': 1591, 'Koźmin Wielkopolski': 1592, 'Koźminek': 1593, 'Koźminiec': 1594, 'Kożuchów': 1595, 'Kożuszki': 1596, 'Kożuszki-Parcel': 1597, 'Kraczewice Prywatne': 1598, 'Kraczkowa': 1599, 'Krajenka': 1600, 'Kraków': 1601, 'Kramsk': 1602, 'Kranów': 1603, 'Krapkowice': 1604, 'Krasiczyn': 1605, 'Krasiejów': 1606, 'Krasne': 1607, 'Krasnobród': 1608, 'Krasnosielc': 1609, 'Krasnystaw': 1610, 'Krasocin': 1611, 'Kraszewice A': 1612, 'Kraszowice': 1613, 'Kraśnik': 1614, 'Kraśnik Dolny': 1615, 'Krerowo': 1616, 'Krobia': 1617, 'Kroczyce': 1618, 'Krokowa': 1619, 'Krosno': 1620, 'Krosno Odrzańskie': 1621, 'Krotoszyn': 1622, 'Krościenko nad Dunajcem': 1623, 'Krośnice': 1624, 'Krośniewice': 1625, 'Krubin': 1626, 'Krucz': 1627, 'Krupia Wólka': 1628, 'Krusze': 1629, 'Kruszwica': 1630, 'Kruszyn': 1631, 'Kruszyna': 1632, 'Kruszyny Szlacheckie': 1633, 'Kruteczek': 1634, 'Krużlowa Niżna': 1635, 'Krużlowa Wyżna': 1636, 'Krynica-Zdrój': 1637, 'Krypno Kościelne': 1638, 'Kryspinów': 1639, 'Krzanowice': 1640, 'Krzczonów': 1641, 'Krzemienica': 1642, 'Krzemieniewo': 1643, 'Krzepice': 1644, 'Krzeszowice': 1645, 'Krzeszów': 1646, 'Krzewie Wielkie': 1647, 'Krzycko Wielkie': 1648, 'Krzykawa Nowa': 1649, 'Krzyków': 1650, 'Krzymów': 1651, 'Krzyszkowice': 1652, 'Krzyszkowo': 1653, 'Krzywa': 1654, 'Krzywaczka': 1655, 'Krzywanice': 1656, 'Krzywda': 1657, 'Krzywdy': 1658, 'Krzywizna': 1659, 'Krzywiń': 1660, 'Krzywopłoty': 1661, 'Krzyż Wielkopolski': 1662, 'Krzyżanowice': 1663, 'Krzyżanowo': 1664, 'Krzyżanów': 1665, 'Krzyżowice': 1666, 'Krzyżowniki': 1667, 'Krzęcin': 1668, 'Królewiec': 1669, 'Królikowo': 1670, 'Królów': 1671, 'Królówka': 1672, 'Krąg': 1673, 'Krągola': 1674, 'Krążkowy': 1675, 'Kręczki': 1676, 'Krępice': 1677, 'Krępiec': 1678, 'Krępna': 1679, 'Krężnica Okrągła': 1680, 'Krężoły': 1681, 'Ksawerów': 1682, 'Książ Wielkopolski': 1683, 'Książenice': 1684, 'Książnice': 1685, 'Księginice': 1686, 'Księżak': 1687, 'Księżyno': 1688, 'Kuby Młyny': 1689, 'Kucice': 1690, 'Kudowa-Zdrój': 1691, 'Kudrycze': 1692, 'Kuklówka Zarzeczna': 1693, 'Kuków': 1694, 'Kule': 1695, 'Kuligów': 1696, 'Kunice': 1697, 'Kunowice': 1698, 'Kunowo': 1699, 'Kuny': 1700, 'Kunów': 1701, 'Kupientyn': 1702, 'Kuropatnik': 1703, 'Kurzelów': 1704, 'Kurznie': 1705, 'Kurzętnik': 1706, 'Kurzętnik Dolny': 1707, 'Kurów': 1708, 'Kutno': 1709, 'Kuznocin': 1710, 'Kuślin': 1711, 'Kuźnica': 1712, 'Kuźnica Masłońska': 1713, 'Kuźnica Zbąska': 1714, 'Kuźniki': 1715, 'Kwaczała': 1716, 'Kwaśniów Dolny': 1717, 'Kwiatkowice': 1718, 'Kwidzyn': 1719, 'Kwieciszewo': 1720, 'Kwilcz': 1721, 'Kwileń': 1722, 'Kórnik': 1723, 'Kąck': 1724, 'Kąkolewnica': 1725, 'Kąkolewnica Północna': 1726, 'Kąpino': 1727, 'Kąsinowo': 1728, 'Kąty': 1729, 'Kąty Opolskie': 1730, 'Kąty Wrocławskie': 1731, 'Kąty Węgierskie': 1732, 'Kębłowo': 1733, 'Kędzierzyn-Koźle': 1734, 'Kępa Bogumiłowicka': 1735, 'Kępa Kolonia': 1736, 'Kępice': 1737, 'Kępie Zaleszańskie': 1738, 'Kępiny': 1739, 'Kępno': 1740, 'Kęsowo': 1741, 'Kętrzyn': 1742, 'Kęty': 1743, 'Kłaj': 1744, 'Kłecko': 1745, 'Kłobuck': 1746, 'Kłobuczyn': 1747, 'Kłoczew': 1748, 'Kłoda': 1749, 'Kłodawa': 1750, 'Kłodzko': 1751, 'Kłomnice': 1752, 'Kłonna': 1753, 'Lachowice': 1754, 'Lamki': 1755, 'Lanckorona': 1756, 'Laski': 1757, 'Laski-Dąbrowa': 1758, 'Laskowa': 1759, 'Laskowiec': 1760, 'Laskowo': 1761, 'Lasocice': 1762, 'Laszczki': 1763, 'Latoszyn': 1764, 'Latowicz': 1765, 'Lechów': 1766, 'Lechówka': 1767, 'Lednogóra': 1768, 'Legionowo': 1769, 'Legnica': 1770, 'Legnickie Pole': 1771, 'Lelis': 1772, 'Lelów': 1773, 'Lenartowice': 1774, 'Leoncin': 1775, 'Leopoldów': 1776, 'Lesiów': 1777, 'Lesko': 1778, 'Leszczydół Stary': 1779, 'Leszczyna': 1780, 'Leszczynek': 1781, 'Leszczyny': 1782, 'Leszno': 1783, 'Leszno Górne': 1784, 'Lesznowola': 1785, 'Lewice': 1786, 'Lewin Kłodzki': 1787, 'Lewków': 1788, 'Leńcze': 1789, 'Leśce': 1790, 'Leśna': 1791, 'Leśnica': 1792, 'Leśnice': 1793, 'Leśniowice': 1794, 'Leśnogóra': 1795, 'Leźno': 1796, 'Leżajsk': 1797, 'Lgota': 1798, 'Lgota Górna': 1799, 'Lgota Mała': 1800, 'Lgota Wielka': 1801, 'Lgota-Mokrzesz': 1802, 'Lgota-Nadwarcie': 1803, 'Libertów': 1804, 'Libidza': 1805, 'Libiąż': 1806, 'Lichawa': 1807, 'Lichnowy': 1808, 'Lidzbark': 1809, 'Lidzbark Warmiński': 1810, 'Ligota': 1811, 'Ligota Czamborowa': 1812, 'Ligota Turawska': 1813, 'Ligowo': 1814, 'Limanowa': 1815, 'Liniewo': 1816, 'Lipa': 1817, 'Lipce Reymontowskie': 1818, 'Lipie': 1819, 'Lipinki': 1820, 'Lipinki Szlacheckie': 1821, 'Lipiny': 1822, 'Lipków': 1823, 'Lipna': 1824, 'Lipnica Dolna': 1825, 'Lipnica Mała': 1826, 'Lipnica Murowana': 1827, 'Lipnica Wielka': 1828, 'Lipnik': 1829, 'Lipniki': 1830, 'Lipno': 1831, 'Lipowa': 1832, 'Lipowo': 1833, 'Lipsko': 1834, 'Lipówki': 1835, 'Lisek': 1836, 'Lisewo': 1837, 'Lisewo Malborskie': 1838, 'Lisewo Parcele': 1839, 'Lisia Góra': 1840, 'Lisica': 1841, 'Lisków': 1842, 'Liszki': 1843, 'Liszkowo': 1844, 'Lisów': 1845, 'Lisówko': 1846, 'Liśnik Duży': 1847, 'Liśnik Duży Kolonia': 1848, 'Lniano': 1849, 'Lniska': 1850, 'Lnisno': 1851, 'Longinówka': 1852, 'Lubachowy': 1853, 'Lubaczów': 1854, 'Lubanie': 1855, 'Lubartów': 1856, 'Lubasz': 1857, 'Lubawa': 1858, 'Lubawka': 1859, 'Lubań': 1860, 'Lubczyna': 1861, 'Lubenia': 1862, 'Lubichowo': 1863, 'Lubicz Dolny': 1864, 'Lubicz Górny': 1865, 'Lubienia': 1866, 'Lubień': 1867, 'Lubień Kujawski': 1868, 'Lubin': 1869, 'Lubinicko': 1870, 'Lubiszewo': 1871, 'Lubiń': 1872, 'Lubkowo': 1873, 'Lublewo Gdańskie': 1874, 'Lublin': 1875, 'Lubliniec': 1876, 'Lubniewice': 1877, 'Lubnów': 1878, 'Lubochnia': 1879, 'Lubocz': 1880, 'Lubogoszcz': 1881, 'Lubojna': 1882, 'Lubomia': 1883, 'Lubomierz': 1884, 'Lubonieczek': 1885, 'Luborzyca': 1886, 'Lubostroń': 1887, 'Lubosz': 1888, 'Lubotyń': 1889, 'Lubowidz': 1890, 'Luboń': 1891, 'Lubraniec': 1892, 'Lubrza': 1893, 'Lubsko': 1894, 'Lubstówek': 1895, 'Lubsza': 1896, 'Lubycza Królewska': 1897, 'Lucynów': 1898, 'Ludwikowice Kłodzkie': 1899, 'Ludwików': 1900, 'Ludwin': 1901, 'Ludwina': 1902, 'Ludwinów': 1903, 'Ludźmierz': 1904, 'Lusina': 1905, 'Lusowo': 1906, 'Luszowice': 1907, 'Luszyce': 1908, 'Lusówko': 1909, 'Lusławice': 1910, 'Lutcza': 1911, 'Lutocin': 1912, 'Lutogniew': 1913, 'Lutol': 1914, 'Lutom': 1915, 'Lutomiersk': 1916, 'Lutoryż': 1917, 'Lutowiska': 1918, 'Lututów': 1919, 'Lutynia': 1920, 'Luzino': 1921, 'Lućmierz': 1922, 'Lwówek': 1923, 'Lwówek Śląski': 1924, 'Lyski': 1925, 'Lądek-Zdrój': 1926, 'Lębork': 1927, 'Lędziny': 1928, 'Machcino': 1929, 'Machnów Stary': 1930, 'Machowa': 1931, 'Maciejowice': 1932, 'Macierzysz': 1933, 'Magdalenka': 1934, 'Magnice': 1935, 'Magnuszew': 1936, 'Majdan': 1937, 'Majdan Królewski': 1938, 'Majdan Sieniawski': 1939, 'Majdan-Obleszcze': 1940, 'Makomazy': 1941, 'Makowiec': 1942, 'Makowiska': 1943, 'Maków': 1944, 'Maków Mazowiecki': 1945, 'Maków Podhalański': 1946, 'Malanów': 1947, 'Malawa': 1948, 'Malbork': 1949, 'Malcanów': 1950, 'Malczyce': 1951, 'Malechowo': 1952, 'Malenin': 1953, 'Malewo': 1954, 'Maliniec': 1955, 'Malinowo': 1956, 'Malinówka': 1957, 'Malutkie': 1958, 'Manowo': 1959, 'Marcinkowice': 1960, 'Marcinowice': 1961, 'Mareczki': 1962, 'Mareza': 1963, 'Margonin': 1964, 'Mariampol': 1965, 'Marianowice': 1966, 'Marki': 1967, 'Marklowice': 1968, 'Marklowice Górne': 1969, 'Markowice': 1970, 'Markowizna': 1971, 'Markuszowa': 1972, 'Markuszów': 1973, 'Marszew': 1974, 'Maruszewiec Nowy': 1975, 'Maryno': 1976, 'Marysin': 1977, 'Marzysz II': 1978, 'Marzęcice': 1979, 'Maróz': 1980, 'Maszewo': 1981, 'Maszewo Duże': 1982, 'Maszkienice': 1983, 'Maszkowice': 1984, 'Maszków': 1985, 'Masłomiąca': 1986, 'Masłowo': 1987, 'Masłońskie': 1988, 'Masłów Pierwszy': 1989, 'Matczyn': 1990, 'Matiaszów': 1991, 'Matygi': 1992, 'Maurycew': 1993, 'Mała': 1994, 'Mała Nieszawka': 1995, 'Mała Wieś': 1996, 'Małachowo': 1997, 'Małaszewicze': 1998, 'Małdyty': 1999, 'Małe Gacno': 2000, 'Małe Osiedle': 2001, 'Małe Rudy': 2002, 'Małe Łąkie': 2003, 'Małgów': 2004, 'Małkinia Górna': 2005, 'Małkowice': 2006, 'Małkowo': 2007, 'Małogoszcz': 2008, 'Małoszyce': 2009, 'Małowidz': 2010, 'Małuszów': 2011, 'Małęczyn Nowy': 2012, 'Mańkowice': 2013, 'Mechlin': 2014, 'Medyka': 2015, 'Medynia Głogowska': 2016, 'Melanów': 2017, 'Meszna': 2018, 'Mełno': 2019, 'Miasteczko Śląskie': 2020, 'Miastko': 2021, 'Miastkowo': 2022, 'Miastków Kościelny': 2023, 'Miastowice': 2024, 'Michałowice': 2025, 'Michałowo': 2026, 'Michałów': 2027, 'Michałów-Reginów': 2028, 'Michniów': 2029, 'Michów': 2030, 'Micigózd': 2031, 'Miechucino': 2032, 'Miechów': 2033, 'Miechów-Charsznica': 2034, 'Mieczewo': 2035, 'Miedary': 2036, 'Miedziana': 2037, 'Miedziana Góra': 2038, 'Miedzichowo': 2039, 'Miedzierza': 2040, 'Miejsce Piastowe': 2041, 'Miejska Górka': 2042, 'Mielec': 2043, 'Mieleszyn': 2044, 'Mielno': 2045, 'Mielżyn': 2046, 'Mieronice': 2047, 'Mieroszów': 2048, 'Mierzanów': 2049, 'Mierzyce': 2050, 'Mierzyn': 2051, 'Mierzęcice': 2052, 'Mieszkowice': 2053, 'Mietków': 2054, 'Mieścisko': 2055, 'Mikoszewo': 2056, 'Mikowice': 2057, 'Mikołajowice': 2058, 'Mikołów': 2059, 'Milanówek': 2060, 'Milcza': 2061, 'Milejowice': 2062, 'Milejów-Osada': 2063, 'Milicz': 2064, 'Milików': 2065, 'Milówka': 2066, 'Minikowo': 2067, 'Minoga': 2068, 'Miodary': 2069, 'Mirkowiczki': 2070, 'Mirków': 2071, 'Mirostowice Górne': 2072, 'Mirosławice': 2073, 'Mirowo Duże': 2074, 'Mirsk': 2075, 'Mirzec': 2076, 'Mirzec-Poddąbrowa': 2077, 'Mirów Stary': 2078, 'Mistrzewice': 2079, 'Mistów': 2080, 'Miszewko': 2081, 'Miszewo': 2082, 'Mizerów': 2083, 'Międzyborów': 2084, 'Międzybrodzie Bialskie': 2085, 'Międzybrodzie Żywieckie': 2086, 'Międzybórz': 2087, 'Międzychód': 2088, 'Międzyrzec Podlaski': 2089, 'Międzyrzecz': 2090, 'Międzyrzecze': 2091, 'Międzyrzecze Dolne': 2092, 'Międzyrzecze Górne': 2093, 'Międzyzdroje': 2094, 'Międzyświeć': 2095, 'Miętne': 2096, 'Miłakowo': 2097, 'Miłkowa': 2098, 'Miłków': 2099, 'Miłocice': 2100, 'Miłoszewo': 2101, 'Miłosław': 2102, 'Miłowice': 2103, 'Mińsk Mazowiecki': 2104, 'Mleczków': 2105, 'Mlewiec': 2106, 'Mnich': 2107, 'Mnichowo': 2108, 'Mnichów': 2109, 'Mników': 2110, 'Mniszew': 2111, 'Mniszków': 2112, 'Mniów': 2113, 'Mochle': 2114, 'Mochowo': 2115, 'Mochy': 2116, 'Moczadła': 2117, 'Moczydło': 2118, 'Modliborzyce': 2119, 'Modliszewice': 2120, 'Modlnica': 2121, 'Modlniczka': 2122, 'Modrzewie': 2123, 'Modrzyca': 2124, 'Modła': 2125, 'Mogilany': 2126, 'Mogilno': 2127, 'Mojesz': 2128, 'Mokobody': 2129, 'Mokronos Dolny': 2130, 'Mokronos Górny': 2131, 'Mokrzyska': 2132, 'Momocicha': 2133, 'Moraczewo': 2134, 'Morakowo': 2135, 'Morawczyna': 2136, 'Morawianki': 2137, 'Morawica': 2138, 'Morawin': 2139, 'Morawy': 2140, 'Mordarka': 2141, 'Morzeszczyn': 2142, 'Morzyczyn': 2143, 'Morąg': 2144, 'Mosina': 2145, 'Mostki': 2146, 'Mosty': 2147, 'Mostówka': 2148, 'Moszczenica': 2149, 'Moszczenica Niżna': 2150, 'Motoga': 2151, 'Motycz': 2152, 'Mońki': 2153, 'Mościce': 2154, 'Mościenica': 2155, 'Mościska': 2156, 'Mrocza': 2157, 'Mroczeń': 2158, 'Mroków': 2159, 'Mrowino': 2160, 'Mrowiska': 2161, 'Mrowla': 2162, 'Mrozy': 2163, 'Mrzeżyno': 2164, 'Mrągowo': 2165, 'Mstów': 2166, 'Mszalnica': 2167, 'Mszana': 2168, 'Mszana Dolna': 2169, 'Mszana Górna': 2170, 'Mszczonów': 2171, 'Mucharz': 2172, 'Murowana Goślina': 2173, 'Murowaniec': 2174, 'Murzynowo': 2175, 'Muszkowo': 2176, 'Muszyna': 2177, 'Mykanów': 2178, 'Mysiadło': 2179, 'Mystków': 2180, 'Myszewko': 2181, 'Myszków': 2182, 'Myszyniec': 2183, 'Mysłakowice': 2184, 'Mysłowice': 2185, 'Mysłów': 2186, 'Myślenice': 2187, 'Myśliborzyce': 2188, 'Myślibórz': 2189, 'Myśligoszcz': 2190, 'Mzurowa': 2191, 'Mzyki': 2192, 'Mąkolice': 2193, 'Mąkoszyce': 2194, 'Mątwica': 2195, 'Męcina': 2196, 'Mędrzechów': 2197, 'Mędłów': 2198, 'Mława': 2199, 'Młodoszowice': 2200, 'Młodziejowice': 2201, 'Młodzieszyn': 2202, 'Młoszowa': 2203, 'Młynarze': 2204, 'Młynek': 2205, 'Mścice': 2206, 'Naborowo-Parcele': 2207, 'Nadarzyn': 2208, 'Nadma': 2209, 'Nadolice Wielkie': 2210, 'Nadziejewo': 2211, 'Nagoszewka Pierwsza': 2212, 'Nagoszewo': 2213, 'Nagłowice': 2214, 'Nakło': 2215, 'Nakło nad Notecią': 2216, 'Nakło Śląskie': 2217, 'Nalewajków': 2218, 'Namysłów': 2219, 'Napachanie': 2220, 'Naprawa': 2221, 'Napęków': 2222, 'Narama': 2223, 'Narok': 2224, 'Narzym': 2225, 'Nasielsk': 2226, 'Natolin': 2227, 'Nawojowa': 2228, 'Nawojowa Góra': 2229, 'Nałęczów': 2230, 'Nekla': 2231, 'Nidek': 2232, 'Nidzica': 2233, 'Nieborowice': 2234, 'Nieborów': 2235, 'Niebylec': 2236, 'Niebyła': 2237, 'Niechanowo': 2238, 'Niechcice': 2239, 'Niechlów': 2240, 'Niechmirów': 2241, 'Niechobrz': 2242, 'Niechorze': 2243, 'Nieciesławice': 2244, 'Nieciszów': 2245, 'Nieczajna Górna': 2246, 'Niedary': 2247, 'Niedomice': 2248, 'Niedrzwica Duża': 2249, 'Niedrzwica Kościelna': 2250, 'Niedźwiedź': 2251, 'Niegosław': 2252, 'Niegowa': 2253, 'Niegowonice': 2254, 'Niekazanice': 2255, 'Niekursko': 2256, 'Nielisz': 2257, 'Niemce': 2258, 'Niemcz': 2259, 'Niemierzewo': 2260, 'Niemodlin': 2261, 'Niemstów': 2262, 'Nienaszów': 2263, 'Nieporęt': 2264, 'Niepołomice': 2265, 'Niepruszewo': 2266, 'Nieskórz': 2267, 'Niestachów': 2268, 'Niestum': 2269, 'Niestępowo': 2270, 'Nieszkowice Małe': 2271, 'Nietków': 2272, 'Niewiarów': 2273, 'Niewiatrowice': 2274, 'Niewodnica Korycka': 2275, 'Niewodnica Kościelna': 2276, 'Nieznanice': 2277, 'Nikielkowo': 2278, 'Nisko': 2279, 'Niwica': 2280, 'Niwnice': 2281, 'Niwy': 2282, 'Niziny': 2283, 'Nochowo': 2284, 'Noskowo': 2285, 'Nosówka': 2286, 'Novy Jicin': 2287, 'Nowa Dęba': 2288, 'Nowa Grabownica': 2289, 'Nowa Góra': 2290, 'Nowa Iwiczna': 2291, 'Nowa Kakawa': 2292, 'Nowa Karczma': 2293, 'Nowa Kornica': 2294, 'Nowa Osuchowa': 2295, 'Nowa Rokitnia': 2296, 'Nowa Ruda': 2297, 'Nowa Sarzyna': 2298, 'Nowa Sól': 2299, 'Nowa Sławogóra': 2300, 'Nowa Słupia': 2301, 'Nowa Tuchola': 2302, 'Nowa Wieś': 2303, 'Nowa Wieś Ełcka': 2304, 'Nowa Wieś Lęborska': 2305, 'Nowa Wieś Rzeczna': 2306, 'Nowa Wieś Wielka': 2307, 'Nowa Wola': 2308, 'Nowe': 2309, 'Nowe Arciszewo': 2310, 'Nowe Bielice': 2311, 'Nowe Boryszewo': 2312, 'Nowe Brzesko': 2313, 'Nowe Bystre': 2314, 'Nowe Chechło': 2315, 'Nowe Dwory': 2316, 'Nowe Gizewo': 2317, 'Nowe Gulczewo': 2318, 'Nowe Iganie': 2319, 'Nowe Jankowice': 2320, 'Nowe Kozuby': 2321, 'Nowe Kramsko': 2322, 'Nowe Kucice': 2323, 'Nowe Lipiny': 2324, 'Nowe Miasteczko': 2325, 'Nowe Miasto': 2326, 'Nowe Miasto Lubawskie': 2327, 'Nowe Miasto nad Pilicą': 2328, 'Nowe Miasto nad Wartą': 2329, 'Nowe Osiny': 2330, 'Nowe Polaszki': 2331, 'Nowe Proboszczewice': 2332, 'Nowe Rumunki': 2333, 'Nowe Ręczaje': 2334, 'Nowe Skalmierzyce': 2335, 'Nowe Trzepowo': 2336, 'Nowe Zadybie': 2337, 'Nowe Zduny': 2338, 'Nowe Łagiewniki': 2339, 'Nowe Żabno': 2340, 'Nowina': 2341, 'Nowiny': 2342, 'Nowiny Wielkie': 2343, 'Nowodworce': 2344, 'Nowodwór': 2345, 'Nowogard': 2346, 'Nowogrodziec': 2347, 'Nowogród': 2348, 'Nowogród Bobrzański': 2349, 'Nowosielce': 2350, 'Nowy Bugaj': 2351, 'Nowy Dwór': 2352, 'Nowy Dwór Gdański': 2353, 'Nowy Dwór Mazowiecki': 2354, 'Nowy Folwark': 2355, 'Nowy Glinnik': 2356, 'Nowy Janów': 2357, 'Nowy Jasiniec': 2358, 'Nowy Kamion': 2359, 'Nowy Kiełbów': 2360, 'Nowy Kocin': 2361, 'Nowy Konik': 2362, 'Nowy Modlin': 2363, 'Nowy Nakwasin': 2364, 'Nowy Odrowążek': 2365, 'Nowy Staw': 2366, 'Nowy Sącz': 2367, 'Nowy Targ': 2368, 'Nowy Tomyśl': 2369, 'Nowy Wiec': 2370, 'Nowy Wiśnicz': 2371, 'Nowy Wylezin': 2372, 'Nowy Świat': 2373, 'Nowy Świętów': 2374, 'Nowy Żmigród': 2375, 'Nur': 2376, 'Nysa': 2377, 'Nądnia': 2378, 'Nędza': 2379, 'Oberhausen': 2380, 'Oblęgorek': 2381, 'Obojna': 2382, 'Oborniki': 2383, 'Oborniki Śląskie': 2384, 'Obra': 2385, 'Obrazów': 2386, 'Obrowiec': 2387, 'Obrowo': 2388, 'Obrzycko': 2389, 'Obrzębin': 2390, 'Obłaczkowo': 2391, 'Ochaby Małe': 2392, 'Ochojno': 2393, 'Ocice': 2394, 'Ociąż': 2395, 'Odolanów': 2396, 'Odporyszów': 2397, 'Odrzechowa': 2398, 'Odrzykoń': 2399, 'Odrzywół': 2400, 'Ograszka': 2401, 'Ogrodniczki': 2402, 'Ogrodzieniec': 2403, 'Ojcowizna': 2404, 'Okaliniec': 2405, 'Okrzeszyn': 2406, 'Oksa': 2407, 'Okszów': 2408, 'Okuniew': 2409, 'Olchawa': 2410, 'Olchowa': 2411, 'Olchowiec': 2412, 'Olchowo': 2413, 'Olecko': 2414, 'Olesno': 2415, 'Oleszyce': 2416, 'Oleśnica': 2417, 'Oliszki': 2418, 'Olkusz': 2419, 'Olpuch': 2420, 'Olsz': 2421, 'Olszanka': 2422, 'Olszany': 2423, 'Olszewek': 2424, 'Olszowice': 2425, 'Olsztyn': 2426, 'Olsztynek': 2427, 'Olszyna': 2428, 'Olszyny': 2429, 'Omule': 2430, 'Opacz Kolonia': 2431, 'Opalenica': 2432, 'Opatów': 2433, 'Opatówek': 2434, 'Opoczno': 2435, 'Opole': 2436, 'Opole Lubelskie': 2437, 'Orchowo': 2438, 'Orkowo': 2439, 'Orle': 2440, 'Orneta': 2441, 'Ornontowice': 2442, 'Orońsko': 2443, 'Ortel Królewski II': 2444, 'Orzech': 2445, 'Orzechowce': 2446, 'Orzechowo': 2447, 'Orzechówka': 2448, 'Orzelec': 2449, 'Orzesze': 2450, 'Orzysz': 2451, 'Orła': 2452, 'Orłowo': 2453, 'Osie': 2454, 'Osieczna': 2455, 'Osiek': 2456, 'Osiek Drawski': 2457, 'Osiek Mały': 2458, 'Osielec': 2459, 'Osielsko': 2460, 'Osina': 2461, 'Osiny': 2462, 'Osiny Kolonia': 2463, 'Osięciny': 2464, 'Osjaków': 2465, 'Oska Piła': 2466, 'Osmolice Drugie': 2467, 'Osmolice-Kolonia': 2468, 'Osowiec': 2469, 'Osse': 2470, 'Ossowice': 2471, 'Ostaszewo': 2472, 'Ostroróg': 2473, 'Ostrowice': 2474, 'Ostrowiec Świętokrzyski': 2475, 'Ostrowite': 2476, 'Ostrowsko': 2477, 'Ostrowy nad Okszą': 2478, 'Ostrołęka': 2479, 'Ostrożany': 2480, 'Ostrzeszów': 2481, 'Ostróda': 2482, 'Ostrów': 2483, 'Ostrów Lubelski': 2484, 'Ostrów Mazowiecka': 2485, 'Ostrów Szlachecki': 2486, 'Ostrów Wielkopolski': 2487, 'Ostrówek': 2488, 'Ostróżki': 2489, 'Osusz': 2490, 'Osów': 2491, 'Osła': 2492, 'Otmuchów': 2493, 'Otomin': 2494, 'Otrębusy': 2495, 'Otwock': 2496, 'Otwock Mały': 2497, 'Otwock Wielki': 2498, 'Otyń': 2499, 'Otłoczyn': 2500, 'Owińska': 2501, 'Ozimek': 2502, 'Ozorków': 2503, 'Ozorowice': 2504, 'Oława': 2505, 'Ołdrzychowice Kłodzkie': 2506, 'Ośno Lubuskie': 2507, 'Oświęcim': 2508, 'Ożarowice': 2509, 'Ożary': 2510, 'Ożarów': 2511, 'Ożarów Mazowiecki': 2512, 'Pabianice': 2513, 'Pacanów': 2514, 'Paczkowo': 2515, 'Paczków': 2516, 'Paczuski Duże': 2517, 'Pajęczno': 2518, 'Pakoszówka': 2519, 'Pakosław': 2520, 'Pakość': 2521, 'Palaty': 2522, 'Palczew Parcela': 2523, 'Palikije Pierwsze': 2524, 'Palikówka': 2525, 'Palędzie': 2526, 'Pamiątkowo': 2527, 'Paniówki': 2528, 'Panki': 2529, 'Pantalowice': 2530, 'Paparzyn': 2531, 'Papowo Toruńskie': 2532, 'Paprotnia': 2533, 'Paprotno': 2534, 'Paradyż': 2535, 'Parczew': 2536, 'Parszów': 2537, 'Parysów': 2538, 'Parznice': 2539, 'Parzniew': 2540, 'Parzniewice Małe': 2541, 'Parzynów': 2542, 'Parzęczew': 2543, 'Parądzice': 2544, 'Pasek': 2545, 'Pasiecznik': 2546, 'Pasieki': 2547, 'Pasternik': 2548, 'Pasym': 2549, 'Paszczyna': 2550, 'Paszowice': 2551, 'Pasłęk': 2552, 'Paterek': 2553, 'Pawlin': 2554, 'Pawłowice': 2555, 'Pawłowiczki': 2556, 'Pawłowo': 2557, 'Pawłów': 2558, 'Pawłówek': 2559, 'Paździorno': 2560, 'Pcim': 2561, 'Pecna': 2562, 'Pelplin': 2563, 'Perzyny': 2564, 'Perzów': 2565, 'Pewel Mała': 2566, 'Pełczyce': 2567, 'Pianówka': 2568, 'Piaseczno': 2569, 'Piasek': 2570, 'Piaski': 2571, 'Piaski Królewieckie': 2572, 'Piaskowiec': 2573, 'Piaskowo': 2574, 'Piastów': 2575, 'Pichlice': 2576, 'Piece': 2577, 'Piechowice': 2578, 'Piecki': 2579, 'Pieczonogi': 2580, 'Piekary': 2581, 'Piekary Śląskie': 2582, 'Piekielnik': 2583, 'Piekoszów': 2584, 'Pielgrzymka': 2585, 'Pielgrzymowice': 2586, 'Pieniężnica': 2587, 'Pieniężno': 2588, 'Pieruchy': 2589, 'Pieruszyce': 2590, 'Pierwoszyno': 2591, 'Pierzchnica': 2592, 'Pierzchów': 2593, 'Pieszyce': 2594, 'Pietrowice Wielkie': 2595, 'Pietrzykowice': 2596, 'Pieńki': 2597, 'Pieńsk': 2598, 'Pigża': 2599, 'Pilawa': 2600, 'Pilchowice': 2601, 'Pilchowo': 2602, 'Pilica': 2603, 'Pilzno': 2604, 'Pinczyn': 2605, 'Pionki': 2606, 'Piorunówek': 2607, 'Piotrawin': 2608, 'Piotrawin-Kolonia': 2609, 'Piotrkowice': 2610, 'Piotrków Kujawski': 2611, 'Piotrków Trybunalski': 2612, 'Piotrowice': 2613, 'Piotrowice-Osiedle': 2614, 'Pisary': 2615, 'Pisarzowa': 2616, 'Pisarzowice': 2617, 'Piski': 2618, 'Pisz': 2619, 'Piwniczna-Zdrój': 2620, 'Piątek': 2621, 'Piątkowisko': 2622, 'Piątnica Poduchowna': 2623, 'Pięczkowo': 2624, 'Piętno': 2625, 'Piła': 2626, 'Piła Kościelecka': 2627, 'Piła Pierwsza': 2628, 'Pińczów': 2629, 'Pleszew': 2630, 'Plewiska': 2631, 'Plewno': 2632, 'Pleśna': 2633, 'Plichtów': 2634, 'Pluskowęsy': 2635, 'Pniewiski': 2636, 'Pniewo': 2637, 'Pniewy': 2638, 'Pniów': 2639, 'Pniówek': 2640, 'Pobiednik Wielki': 2641, 'Pobiedziska': 2642, 'Pobierowo': 2643, 'Poborszów': 2644, 'Pobłocie': 2645, 'Poczesna': 2646, 'Podanin': 2647, 'Podańsko': 2648, 'Podborze': 2649, 'Poddębice': 2650, 'Podegrodzie': 2651, 'Podgórzyce': 2652, 'Podgórzyn': 2653, 'Podkonice Miejskie': 2654, 'Podkowa Leśna': 2655, 'Podlas': 2656, 'Podlesice': 2657, 'Podlesie': 2658, 'Podleńce': 2659, 'Podmielowiec': 2660, 'Podole': 2661, 'Podole-Górowa': 2662, 'Podrzewie': 2663, 'Podsarnie': 2664, 'Podstolice': 2665, 'Podszkle': 2666, 'Podwarpie': 2667, 'Podwilk': 2668, 'Podzagajnik': 2669, 'Podzamcze': 2670, 'Podzborów': 2671, 'Podłęcze': 2672, 'Podłęże': 2673, 'Podłężyce': 2674, 'Pogorzel': 2675, 'Pogorzela': 2676, 'Pogorzelice': 2677, 'Pogorzyce': 2678, 'Pogwizdów': 2679, 'Pogódki': 2680, 'Pogórska Wola': 2681, 'Pogórze': 2682, 'Pokoje': 2683, 'Pokrzywianka': 2684, 'Pokój': 2685, 'Polakowice': 2686, 'Polanica-Zdrój': 2687, 'Polanka': 2688, 'Polanka Wielka': 2689, 'Polanów': 2690, 'Polanówka': 2691, 'Police': 2692, 'Polichno': 2693, 'Policko': 2694, 'Polkowice': 2695, 'Polkowice Dolne': 2696, 'Polkowo': 2697, 'Polska Cerekiew': 2698, 'Polska Nowa Wieś': 2699, 'Polskie Stwolno': 2700, 'Polubicze Wiejskie I': 2701, 'Pomiechówek': 2702, 'Pomieczyno': 2703, 'Pomlewo': 2704, 'Poniatowa': 2705, 'Poniatowa-Kolonia': 2706, 'Poniatowo': 2707, 'Poniatówka': 2708, 'Poniec': 2709, 'Ponikiew Duża': 2710, 'Ponętów Dolny': 2711, 'Ponętów Górny Drugi': 2712, 'Popielawy': 2713, 'Popielów': 2714, 'Popowo Kościelne': 2715, 'Popów': 2716, 'Popówko': 2717, 'Poraj': 2718, 'Porażyn': 2719, 'Poronin': 2720, 'Porosły': 2721, 'Porosły-Kolonia': 2722, 'Porąbka': 2723, 'Poręba': 2724, 'Poręba Górna': 2725, 'Poręba Wielka': 2726, 'Poręba Żegoty': 2727, 'Posada': 2728, 'Postolin': 2729, 'Postęp': 2730, 'Potasze': 2731, 'Potaśnia': 2732, 'Potok Wielki': 2733, 'Potrzanowo': 2734, 'Potulice': 2735, 'Potuliniec': 2736, 'Potworów': 2737, 'Potęgowo': 2738, 'Potępa': 2739, 'Powidz': 2740, 'Powiercie Wieś': 2741, 'Powodowo': 2742, 'Powroźnik': 2743, 'Poznachowice Górne': 2744, 'Poznań': 2745, 'Pozowice': 2746, 'Połajewo': 2747, 'Połaniec': 2748, 'Połazie Świętochowskie': 2749, 'Połchowo': 2750, 'Połczyn-Zdrój': 2751, 'Połomia': 2752, 'Poświętne': 2753, 'Prabuty': 2754, 'Pradła': 2755, 'Praszka': 2756, 'Prawiedniki': 2757, 'Prawiedniki-Kolonia': 2758, 'Prażmów': 2759, 'Probołowice': 2760, 'Prochowice': 2761, 'Promnice': 2762, 'Promno-Stacja': 2763, 'Proszowice': 2764, 'Proszówki': 2765, 'Prucheńsko Duże': 2766, 'Pruchna': 2767, 'Pruchnik': 2768, 'Prudnik': 2769, 'Prusice': 2770, 'Prusinowice': 2771, 'Prusy': 2772, 'Pruszcz': 2773, 'Pruszcz Gdański': 2774, 'Pruszków': 2775, 'Przasnysz': 2776, 'Przebendów': 2777, 'Przebieczany': 2778, 'Przechlewo': 2779, 'Przechód': 2780, 'Przeciszów': 2781, 'Przeczów': 2782, 'Przecław': 2783, 'Przedbórz': 2784, 'Przedecz': 2785, 'Przedmieście Dubieckie': 2786, 'Przeginia': 2787, 'Przeginia Duchowna': 2788, 'Przejazdowo': 2789, 'Przekora': 2790, 'Przelewice': 2791, 'Przemków': 2792, 'Przemyśl': 2793, 'Przemęt': 2794, 'Przenosza': 2795, 'Przerzeczyn-Zdrój': 2796, 'Przesieki': 2797, 'Przetoczyno': 2798, 'Przewale': 2799, 'Przeworsk': 2800, 'Przewłoka': 2801, 'Przezdrowice': 2802, 'Przeźmierowo': 2803, 'Przodkowo': 2804, 'Przy Szosie Bydgoskiej': 2805, 'Przybiernów': 2806, 'Przyborów': 2807, 'Przybynów': 2808, 'Przybysławice': 2809, 'Przyczyna Górna': 2810, 'Przygodzice': 2811, 'Przygłów': 2812, 'Przyjaźń': 2813, 'Przyjma': 2814, 'Przykona': 2815, 'Przylep': 2816, 'Przymiłowice': 2817, 'Przypusta': 2818, 'Przyrów': 2819, 'Przysiek': 2820, 'Przysiersk': 2821, 'Przysietnica': 2822, 'Przystajń': 2823, 'Przysucha': 2824, 'Przyszowa': 2825, 'Przyszowice': 2826, 'Przytoczna': 2827, 'Przytoczno': 2828, 'Przytok': 2829, 'Przytyk': 2830, 'Przywidz': 2831, 'Przywitowo': 2832, 'Przyłubsko': 2833, 'Przyłęk': 2834, 'Przyłęki': 2835, 'Prószków': 2836, 'Prątnica': 2837, 'Pręczki': 2838, 'Pręgowo': 2839, 'Psarskie': 2840, 'Psary': 2841, 'Psary Małe': 2842, 'Pszczew': 2843, 'Pszczyna': 2844, 'Pszczółczyn': 2845, 'Pszczółki': 2846, 'Pszenno': 2847, 'Pszów': 2848, 'Ptaszkowa': 2849, 'Pucice': 2850, 'Puck': 2851, 'Pudliszki': 2852, 'Pudzików': 2853, 'Pudłówek': 2854, 'Pukinin': 2855, 'Pustyny': 2856, 'Puszcza Mariańska': 2857, 'Puszczykowo': 2858, 'Puzdrowo': 2859, 'Puławy': 2860, 'Pułtusk': 2861, 'Puńców': 2862, 'Puńsk': 2863, 'Pyrzany': 2864, 'Pyrzowice': 2865, 'Pyrzyce': 2866, 'Pyskowice': 2867, 'Pysznica': 2868, 'Pyzdry': 2869, 'Pólko': 2870, 'Pączewo': 2871, 'Pęcice Małe': 2872, 'Pędzewo': 2873, 'Pęgów': 2874, 'Pękowice': 2875, 'Pępowo': 2876, 'Pętkowice': 2877, 'Pławniowice': 2878, 'Płaza': 2879, 'Płochocin': 2880, 'Płochocin Osiedle': 2881, 'Płock': 2882, 'Płoty': 2883, 'Płońsk': 2884, 'Płośnica': 2885, 'Płąchawy': 2886, 'Rabka-Zdrój': 2887, 'Rabowice': 2888, 'Racibory': 2889, 'Racibórz': 2890, 'Raciechowice': 2891, 'Raciąż': 2892, 'Raciążek': 2893, 'Racław': 2894, 'Racławice': 2895, 'Racławki': 2896, 'Radawiec Duży': 2897, 'Radgoszcz': 2898, 'Radkowice': 2899, 'Radków': 2900, 'Radlin': 2901, 'Radocza': 2902, 'Radom': 2903, 'Radomia': 2904, 'Radomice': 2905, 'Radomin': 2906, 'Radomsko': 2907, 'Radomyśl': 2908, 'Radomyśl Wielki': 2909, 'Radostków-Kolonia': 2910, 'Radostowice': 2911, 'Radoszyce': 2912, 'Radwan': 2913, 'Radwanice': 2914, 'Radymno': 2915, 'Radzanów': 2916, 'Radziechowy': 2917, 'Radziejowice': 2918, 'Radziejów': 2919, 'Radzionków': 2920, 'Radziszewko': 2921, 'Radziszewo': 2922, 'Radziszów': 2923, 'Radziwiłłów': 2924, 'Radzymin': 2925, 'Radzyny': 2926, 'Radzyń Chełmiński': 2927, 'Radzyń Podlaski': 2928, 'Radłów': 2929, 'Rajbrot': 2930, 'Rajcza': 2931, 'Rajec Poduchowny': 2932, 'Rajsko': 2933, 'Rakoniewice': 2934, 'Rakowice Wielkie': 2935, 'Rakowiska': 2936, 'Raków': 2937, 'Raniżów': 2938, 'Raszków': 2939, 'Raszyn': 2940, 'Rataje': 2941, 'Ratajów': 2942, 'Ratoszyn Pierwszy': 2943, 'Ratowo-Piotrowo': 2944, 'Rawa Mazowiecka': 2945, 'Rawicz': 2946, 'Recz': 2947, 'Reda': 2948, 'Regulice': 2949, 'Reguły': 2950, 'Rejowiec': 2951, 'Rekle': 2952, 'Rembelszczyzna': 2953, 'Repki': 2954, 'Resko': 2955, 'Reskowo': 2956, 'Rewa': 2957, 'Rewal': 2958, 'Reńska Wieś': 2959, 'Robakowo': 2960, 'Robczysko': 2961, 'Roczyny': 2962, 'Rodaki': 2963, 'Rogalinek': 2964, 'Rogaszyce': 2965, 'Rogowo': 2966, 'Rogozino': 2967, 'Rogoźnik': 2968, 'Rogoźno': 2969, 'Rogoż': 2970, 'Rogów': 2971, 'Rogów Opolski': 2972, 'Rogów Sobócki': 2973, 'Rogóźnia': 2974, 'Rogóźno': 2975, 'Rojewo': 2976, 'Rojów': 2977, 'Rokiciny': 2978, 'Rokiciny-Kolonia': 2979, 'Rokietnica': 2980, 'Rokitnica': 2981, 'Rokitno': 2982, 'Rokocin': 2983, 'Ropa': 2984, 'Ropczyce': 2985, 'Ropica Polska': 2986, 'Rosko': 2987, 'Rososzyca': 2988, 'Rossosz': 2989, 'Roszki': 2990, 'Rotmanka': 2991, 'Rozalin': 2992, 'Rozbórz': 2993, 'Rozdrażew': 2994, 'Rozgarty': 2995, 'Rozogi': 2996, 'Rozprza': 2997, 'Rozpucie': 2998, 'Rozłogi': 2999, 'Roźwienica': 3000, 'Rożental': 3001, 'Rożki': 3002, 'Rożnowo': 3003, 'Ruchna': 3004, 'Ruczynów': 3005, 'Ruda': 3006, 'Ruda Maleniecka': 3007, 'Ruda Strawczyńska': 3008, 'Ruda Wielka': 3009, 'Ruda Śląska': 3010, 'Rudawa': 3011, 'Rudka': 3012, 'Rudka Kozłowiecka': 3013, 'Rudki': 3014, 'Rudna': 3015, 'Rudna Mała': 3016, 'Rudna Wielka': 3017, 'Rudnik': 3018, 'Rudnik Wielki': 3019, 'Rudnik nad Sanem': 3020, 'Rudniki': 3021, 'Rudno': 3022, 'Rudy': 3023, 'Rudyszwałd': 3024, 'Rudzica': 3025, 'Rudzienice': 3026, 'Rudzienko': 3027, 'Rudzk Duży': 3028, 'Rumia': 3029, 'Rumianek': 3030, 'Runów': 3031, 'Rusiec': 3032, 'Rusinowo': 3033, 'Rusinów': 3034, 'Rusko': 3035, 'Rusocin': 3036, 'Russów': 3037, 'Ruszcza': 3038, 'Ruszków Drugi': 3039, 'Ruszów': 3040, 'Rutki': 3041, 'Rutki-Kossaki': 3042, 'Rybarzowice': 3043, 'Rybie': 3044, 'Rybienko Nowe': 3045, 'Rybna': 3046, 'Rybnica Leśna': 3047, 'Rybnik': 3048, 'Rycerka Dolna': 3049, 'Rychtal': 3050, 'Rychwał': 3051, 'Rychłocice': 3052, 'Ryczywół': 3053, 'Ryczów': 3054, 'Ryczówek': 3055, 'Rydułtowy': 3056, 'Rydzyna': 3057, 'Rydzynki': 3058, 'Ryglice': 3059, 'Ryki': 3060, 'Rymanów': 3061, 'Rymanów-Zdrój': 3062, 'Rymań': 3063, 'Ryn': 3064, 'Rynarzewo': 3065, 'Rynia': 3066, 'Rypin': 3067, 'Rytro': 3068, 'Rytwiany': 3069, 'Rywałd': 3070, 'Ryńsk': 3071, 'Rzakta': 3072, 'Rzecko': 3073, 'Rzeczenica': 3074, 'Rzeczyca': 3075, 'Rzeczyce': 3076, 'Rzekuń': 3077, 'Rzemień': 3078, 'Rzepin': 3079, 'Rzepin Drugi': 3080, 'Rzerzęczyce': 3081, 'Rzeszotary': 3082, 'Rzeszów': 3083, 'Rzezawa': 3084, 'Rzgów': 3085, 'Rzgów Drugi': 3086, 'Rzuchowa': 3087, 'Rzuchów': 3088, 'Rzyki': 3089, 'Rząska': 3090, 'Rząśnia': 3091, 'Rzędowice': 3092, 'Rzędzianowice': 3093, 'Różan': 3094, 'Różaniec Drugi': 3095, 'Różnowo': 3096, 'Różyca': 3097, 'Rąbień': 3098, 'Rąbień AB': 3099, 'Rączna': 3100, 'Ręczno': 3101, 'Rędziny': 3102, 'Sade Budy': 3103, 'Sadków': 3104, 'Sadowie': 3105, 'Sadowne': 3106, 'Sadurki': 3107, 'Sady': 3108, 'Sadów': 3109, 'Samborowo': 3110, 'Sandomierz': 3111, 'Sanka': 3112, 'Sanok': 3113, 'Sarbiewo': 3114, 'Sarnaki': 3115, 'Sarnów': 3116, 'Sarzyna': 3117, 'Sawin': 3118, 'Schodnia': 3119, 'Sedranki': 3120, 'Sejny': 3121, 'Semlin': 3122, 'Serby': 3123, 'Serock': 3124, 'Seroczyn': 3125, 'Serokomla': 3126, 'Siadło Górne': 3127, 'Sianów': 3128, 'Sicienko': 3129, 'Siechnice': 3130, 'Sieciechowice': 3131, 'Siedlce': 3132, 'Siedlec': 3133, 'Siedlec Duży': 3134, 'Siedlec Mały': 3135, 'Siedliska': 3136, 'Siedlisko': 3137, 'Siedliszcze': 3138, 'Siedlnica': 3139, 'Siedlęcin': 3140, 'Siekierki Wielkie': 3141, 'Sielc': 3142, 'Sielinko': 3143, 'Sielpia Wielka': 3144, 'Siemianice': 3145, 'Siemianowice Śląskie': 3146, 'Siemiatycze': 3147, 'Siemień Nadrzeczny': 3148, 'Siemirowice': 3149, 'Siemkowice': 3150, 'Siemonia': 3151, 'Sieniawa': 3152, 'Sieniawa Żarska': 3153, 'Sieniczno': 3154, 'Sienkiewicze': 3155, 'Siennica': 3156, 'Siennica Królewska Duża': 3157, 'Siennica Różana': 3158, 'Sienno': 3159, 'Siepraw': 3160, 'Sieradowice-Parcele': 3161, 'Sieradz': 3162, 'Sierakowice': 3163, 'Sieraków': 3164, 'Sieraków Śląski': 3165, 'Siercza': 3166, 'Sieroszewice': 3167, 'Sierosław': 3168, 'Sieroty': 3169, 'Sierpc': 3170, 'Siestrzechowice': 3171, 'Siewierz': 3172, 'Sikórz': 3173, 'Silnica': 3174, 'Silno': 3175, 'Silno Małe': 3176, 'Sionna': 3177, 'Siostrzytów': 3178, 'Sitaniec': 3179, 'Sitno': 3180, 'Siąszyce': 3181, 'Skalbmierz': 3182, 'Skalmierzyce': 3183, 'Skarbimierz': 3184, 'Skarbimierz Osiedle': 3185, 'Skarszewy': 3186, 'Skaryszew': 3187, 'Skarżysko Kościelne': 3188, 'Skarżysko-Kamienna': 3189, 'Skawa': 3190, 'Skawina': 3191, 'Skawinki': 3192, 'Skała': 3193, 'Skałka': 3194, 'Skierbieszów': 3195, 'Skierdy': 3196, 'Skiereszewo': 3197, 'Skierniewice': 3198, 'Skoczów': 3199, 'Skoki': 3200, 'Skokowa': 3201, 'Skopanie': 3202, 'Skopanie Osiedle': 3203, 'Skoroszyce': 3204, 'Skorzeszyce': 3205, 'Skorzęcin': 3206, 'Skowarcz': 3207, 'Skowierzyn': 3208, 'Skołyszyn': 3209, 'Skrajnica': 3210, 'Skrwilno': 3211, 'Skrzeszew': 3212, 'Skrzeszewo': 3213, 'Skrzeszowice': 3214, 'Skrzydlów': 3215, 'Skrzyszów': 3216, 'Skulsk': 3217, 'Skwierzyna': 3218, 'Skórcz': 3219, 'Skórzec': 3220, 'Skórzewo': 3221, 'Skępe': 3222, 'Smardowskie Olendry': 3223, 'Smardy Górne': 3224, 'Smardzowice': 3225, 'Smarglin': 3226, 'Smaszew': 3227, 'Smolec': 3228, 'Smolechy': 3229, 'Smolnica': 3230, 'Smolnik': 3231, 'Smoszew': 3232, 'Smołdzino': 3233, 'Smrock-Dwór': 3234, 'Smyków': 3235, 'Smęgorzów': 3236, 'Smętowo Graniczne': 3237, 'Snochowice': 3238, 'Snopków': 3239, 'Sobczyce': 3240, 'Sobibór': 3241, 'Sobienie Biskupie': 3242, 'Sobienie Szlacheckie': 3243, 'Sobieszewko': 3244, 'Sobiesęki': 3245, 'Sobolew': 3246, 'Sobolewo': 3247, 'Sobowidz': 3248, 'Sobótka': 3249, 'Sochaczew': 3250, 'Sochaczew-Wieś': 3251, 'Sochocin': 3252, 'Sochonie': 3253, 'Soczewka': 3254, 'Sokola Góra': 3255, 'Sokolniki': 3256, 'Sokolniki Gwiazdowskie': 3257, 'Sokolniki Las': 3258, 'Sokołowice': 3259, 'Sokołów': 3260, 'Sokołów Małopolski': 3261, 'Sokołów Podlaski': 3262, 'Sokółka': 3263, 'Solcza': 3264, 'Solec': 3265, 'Solec Kujawski': 3266, 'Solec nad Wisłą': 3267, 'Solec-Zdrój': 3268, 'Solina': 3269, 'Solniki Wielkie': 3270, 'Sominy': 3271, 'Somonino': 3272, 'Sompolno': 3273, 'Sopot': 3274, 'Sorkwity': 3275, 'Sosnowice': 3276, 'Sosnowiec': 3277, 'Sosnówka': 3278, 'Sołeczno': 3279, 'Sołtyków': 3280, 'Sońsk': 3281, 'Sośnica': 3282, 'Sośniczka': 3283, 'Sośnie': 3284, 'Sośno': 3285, 'Spalice': 3286, 'Spalona': 3287, 'Spycimierz': 3288, 'Spytkowice': 3289, 'Srock': 3290, 'Stadła': 3291, 'Stale': 3292, 'Stalowa Wola': 3293, 'Stanica': 3294, 'Stanin': 3295, 'Stanisław Dolny': 3296, 'Stanisławowo': 3297, 'Stanisławów': 3298, 'Stanisławów Pierwszy': 3299, 'Stanisławów Stary': 3300, 'Staniątki': 3301, 'Stanowice': 3302, 'Stara Błotnica': 3303, 'Stara Dębowa Wola': 3304, 'Stara Iwiczna': 3305, 'Stara Kamienica': 3306, 'Stara Kiszewa': 3307, 'Stara Krobia': 3308, 'Stara Wieś': 3309, 'Stara Łagowica': 3310, 'Starachowice': 3311, 'Starcza': 3312, 'Stare Babice': 3313, 'Stare Bielice': 3314, 'Stare Bojanowo': 3315, 'Stare Draganie': 3316, 'Stare Grabie': 3317, 'Stare Kotkowice': 3318, 'Stare Koźle': 3319, 'Stare Kurowo': 3320, 'Stare Lubiejewo': 3321, 'Stare Miasto': 3322, 'Stare Polaszki': 3323, 'Stare Pole': 3324, 'Stare Załubice': 3325, 'Stargard Szczeciński': 3326, 'Starkowo': 3327, 'Starogard Gdański': 3328, 'Starogród': 3329, 'Starowa Góra': 3330, 'Starowola': 3331, 'Staroźreby-Kolonia': 3332, 'Stary Adamów': 3333, 'Stary Dworek': 3334, 'Stary Dzierzgoń': 3335, 'Stary Dzików': 3336, 'Stary Dębsk': 3337, 'Stary Grodków': 3338, 'Stary Gózd': 3339, 'Stary Lubosz': 3340, 'Stary Lubotyń': 3341, 'Stary Paczków': 3342, 'Stary Pożóg': 3343, 'Stary Przybysław': 3344, 'Stary Puznów': 3345, 'Stary Sumin': 3346, 'Stary Szelków': 3347, 'Stary Sącz': 3348, 'Stary Wiązów': 3349, 'Stary Wiśnicz': 3350, 'Stary Wylezin': 3351, 'Stary Zdrój': 3352, 'Stary Łom': 3353, 'Starzyny': 3354, 'Stasin': 3355, 'Staszów': 3356, 'Stawiska': 3357, 'Stawiski': 3358, 'Stawiszyn': 3359, 'Stawki': 3360, 'Stefanów': 3361, 'Stegna': 3362, 'Steklinek': 3363, 'Stepnica': 3364, 'Sternalice': 3365, 'Stoczek Łukowski': 3366, 'Stojadła': 3367, 'Stok': 3368, 'Stopnica': 3369, 'Stradunia': 3370, 'Straduny': 3371, 'Straszewo': 3372, 'Straszyn': 3373, 'Strawczynek': 3374, 'Strażów': 3375, 'Strobice': 3376, 'Strojec': 3377, 'Stromiec': 3378, 'Stronie': 3379, 'Stronno': 3380, 'Stropkowo': 3381, 'Struga': 3382, 'Strumień': 3383, 'Strumyk': 3384, 'Strupin Mały': 3385, 'Strykowo': 3386, 'Stryków': 3387, 'Stryszawa': 3388, 'Stryszów': 3389, 'Strzałkowo': 3390, 'Strzałków': 3391, 'Strzeczona': 3392, 'Strzegocice': 3393, 'Strzegom': 3394, 'Strzegomiany': 3395, 'Strzelce': 3396, 'Strzelce Górne': 3397, 'Strzelce Krajeńskie': 3398, 'Strzelce Opolskie': 3399, 'Strzelce Wielkie': 3400, 'Strzeleczki': 3401, 'Strzelin': 3402, 'Strzelino': 3403, 'Strzelno': 3404, 'Strzelęcin': 3405, 'Strzeniówka': 3406, 'Strzyżew': 3407, 'Strzyżewice': 3408, 'Strzyżewo Kościelne': 3409, 'Strzyżów': 3410, 'Stróża': 3411, 'Studzianki': 3412, 'Studzianna': 3413, 'Studzienice': 3414, 'Studzieniec': 3415, 'Studzionka': 3416, 'Stąporków': 3417, 'Stępowo': 3418, 'Stęszew': 3419, 'Stężyca': 3420, 'Sucha Beskidzka': 3421, 'Sucha Górna': 3422, 'Suchatówka': 3423, 'Suchań': 3424, 'Suchedniów': 3425, 'Suchocin': 3426, 'Suchodół Włościański': 3427, 'Suchorzew': 3428, 'Suchożebry': 3429, 'Suchy Dwór': 3430, 'Suchy Dąb': 3431, 'Suchy Grunt': 3432, 'Suchy Las': 3433, 'Sucumin': 3434, 'Sugajno': 3435, 'Sukmanie': 3436, 'Sulbiny': 3437, 'Sulechów': 3438, 'Sulejów': 3439, 'Sulejówek': 3440, 'Sulików': 3441, 'Sulistrowice': 3442, 'Suliszewo': 3443, 'Sulisławice': 3444, 'Sulmierzyce': 3445, 'Sulmin': 3446, 'Sulnikowo': 3447, 'Sulęcin': 3448, 'Sulęczyno': 3449, 'Sumowo': 3450, 'Supraśl': 3451, 'Surbajny': 3452, 'Susz': 3453, 'Suszec': 3454, 'Suszkowice': 3455, 'Suwałki': 3456, 'Sułkowice': 3457, 'Sułoszowa I Pieskowa': 3458, 'Sułów': 3459, 'Swadzim': 3460, 'Swarzędz': 3461, 'Swędów': 3462, 'Sycowa Huta': 3463, 'Sycyna Północna': 3464, 'Syców': 3465, 'Sygneczów': 3466, 'Sygontka': 3467, 'Sypniewo': 3468, 'Syrynia': 3469, 'Szadek': 3470, 'Szadkowice': 3471, 'Szaflary': 3472, 'Szamocin': 3473, 'Szamotuły': 3474, 'Szarlejka': 3475, 'Szarów': 3476, 'Szastarka Stacja': 3477, 'Szatarpy': 3478, 'Szałe': 3479, 'Szczawin Kościelny': 3480, 'Szczawnica': 3481, 'Szczawno': 3482, 'Szczawno-Zdrój': 3483, 'Szczebrzeszyn': 3484, 'Szczecin': 3485, 'Szczecinek': 3486, 'Szczecno': 3487, 'Szczejkowice': 3488, 'Szczekociny': 3489, 'Szczepanowo': 3490, 'Szczepanów': 3491, 'Szczepidło': 3492, 'Szczerbice': 3493, 'Szczercowska Wieś': 3494, 'Szczerców': 3495, 'Szczereż': 3496, 'Szczodrzykowo': 3497, 'Szczucin': 3498, 'Szczuka': 3499, 'Szczurowa': 3500, 'Szczury': 3501, 'Szczycienko': 3502, 'Szczyglice': 3503, 'Szczyrk': 3504, 'Szczytniki': 3505, 'Szczytniki nad Kaczawą': 3506, 'Szczytno': 3507, 'Szczyty': 3508, 'Szeligi': 3509, 'Szemud': 3510, 'Szepietowo': 3511, 'Szerzawy': 3512, 'Szewce': 3513, 'Szklarnia': 3514, 'Szklarska Poręba': 3515, 'Szklary': 3516, 'Szlachetna Nowa Cerkiew': 3517, 'Szlichtyngowa': 3518, 'Sznyfin': 3519, 'Szonowice': 3520, 'Szpetal Górny': 3521, 'Szprotawa': 3522, 'Szpęgawa': 3523, 'Szpęgawsk': 3524, 'Szreńsk': 3525, 'Sztabin': 3526, 'Sztum': 3527, 'Sztutowo': 3528, 'Szubin': 3529, 'Szufnarowa': 3530, 'Szumowo': 3531, 'Szustek': 3532, 'Szydłowiec': 3533, 'Szydłowo': 3534, 'Szydłów': 3535, 'Szymankowo': 3536, 'Szymanowice Górne': 3537, 'Szymanowo': 3538, 'Szymanów': 3539, 'Szymbark': 3540, 'Szymocin': 3541, 'Szymonki': 3542, 'Szymonków': 3543, 'Szynkielów': 3544, 'Szynwałd': 3545, 'Szypowice': 3546, 'Szyszyn': 3547, 'Szówsko': 3548, 'Sączów': 3549, 'Sąsieczno': 3550, 'Sędziejowice': 3551, 'Sędziszowa': 3552, 'Sędziszów': 3553, 'Sędziszów Małopolski': 3554, 'Sędzisław': 3555, 'Sękocin Nowy': 3556, 'Sękocin Stary': 3557, 'Sękowo': 3558, 'Sępopol': 3559, 'Sępólno Krajeńskie': 3560, 'Sława': 3561, 'Sławice': 3562, 'Sławin': 3563, 'Sławków': 3564, 'Sławno': 3565, 'Sławoborze': 3566, 'Sławsk': 3567, 'Słodków Kolonia': 3568, 'Słomczyn': 3569, 'Słomniki': 3570, 'Słonowice': 3571, 'Słopiec Rządowy': 3572, 'Słopnice': 3573, 'Słopsk': 3574, 'Słostowice': 3575, 'Słowik': 3576, 'Słowikowo': 3577, 'Słowino': 3578, 'Słońsk': 3579, 'Słubice': 3580, 'Słubin': 3581, 'Sługocin': 3582, 'Słupca': 3583, 'Słupcza': 3584, 'Słupia': 3585, 'Słupiec': 3586, 'Słupno': 3587, 'Słupsk': 3588, 'Tabor Wielki': 3589, 'Taczanów Drugi': 3590, 'Tanowo': 3591, 'Tarchały Wielkie': 3592, 'Tarczyn': 3593, 'Targanice': 3594, 'Targowa Górka': 3595, 'Targowiska': 3596, 'Targowisko': 3597, 'Targowisko Dolne': 3598, 'Tarnawa': 3599, 'Tarnobrzeg': 3600, 'Tarnogród': 3601, 'Tarnowa': 3602, 'Tarnowiec': 3603, 'Tarnowo': 3604, 'Tarnowo Podgórne': 3605, 'Tarnowskie Góry': 3606, 'Tarnów': 3607, 'Tarnów Grodkowski': 3608, 'Tawęcino': 3609, 'Tczew': 3610, 'Tczów': 3611, 'Tenczynek': 3612, 'Teodorów': 3613, 'Teodozjów': 3614, 'Teofile': 3615, 'Teresin': 3616, 'Terespol': 3617, 'Tleń': 3618, 'Tokarnia': 3619, 'Tomaszew': 3620, 'Tomaszowice': 3621, 'Tomaszowice-Kolonia': 3622, 'Tomaszów Bolesławiecki': 3623, 'Tomaszów Lubelski': 3624, 'Tomaszów Mazowiecki': 3625, 'Tomice': 3626, 'Topola Mała': 3627, 'Topolin': 3628, 'Topołowa': 3629, 'Topólka': 3630, 'Torki': 3631, 'Toruń': 3632, 'Toszek': 3633, 'Tołcze': 3634, 'Trenczyn': 3635, 'Trojanowice': 3636, 'Trojany': 3637, 'Trojanów': 3638, 'Tropiszów': 3639, 'Troszyn': 3640, 'Truskaw': 3641, 'Truskolas': 3642, 'Truskolasy': 3643, 'Truszczanek': 3644, 'Trypucie': 3645, 'Trzciana': 3646, 'Trzcianka': 3647, 'Trzcinica': 3648, 'Trzcińsko-Zdrój': 3649, 'Trzebania': 3650, 'Trzebiatów': 3651, 'Trzebicz': 3652, 'Trzebiechów': 3653, 'Trzebiel': 3654, 'Trzebielino': 3655, 'Trzebież': 3656, 'Trzebinia': 3657, 'Trzebnica': 3658, 'Trzeboszowice': 3659, 'Trzebownisko': 3660, 'Trzeboś': 3661, 'Trzemesna': 3662, 'Trzemeszno': 3663, 'Trzeszkowice': 3664, 'Trześniów': 3665, 'Trześń': 3666, 'Trzycierz': 3667, 'Trzyciąż': 3668, 'Trzydnik Duży': 3669, 'Trzykosy': 3670, 'Trzęsacz': 3671, 'Trzęsówka': 3672, 'Trąbki': 3673, 'Trąbki Wielkie': 3674, 'Trębki': 3675, 'Trękusek': 3676, 'Tuchola': 3677, 'Tuchom': 3678, 'Tuchomie': 3679, 'Tuchorza': 3680, 'Tuchowicz': 3681, 'Tuchów': 3682, 'Tuczno': 3683, 'Tuczępy': 3684, 'Tulce': 3685, 'Tulibowo': 3686, 'Tuliszków': 3687, 'Tumidaj': 3688, 'Tuplice': 3689, 'Turawa': 3690, 'Turawa-Marszałki': 3691, 'Turbia': 3692, 'Turek': 3693, 'Turkowy': 3694, 'Turowola-Kolonia': 3695, 'Turośl': 3696, 'Turośń Kościelna': 3697, 'Turza Śląska': 3698, 'Turze': 3699, 'Turze Rogi': 3700, 'Tuszyma': 3701, 'Tuszyn': 3702, 'Tuszynek Majoracki': 3703, 'Tułowice': 3704, 'Twardogóra': 3705, 'Twardowice': 3706, 'Tworki': 3707, 'Tworków': 3708, 'Tworóg': 3709, 'Tychy': 3710, 'Tyczyn': 3711, 'Tykocin': 3712, 'Tylewice': 3713, 'Tylmanowa': 3714, 'Tymawa': 3715, 'Tymbark': 3716, 'Tymień': 3717, 'Tymowa': 3718, 'Tyszowce': 3719, 'Tęgoborze': 3720, 'Tłoki': 3721, 'Tłokinia Wielka': 3722, 'Tłuchowo': 3723, 'Tłuste': 3724, 'Tłuszcz': 3725, 'Uchanie': 3726, 'Udanin': 3727, 'Ugniewo': 3728, 'Uhowo': 3729, 'Ujanowice': 3730, 'Ujazd': 3731, 'Ujsoły': 3732, 'Ujście': 3733, 'Ulan-Majorat': 3734, 'Ulanów': 3735, 'Uniejów': 3736, 'Uniemyśl': 3737, 'Unikowice': 3738, 'Unisław': 3739, 'Ursynów': 3740, 'Urszulin': 3741, 'Urzędów': 3742, 'Uskorz Mały': 3743, 'Ustanów': 3744, 'Ustka': 3745, 'Ustowo': 3746, 'Ustroń': 3747, 'Ustrzyki Dolne': 3748, 'Uszczyn': 3749, 'Uwieliny': 3750, 'Uście Solne': 3751, 'Uścikowo': 3752, 'Wabcz': 3753, 'Wadlew': 3754, 'Wadowice': 3755, 'Wadowice Dolne': 3756, 'Wadowice Górne': 3757, 'Waganiec': 3758, 'Walce': 3759, 'Walentynów': 3760, 'Waleriany': 3761, 'Waleńczów': 3762, 'Wanaty': 3763, 'Wancerzów': 3764, 'Waplewo': 3765, 'Warblino': 3766, 'Warka': 3767, 'Warkały': 3768, 'Warmątowice': 3769, 'Warszawa': 3770, 'Warszkowo': 3771, 'Warta': 3772, 'Warzno': 3773, 'Warzymice': 3774, 'Wasilków': 3775, 'Wawrzeńczyce': 3776, 'Wawrzyszew': 3777, 'Wawrów': 3778, 'Wał-Ruda': 3779, 'Wałbrzych': 3780, 'Wałcz': 3781, 'Wałcz Pierwszy': 3782, 'Wałdowo': 3783, 'Wdzydze Tucholskie': 3784, 'Wejdo': 3785, 'Wejherowo': 3786, 'Werbkowice': 3787, 'Werynia': 3788, 'Wełna': 3789, 'Wełnica': 3790, 'Wicimice': 3791, 'Widawa': 3792, 'Widełka': 3793, 'Widełki': 3794, 'Widok': 3795, 'Widuchowa': 3796, 'Widziszewo': 3797, 'Wiedeń': 3798, 'Wieleń': 3799, 'Wielgie': 3800, 'Wielgolas Duchnowski': 3801, 'Wielichowo': 3802, 'Wieliczka': 3803, 'Wieliczki': 3804, 'Wieliszew': 3805, 'Wielka Wieś': 3806, 'Wielki Klincz': 3807, 'Wielki Lubień': 3808, 'Wielkie Drogi': 3809, 'Wielmoża': 3810, 'Wielogóra': 3811, 'Wielopole': 3812, 'Wielowieś': 3813, 'Wieluń': 3814, 'Wieniawa': 3815, 'Wieniec': 3816, 'Wieprz': 3817, 'Wierbka': 3818, 'Wieruszów': 3819, 'Wierzbica': 3820, 'Wierzbica-Osiedle': 3821, 'Wierzbice': 3822, 'Wierzbiczany': 3823, 'Wierzbie': 3824, 'Wierzbno': 3825, 'Wierzchosławice': 3826, 'Wierzchowice': 3827, 'Wierzchowisko': 3828, 'Wierzchowo': 3829, 'Wieszczęta': 3830, 'Wieszowa': 3831, 'Wietchinin': 3832, 'Wiewiórczyn': 3833, 'Wiewiórka': 3834, 'Wiewiórki': 3835, 'Wijewo': 3836, 'Wikielec': 3837, 'Wiktorów': 3838, 'Wilamowa': 3839, 'Wilamowice': 3840, 'Wilchta': 3841, 'Wilcza Góra': 3842, 'Wilcza Wola': 3843, 'Wilczków': 3844, 'Wilczyce': 3845, 'Wilczyn': 3846, 'Wilga': 3847, 'Wilkanowo': 3848, 'Wilkonice': 3849, 'Wilkowa': 3850, 'Wilkowice': 3851, 'Wilkowisko': 3852, 'Wilkowo': 3853, 'Wilkowo Nowowiejskie': 3854, 'Wilkowyja': 3855, 'Wilkszyn': 3856, 'Wilków Wielki': 3857, 'Windyki': 3858, 'Winiary': 3859, 'Winna Góra': 3860, 'Wioska': 3861, 'Wiry': 3862, 'Wiskitki': 3863, 'Wistka': 3864, 'Wisznia Mała': 3865, 'Wisznice': 3866, 'Wisła': 3867, 'Wisła Mała': 3868, 'Wisła Wielka': 3869, 'Wisłowiec': 3870, 'Witanowice': 3871, 'Witaszyce': 3872, 'Witaszyczki': 3873, 'Witkowo': 3874, 'Witnica': 3875, 'Witobel': 3876, 'Witonia': 3877, 'Witoszyn': 3878, 'Witowice': 3879, 'Witowice Górne': 3880, 'Witunia': 3881, 'Witów': 3882, 'Wiórek': 3883, 'Wiązowna': 3884, 'Wiązowna Kościelna': 3885, 'Wiązownica': 3886, 'Wiązów': 3887, 'Więcbork': 3888, 'Więcki': 3889, 'Więckowice': 3890, 'Większyce': 3891, 'Wińsko': 3892, 'Wiślica': 3893, 'Wiśniew': 3894, 'Wiśniewo': 3895, 'Wiśniowa': 3896, 'Wiśniowa Góra': 3897, 'Wodniki': 3898, 'Wodzisław Śląski': 3899, 'Wojciechowice': 3900, 'Wojciechów': 3901, 'Wojcieszków': 3902, 'Wojcieszyce': 3903, 'Wojcieszyn': 3904, 'Wojcieszów': 3905, 'Wojkowice': 3906, 'Wojkowice Kościelne': 3907, 'Wojnarowa': 3908, 'Wojnarowice': 3909, 'Wojnicz': 3910, 'Wojnowice': 3911, 'Wojnowo': 3912, 'Wojszczyce': 3913, 'Wojsławice': 3914, 'Wola': 3915, 'Wola Baranowska': 3916, 'Wola Batorska': 3917, 'Wola Buczkowska': 3918, 'Wola Ducka': 3919, 'Wola Filipowska': 3920, 'Wola Gułowska': 3921, 'Wola Jachowa': 3922, 'Wola Karczewska': 3923, 'Wola Korycka Dolna': 3924, 'Wola Kutowa': 3925, 'Wola Libertowska': 3926, 'Wola Lubecka': 3927, 'Wola Mrokowska': 3928, 'Wola Mysłowska': 3929, 'Wola Okrzejska': 3930, 'Wola Pasikońska': 3931, 'Wola Popowa': 3932, 'Wola Radziszowska': 3933, 'Wola Rasztowska': 3934, 'Wola Rzędzińska': 3935, 'Wola Rębkowska': 3936, 'Wola Solecka Pierwsza': 3937, 'Wola Suchożebrska': 3938, 'Wola Uhruska': 3939, 'Wola Wadowska': 3940, 'Wola Zarczycka': 3941, 'Wola Życka': 3942, 'Wolanów': 3943, 'Wolbrom': 3944, 'Wolbórz': 3945, 'Wolental': 3946, 'Wolica': 3947, 'Wolica Brzozowa': 3948, 'Wolin': 3949, 'Wolsztyn': 3950, 'Woskrzenice Małe': 3951, 'Wołczkowo': 3952, 'Wołczyn': 3953, 'Wołomin': 3954, 'Wołowice': 3955, 'Wołucza': 3956, 'Wołów': 3957, 'Woźniki': 3958, 'Wrocław': 3959, 'Wroniawy': 3960, 'Wronki': 3961, 'Wrzawy': 3962, 'Wrzeszczyna': 3963, 'Września': 3964, 'Wrześnica': 3965, 'Wrzosowa': 3966, 'Wrzosy': 3967, 'Wrzosówka': 3968, 'Wrząca': 3969, 'Wrząsowice': 3970, 'Wręczyca Mała': 3971, 'Wręczyca Wielka': 3972, 'Wschowa': 3973, 'Wsola': 3974, 'Wszechświęte': 3975, 'Wtelno': 3976, 'Wtórek': 3977, 'Wudzyn': 3978, 'Wychowaniec': 3979, 'Wycinki Osowskie': 3980, 'Wydminy': 3981, 'Wygiełzów': 3982, 'Wyględy': 3983, 'Wygoda': 3984, 'Wygodne': 3985, 'Wykroty': 3986, 'Wymysłowo': 3987, 'Wymysłów Francuski': 3988, 'Wypychów': 3989, 'Wyry': 3990, 'Wyrzysk': 3991, 'Wysieradz': 3992, 'Wysocko Małe': 3993, 'Wysoczka': 3994, 'Wysogotowo': 3995, 'Wysoka': 3996, 'Wysokie Mazowieckie': 3997, 'Występ': 3998, 'Wysychy': 3999, 'Wyszków': 4000, 'Wyszków Śląski': 4001, 'Wyszogród': 4002, 'Wyszonki-Wojciechy': 4003, 'Wyszyna': 4004, 'Wyszęcice': 4005, 'Wytomyśl': 4006, 'Wytrębowice': 4007, 'Wyżne': 4008, 'Wzdół Rządowy': 4009, 'Wzdół-Kolonia': 4010, 'Wójcin': 4011, 'Wójtostwo': 4012, 'Wójtowa': 4013, 'Wólka': 4014, 'Wólka Kosowska': 4015, 'Wólka Niedźwiedzka': 4016, 'Wólka Podleśna': 4017, 'Wólka Radzymińska': 4018, 'Wólka Somiankowska': 4019, 'Wólka Stara Kijańska': 4020, 'Wólka Wiśniewska': 4021, 'Wąbiewo': 4022, 'Wąbrzeźno': 4023, 'Wąchock': 4024, 'Wądroże Wielkie': 4025, 'Wągrowiec': 4026, 'Wąsewo': 4027, 'Wąsosz': 4028, 'Wąwał': 4029, 'Węgierki': 4030, 'Węgierska Górka': 4031, 'Węgliniec': 4032, 'Węglówka': 4033, 'Węgorzewo': 4034, 'Węgorzyno': 4035, 'Węgry': 4036, 'Węgrzce': 4037, 'Węgrzce Wielkie': 4038, 'Węgrów': 4039, 'Władysławowo': 4040, 'Władysławów': 4041, 'Władzimirów': 4042, 'Włocławek': 4043, 'Włodawa': 4044, 'Włodków Górny': 4045, 'Włodowice': 4046, 'Włodzimierzów': 4047, 'Włosań': 4048, 'Włosienica': 4049, 'Włostów': 4050, 'Włoszakowice': 4051, 'Włoszczowa': 4052, 'Włoszczowice': 4053, 'Zabiele': 4054, 'Zabierzów': 4055, 'Zabierzów Bocheński': 4056, 'Zaborsko': 4057, 'Zaborze': 4058, 'Zaborów': 4059, 'Zaborówek': 4060, 'Zabrze': 4061, 'Zabrzeg': 4062, 'Zabłocie': 4063, 'Zabłudów': 4064, 'Zacharzyn': 4065, 'Zachełmna': 4066, 'Zachowice': 4067, 'Zachybie': 4068, 'Zaczernie': 4069, 'Zadroże': 4070, 'Zaduszniki': 4071, 'Zadzim': 4072, 'Zagacie': 4073, 'Zagnańsk': 4074, 'Zagrodno': 4075, 'Zagórz': 4076, 'Zagórzany': 4077, 'Zagórze': 4078, 'Zagórze Śląskie': 4079, 'Zagórzyce Dworskie': 4080, 'Zagórów': 4081, 'Zajączkowo': 4082, 'Zakliczyn': 4083, 'Zaklików': 4084, 'Zakopane': 4085, 'Zakrzew': 4086, 'Zakrzewice': 4087, 'Zakrzewo': 4088, 'Zakrzowiec': 4089, 'Zakrzyce': 4090, 'Zakrzów': 4091, 'Zakrzówek': 4092, 'Zakręt': 4093, 'Zalasewo': 4094, 'Zalesice': 4095, 'Zalesice-Kolonia': 4096, 'Zalesie': 4097, 'Zalesie Górne': 4098, 'Zaleskie': 4099, 'Zaleszany': 4100, 'Zalipie': 4101, 'Zambrów': 4102, 'Zamek Bierzgłowski': 4103, 'Zamieście': 4104, 'Zamostne': 4105, 'Zamość': 4106, 'Zaniemyśl': 4107, 'Zarszyn': 4108, 'Zarzecze': 4109, 'Zaręby Kościelne': 4110, 'Zasadne': 4111, 'Zasań': 4112, 'Zaskoczyn': 4113, 'Zasole': 4114, 'Zasutowo': 4115, 'Zator': 4116, 'Zatyle': 4117, 'Zawada': 4118, 'Zawady': 4119, 'Zawadzkie': 4120, 'Zawadów': 4121, 'Zawały': 4122, 'Zawichost': 4123, 'Zawidów': 4124, 'Zawiercie': 4125, 'Zawisna': 4126, 'Zawisty Nadbużne': 4127, 'Zawitała': 4128, 'Zawoja': 4129, 'Zawonia': 4130, 'Zazdrość': 4131, 'Załachowo': 4132, 'Załom': 4133, 'Załuże': 4134, 'Zaścianki': 4135, 'Zbaków Górny': 4136, 'Zbeltowice': 4137, 'Zbiersk-Cukrownia': 4138, 'Zbiersk-Kolonia': 4139, 'Zblewo': 4140, 'Zbory': 4141, 'Zbrosławice': 4142, 'Zbuczyn': 4143, 'Zbychowo': 4144, 'Zbylitowska Góra': 4145, 'Zbytków': 4146, 'Zbytowa': 4147, 'Zbójna': 4148, 'Zbójno': 4149, 'Zbąszynek': 4150, 'Zbąszyń': 4151, 'Zbędowice': 4152, 'Zduny': 4153, 'Zduńska Wola': 4154, 'Zdziechowa': 4155, 'Zdziechów': 4156, 'Zdzieszowice': 4157, 'Zdów': 4158, 'Zebrzydowa': 4159, 'Zebrzydowice': 4160, 'Zegrze': 4161, 'Zelczyna': 4162, 'Zelków': 4163, 'Zelów': 4164, 'Zgierz': 4165, 'Zgorzała': 4166, 'Zgorzelec': 4167, 'Zgórsko': 4168, 'Zgłobice': 4169, 'Zgłobień': 4170, 'Zieleniewo': 4171, 'Zielenin': 4172, 'Zielona Góra': 4173, 'Zielona Łąka': 4174, 'Zielonczyn': 4175, 'Zielonka': 4176, 'Zielonki': 4177, 'Zielonki Parcela': 4178, 'Zielonki Wieś': 4179, 'Zielątkowo': 4180, 'Ziębice': 4181, 'Ziębów': 4182, 'Zmysłowo': 4183, 'Zofiowo': 4184, 'Zofiówka': 4185, 'Zosinki': 4186, 'Zręcin': 4187, 'Zubrzyca Górna': 4188, 'Zuzela': 4189, 'Zwardoń': 4190, 'Zwierzyniec': 4191, 'Zwoleń': 4192, 'Ząb': 4193, 'Ząbki': 4194, 'Ząbkowice Śląskie': 4195, 'Zławieś Wielka': 4196, 'Złocieniec': 4197, 'Złoczew': 4198, 'Złotkowo': 4199, 'Złotniki': 4200, 'Złotniki Kujawskie': 4201, 'Złotniki-Kolonia': 4202, 'Złotokłos': 4203, 'Złotoryja': 4204, 'Złoty Stok': 4205, 'Złotów': 4206, 'Ćmińsk': 4207, 'Ćwiklice': 4208, 'Ćwików': 4209, 'Łabiszyn': 4210, 'Łabunie': 4211, 'Ładna': 4212, 'Łady': 4213, 'Łagiewniki': 4214, 'Łagoda': 4215, 'Łagodzin': 4216, 'Łagowo': 4217, 'Łaguszów': 4218, 'Łagów': 4219, 'Łajski': 4220, 'Łambinowice': 4221, 'Łankowice': 4222, 'Łany Wielkie': 4223, 'Łapanów': 4224, 'Łapczyca': 4225, 'Łapino': 4226, 'Łapsze Niżne': 4227, 'Łapy': 4228, 'Łasin': 4229, 'Łask': 4230, 'Łaskarzew': 4231, 'Łaszczów': 4232, 'Łaziska Górne': 4233, 'Łaziuki': 4234, 'Łaznów': 4235, 'Łazy': 4236, 'Łazy Biegonickie': 4237, 'Łańcut': 4238, 'Łeba': 4239, 'Łekno': 4240, 'Łobez': 4241, 'Łobzowo': 4242, 'Łobżenica': 4243, 'Łochowo': 4244, 'Łochów': 4245, 'Łodygowice': 4246, 'Łomazy': 4247, 'Łomianki': 4248, 'Łomianki Dolne': 4249, 'Łomnica': 4250, 'Łomnica Pierwsza': 4251, 'Łomno': 4252, 'Łomża': 4253, 'Łoniowa': 4254, 'Łoniów': 4255, 'Łopienno': 4256, 'Łopuszna': 4257, 'Łopuszno': 4258, 'Łosice': 4259, 'Łosień': 4260, 'Łosiniec': 4261, 'Łosino': 4262, 'Łowce': 4263, 'Łowicz': 4264, 'Łowisko': 4265, 'Łowkowice': 4266, 'Łowyń': 4267, 'Łozina': 4268, 'Łubianka': 4269, 'Łubnica': 4270, 'Łubnice': 4271, 'Łubowo': 4272, 'Łuczyce': 4273, 'Łuczynów': 4274, 'Ługi-Radły': 4275, 'Łukom': 4276, 'Łukowa': 4277, 'Łukowica': 4278, 'Łukta': 4279, 'Łuków': 4280, 'Łukówiec': 4281, 'Łuszczów Pierwszy': 4282, 'Łużna': 4283, 'Łyczana': 4284, 'Łysakówek': 4285, 'Łyse': 4286, 'Łyskornia': 4287, 'Łysomice': 4288, 'Łyszkowice': 4289, 'Łódź': 4290, 'Łąck': 4291, 'Łącko': 4292, 'Łączany': 4293, 'Łączki': 4294, 'Łączki Kucharskie': 4295, 'Łączna': 4296, 'Łąg': 4297, 'Łąka': 4298, 'Łąkie': 4299, 'Łąkocin': 4300, 'Łąkta Górna': 4301, 'Łążyn': 4302, 'Łęczna': 4303, 'Łęczyca': 4304, 'Łęczyce': 4305, 'Łęg Przedmiejski': 4306, 'Łęg Tarnowski': 4307, 'Łęgowo': 4308, 'Łęgowo-GHZ': 4309, 'Łęka': 4310, 'Łękanów': 4311, 'Łękawica': 4312, 'Łęki': 4313, 'Łęki Szlacheckie': 4314, 'Łęknica': 4315, 'Łękno': 4316, 'Łętowe': 4317, 'Łętownia': 4318, 'Łężany': 4319, 'Łężek': 4320, 'Łężkowice': 4321, 'Łężyca': 4322, 'Ścinawa': 4323, 'Ścinawka Średnia': 4324, 'Ślemień': 4325, 'Ślesin': 4326, 'Śliwa': 4327, 'Śliwice': 4328, 'Śliwiczki': 4329, 'Ślizów': 4330, 'Ślęza': 4331, 'Ślęzaki': 4332, 'Śmicz': 4333, 'Śmigiel': 4334, 'Śmigno': 4335, 'Śmiłowo': 4336, 'Śmiłów': 4337, 'Śniadowo': 4338, 'Śnieciska': 4339, 'Śrem': 4340, 'Środa Wielkopolska': 4341, 'Środa Śląska': 4342, 'Świdnica': 4343, 'Świdnik': 4344, 'Świdnik Duży Drugi': 4345, 'Świdnik Mały': 4346, 'Świdwin': 4347, 'Świebodzice': 4348, 'Świebodzin': 4349, 'Świecie': 4350, 'Świeradów-Zdrój': 4351, 'Świercze': 4352, 'Świerczyniec': 4353, 'Świerklaniec': 4354, 'Świerklany': 4355, 'Świerzna': 4356, 'Świerzowa Polska': 4357, 'Świerże': 4358, 'Świlcza': 4359, 'Świniary Stare': 4360, 'Świnice Warckie': 4361, 'Świnoujście': 4362, 'Świątniki': 4363, 'Świątniki Górne': 4364, 'Święciechowa': 4365, 'Święta Katarzyna': 4366, 'Świętajno': 4367, 'Świętno': 4368, 'Świętochłowice': 4369, 'Świętoszowice': 4370, 'Świętoszów': 4371, 'Świętoszówka': 4372, 'Źlinice': 4373, 'Żabia Wola': 4374, 'Żabno': 4375, 'Żagań': 4376, 'Żakowice': 4377, 'Żakowo': 4378, 'Żaków': 4379, 'Żalno': 4380, 'Żarczyce Małe': 4381, 'Żarki': 4382, 'Żarki Letnisko': 4383, 'Żarki Wielkie': 4384, 'Żarnowo': 4385, 'Żarnów': 4386, 'Żarowo': 4387, 'Żary': 4388, 'Żarów': 4389, 'Żdżary': 4390, 'Żdżarów': 4391, 'Żegocin': 4392, 'Żelazkowo': 4393, 'Żelazna': 4394, 'Żelazowa Wola': 4395, 'Żelechów': 4396, 'Żeleźniki': 4397, 'Żeliszewo': 4398, 'Żelków-Kolonia': 4399, 'Żerków': 4400, 'Żernica': 4401, 'Żerniki Górne': 4402, 'Żerniki Wrocławskie': 4403, 'Żmigród': 4404, 'Żmigródek': 4405, 'Żnin': 4406, 'Żory': 4407, 'Żuchowice': 4408, 'Żukowo': 4409, 'Żuków': 4410, 'Żurawice': 4411, 'Żurawiniec': 4412, 'Żuromin': 4413, 'Żychlin': 4414, 'Życiny': 4415, 'Żydowo': 4416, 'Żygląd': 4417, 'Żyraków': 4418, 'Żyrardów': 4419, 'Żytniów': 4420, 'Żywiec': 4421, 'Żywocice': 4422, 'Żórawina': 4423, 'Żółwin': 4424, 'Żędowice': 4425, 'Żłobin': 4426}\n"
     ]
    }
   ],
   "source": [
    "cars['city'].replace(obj_to_numeric(cars['city']), inplace=True)"
   ]
  },
  {
   "cell_type": "code",
   "execution_count": 12,
   "metadata": {},
   "outputs": [
    {
     "name": "stdout",
     "output_type": "stream",
     "text": [
      "{'147': 0, '159': 1, '2': 2, '2008': 3, '206': 4, '207': 5, '208': 6, '3': 7, '3008': 8, '307': 9, '308': 10, '3gt': 11, '407': 12, '5': 13, '500': 14, '5008': 15, '500l': 16, '500x': 17, '508': 18, '5gt': 19, '6': 20, '80': 21, 'a-klasa': 22, 'a1': 23, 'a2': 24, 'a3': 25, 'a4': 26, 'a4-allroad': 27, 'a5': 28, 'a6': 29, 'a6-allroad': 30, 'a7': 31, 'a8': 32, 'accord': 33, 'adam': 34, 'agila': 35, 'alhambra': 36, 'almera': 37, 'altea': 38, 'altea-xl': 39, 'amarok': 40, 'amg-gt': 41, 'ampera': 42, 'antara': 43, 'arkana': 44, 'arona': 45, 'arteon': 46, 'astra': 47, 'asx': 48, 'ateca': 49, 'auris': 50, 'avensis': 51, 'aveo': 52, 'aygo': 53, 'b-klasa': 54, 'b-max': 55, 'beetle': 56, 'berlingo': 57, 'bravo': 58, 'c-hr': 59, 'c-klasa': 60, 'c-max': 61, 'c3-aircross': 62, 'c3-picasso': 63, 'c30': 64, 'c4-cactus': 65, 'c4-grand-picasso': 66, 'c4-picasso': 67, 'c5': 68, 'c5-aircross': 69, 'caddy': 70, 'california': 71, 'camaro': 72, 'camry': 73, 'captur': 74, 'caravelle': 75, 'carens': 76, 'cc': 77, 'ceed': 78, 'citan': 79, 'citigo': 80, 'civic': 81, 'cl-klasa': 82, 'cla-klasa': 83, 'clio': 84, 'clk-klasa': 85, 'cls-klasa': 86, 'clubman': 87, 'colt': 88, 'combo': 89, 'cooper': 90, 'cooper-s': 91, 'corolla': 92, 'corolla-verso': 93, 'corsa': 94, 'countryman': 95, 'cr-v': 96, 'crafter': 97, 'crossland-x': 98, 'cruze': 99, 'cx-3': 100, 'cx-30': 101, 'cx-5': 102, 'cx-7': 103, 'cx-9': 104, 'doblo': 105, 'ds3': 106, 'ds4': 107, 'ds5': 108, 'e-klasa': 109, 'e-tron': 110, 'eclipse-cross': 111, 'ecosport': 112, 'edge': 113, 'elantra': 114, 'enyaq': 115, 'eos': 116, 'escape': 117, 'espace': 118, 'exeo': 119, 'expert': 120, 'explorer': 121, 'f150': 122, 'fabia': 123, 'fiesta': 124, 'fluence': 125, 'focus': 126, 'focus-c-max': 127, 'fox': 128, 'freemont': 129, 'frontera': 130, 'fusion': 131, 'g-klasa': 132, 'galaxy': 133, 'giulia': 134, 'giulietta': 135, 'gl-klasa': 136, 'gla-klasa': 137, 'glb-klasa': 138, 'glc-klasa': 139, 'gle-klasa': 140, 'glk-klasa': 141, 'gls-klasa': 142, 'golf': 143, 'golf-plus': 144, 'golf-sportsvan': 145, 'grand-c-max': 146, 'grand-espace': 147, 'grand-scenic': 148, 'grande-punto': 149, 'grandland-x': 150, 'hr-v': 151, 'i10': 152, 'i20': 153, 'i3': 154, 'i30': 155, 'i40': 156, 'ibiza': 157, 'id4': 158, 'insignia': 159, 'ix20': 160, 'ix35': 161, 'jazz': 162, 'jetta': 163, 'juke': 164, 'ka': 165, 'kadjar': 166, 'kamiq': 167, 'kangoo': 168, 'karl': 169, 'karoq': 170, 'kodiaq': 171, 'koleos': 172, 'kona': 173, 'kuga': 174, 'laguna': 175, 'lancer': 176, 'land-cruiser': 177, 'leaf': 178, 'leon': 179, 'lupo': 180, 'm-klasa': 181, 'm2': 182, 'm3': 183, 'm4': 184, 'm5': 185, 'm8': 186, 'megane': 187, 'meriva': 188, 'micra': 189, 'mito': 190, 'modus': 191, 'mokka': 192, 'mondeo': 193, 'multivan': 194, 'murano': 195, 'mustang': 196, 'mustang-mach-e': 197, 'mx-5': 198, 'new-beetle': 199, 'note': 200, 'octavia': 201, 'omega': 202, 'one': 203, 'optima': 204, 'orlando': 205, 'outlander': 206, 'panda': 207, 'partner': 208, 'passat': 209, 'passat-cc': 210, 'patrol': 211, 'phaeton': 212, 'picanto': 213, 'polo': 214, 'primera': 215, 'prius': 216, 'pro-ceed': 217, 'proace-verso': 218, 'puma': 219, 'punto': 220, 'punto-evo': 221, 'q2': 222, 'q3': 223, 'q4-sportback': 224, 'q5': 225, 'q7': 226, 'q8': 227, 'qashqai': 228, 'qashqai-2': 229, 'r-klasa': 230, 'ranger': 231, 'rapid': 232, 'rav4': 233, 'roomster': 234, 'rs-q3': 235, 'rs3': 236, 'rs5': 237, 'rs6': 238, 's-klasa': 239, 's-max': 240, 's3': 241, 's40': 242, 's5': 243, 's60': 244, 's8': 245, 's80': 246, 'santa-fe': 247, 'scala': 248, 'scenic': 249, 'scirocco': 250, 'seria-1': 251, 'seria-2': 252, 'seria-3': 253, 'seria-4': 254, 'seria-5': 255, 'seria-6': 256, 'seria-7': 257, 'seria-8': 258, 'sharan': 259, 'sienna': 260, 'signum': 261, 'sl': 262, 'slk-klasa': 263, 'sorento': 264, 'soul': 265, 'space-star': 266, 'sportage': 267, 'sprinter': 268, 'sq5': 269, 'stinger': 270, 'stonic': 271, 'superb': 272, 't-cross': 273, 't-roc': 274, 'talisman': 275, 'thalia': 276, 'tigra': 277, 'tiguan': 278, 'tiguan-allspace': 279, 'tipo': 280, 'toledo': 281, 'touareg': 282, 'touran': 283, 'tourneo-connect': 284, 'tourneo-courier': 285, 'tourneo-custom': 286, 'trafic': 287, 'transit': 288, 'transit-connect': 289, 'transit-custom': 290, 'transporter': 291, 'tt': 292, 'tucson': 293, 'twingo': 294, 'up': 295, 'v-klasa': 296, 'v40': 297, 'v50': 298, 'v60': 299, 'v70': 300, 'v90': 301, 'vectra': 302, 'venga': 303, 'verso': 304, 'viano': 305, 'vito': 306, 'vivaro': 307, 'x-trail': 308, 'x1': 309, 'x2': 310, 'x3': 311, 'x4': 312, 'x5': 313, 'x5-m': 314, 'x6': 315, 'x6-m': 316, 'x7': 317, 'xc-40': 318, 'xc-60': 319, 'xc-70': 320, 'xc-90': 321, 'xceed': 322, 'xsara-picasso': 323, 'yaris': 324, 'yeti': 325, 'zafira': 326, 'zoe': 327}\n"
     ]
    }
   ],
   "source": [
    "cars['model'].replace(obj_to_numeric(cars['model']), inplace=True)"
   ]
  },
  {
   "cell_type": "code",
   "execution_count": 13,
   "metadata": {},
   "outputs": [
    {
     "name": "stdout",
     "output_type": "stream",
     "text": [
      "{'(': 0, 'Berlin': 1, 'Dolnośląskie': 2, 'Kujawsko-pomorskie': 3, 'Lubelskie': 4, 'Lubuskie': 5, 'Mazowieckie': 6, 'Małopolskie': 7, 'Moravian-Silesian Region': 8, 'Niedersachsen': 9, 'Nordrhein-Westfalen': 10, 'Opolskie': 11, 'Podkarpackie': 12, 'Podlaskie': 13, 'Pomorskie': 14, 'Trenczyn': 15, 'Warmińsko-mazurskie': 16, 'Wiedeń': 17, 'Wielkopolskie': 18, 'Zachodniopomorskie': 19, 'Łódzkie': 20, 'Śląskie': 21, 'Świętokrzyskie': 22}\n"
     ]
    }
   ],
   "source": [
    "cars['province'].replace(obj_to_numeric(cars['province']), inplace=True)"
   ]
  },
  {
   "cell_type": "code",
   "execution_count": 14,
   "metadata": {},
   "outputs": [
    {
     "data": {
      "text/html": [
       "<div>\n",
       "<style scoped>\n",
       "    .dataframe tbody tr th:only-of-type {\n",
       "        vertical-align: middle;\n",
       "    }\n",
       "\n",
       "    .dataframe tbody tr th {\n",
       "        vertical-align: top;\n",
       "    }\n",
       "\n",
       "    .dataframe thead th {\n",
       "        text-align: right;\n",
       "    }\n",
       "</style>\n",
       "<table border=\"1\" class=\"dataframe\">\n",
       "  <thead>\n",
       "    <tr style=\"text-align: right;\">\n",
       "      <th></th>\n",
       "      <th>Unnamed: 0</th>\n",
       "      <th>mark</th>\n",
       "      <th>model</th>\n",
       "      <th>year</th>\n",
       "      <th>mileage</th>\n",
       "      <th>vol_engine</th>\n",
       "      <th>fuel</th>\n",
       "      <th>city</th>\n",
       "      <th>province</th>\n",
       "      <th>price</th>\n",
       "    </tr>\n",
       "  </thead>\n",
       "  <tbody>\n",
       "    <tr>\n",
       "      <th>0</th>\n",
       "      <td>0</td>\n",
       "      <td>15</td>\n",
       "      <td>89</td>\n",
       "      <td>2015</td>\n",
       "      <td>139568</td>\n",
       "      <td>1248</td>\n",
       "      <td>1</td>\n",
       "      <td>1161</td>\n",
       "      <td>6</td>\n",
       "      <td>35900</td>\n",
       "    </tr>\n",
       "    <tr>\n",
       "      <th>1</th>\n",
       "      <td>1</td>\n",
       "      <td>15</td>\n",
       "      <td>89</td>\n",
       "      <td>2018</td>\n",
       "      <td>31991</td>\n",
       "      <td>1499</td>\n",
       "      <td>1</td>\n",
       "      <td>1365</td>\n",
       "      <td>21</td>\n",
       "      <td>78501</td>\n",
       "    </tr>\n",
       "    <tr>\n",
       "      <th>2</th>\n",
       "      <td>2</td>\n",
       "      <td>15</td>\n",
       "      <td>89</td>\n",
       "      <td>2015</td>\n",
       "      <td>278437</td>\n",
       "      <td>1598</td>\n",
       "      <td>1</td>\n",
       "      <td>300</td>\n",
       "      <td>11</td>\n",
       "      <td>27000</td>\n",
       "    </tr>\n",
       "    <tr>\n",
       "      <th>3</th>\n",
       "      <td>3</td>\n",
       "      <td>15</td>\n",
       "      <td>89</td>\n",
       "      <td>2016</td>\n",
       "      <td>47600</td>\n",
       "      <td>1248</td>\n",
       "      <td>1</td>\n",
       "      <td>1510</td>\n",
       "      <td>11</td>\n",
       "      <td>30800</td>\n",
       "    </tr>\n",
       "    <tr>\n",
       "      <th>4</th>\n",
       "      <td>4</td>\n",
       "      <td>15</td>\n",
       "      <td>89</td>\n",
       "      <td>2014</td>\n",
       "      <td>103000</td>\n",
       "      <td>1400</td>\n",
       "      <td>0</td>\n",
       "      <td>3606</td>\n",
       "      <td>21</td>\n",
       "      <td>35900</td>\n",
       "    </tr>\n",
       "  </tbody>\n",
       "</table>\n",
       "</div>"
      ],
      "text/plain": [
       "   Unnamed: 0  mark  model  year  mileage  vol_engine  fuel  city  province  \\\n",
       "0           0    15     89  2015   139568        1248     1  1161         6   \n",
       "1           1    15     89  2018    31991        1499     1  1365        21   \n",
       "2           2    15     89  2015   278437        1598     1   300        11   \n",
       "3           3    15     89  2016    47600        1248     1  1510        11   \n",
       "4           4    15     89  2014   103000        1400     0  3606        21   \n",
       "\n",
       "   price  \n",
       "0  35900  \n",
       "1  78501  \n",
       "2  27000  \n",
       "3  30800  \n",
       "4  35900  "
      ]
     },
     "execution_count": 14,
     "metadata": {},
     "output_type": "execute_result"
    }
   ],
   "source": [
    "cars.head()"
   ]
  },
  {
   "cell_type": "markdown",
   "metadata": {},
   "source": [
    "Making for Training and Testing"
   ]
  },
  {
   "cell_type": "code",
   "execution_count": 15,
   "metadata": {},
   "outputs": [],
   "source": [
    "from sklearn.model_selection import train_test_split"
   ]
  },
  {
   "cell_type": "code",
   "execution_count": 16,
   "metadata": {},
   "outputs": [],
   "source": [
    "X = np.array(cars[cars.columns[1:len(cars.columns)-1]])"
   ]
  },
  {
   "cell_type": "code",
   "execution_count": 17,
   "metadata": {},
   "outputs": [],
   "source": [
    "y = np.array(cars['price'])"
   ]
  },
  {
   "cell_type": "code",
   "execution_count": 18,
   "metadata": {},
   "outputs": [],
   "source": [
    "X_train, x_test, y_train, y_test = train_test_split(X,y, test_size=0.3)"
   ]
  },
  {
   "cell_type": "code",
   "execution_count": 19,
   "metadata": {},
   "outputs": [
    {
     "data": {
      "text/plain": [
       "array([[   9,  267, 2013, ...,    1,  650,   20],\n",
       "       [  15,   43, 2007, ...,    1, 2043,   12],\n",
       "       [   2,  253, 2009, ...,    3, 4422,   11],\n",
       "       ...,\n",
       "       [   1,   25, 2002, ...,    1, 4230,   20],\n",
       "       [  21,  209, 2018, ...,    1,  367,    3],\n",
       "       [  17,  118, 2009, ...,    1, 2775,    6]])"
      ]
     },
     "execution_count": 19,
     "metadata": {},
     "output_type": "execute_result"
    }
   ],
   "source": [
    "X_train"
   ]
  },
  {
   "cell_type": "markdown",
   "metadata": {},
   "source": [
    "Model training"
   ]
  },
  {
   "cell_type": "markdown",
   "metadata": {},
   "source": [
    "1. Multiple Linear Regression"
   ]
  },
  {
   "cell_type": "code",
   "execution_count": 20,
   "metadata": {},
   "outputs": [],
   "source": [
    "from sklearn.linear_model import LinearRegression"
   ]
  },
  {
   "cell_type": "code",
   "execution_count": 21,
   "metadata": {},
   "outputs": [],
   "source": [
    "mlr = LinearRegression()"
   ]
  },
  {
   "cell_type": "code",
   "execution_count": 22,
   "metadata": {},
   "outputs": [
    {
     "data": {
      "text/html": [
       "<style>#sk-container-id-1 {color: black;}#sk-container-id-1 pre{padding: 0;}#sk-container-id-1 div.sk-toggleable {background-color: white;}#sk-container-id-1 label.sk-toggleable__label {cursor: pointer;display: block;width: 100%;margin-bottom: 0;padding: 0.3em;box-sizing: border-box;text-align: center;}#sk-container-id-1 label.sk-toggleable__label-arrow:before {content: \"▸\";float: left;margin-right: 0.25em;color: #696969;}#sk-container-id-1 label.sk-toggleable__label-arrow:hover:before {color: black;}#sk-container-id-1 div.sk-estimator:hover label.sk-toggleable__label-arrow:before {color: black;}#sk-container-id-1 div.sk-toggleable__content {max-height: 0;max-width: 0;overflow: hidden;text-align: left;background-color: #f0f8ff;}#sk-container-id-1 div.sk-toggleable__content pre {margin: 0.2em;color: black;border-radius: 0.25em;background-color: #f0f8ff;}#sk-container-id-1 input.sk-toggleable__control:checked~div.sk-toggleable__content {max-height: 200px;max-width: 100%;overflow: auto;}#sk-container-id-1 input.sk-toggleable__control:checked~label.sk-toggleable__label-arrow:before {content: \"▾\";}#sk-container-id-1 div.sk-estimator input.sk-toggleable__control:checked~label.sk-toggleable__label {background-color: #d4ebff;}#sk-container-id-1 div.sk-label input.sk-toggleable__control:checked~label.sk-toggleable__label {background-color: #d4ebff;}#sk-container-id-1 input.sk-hidden--visually {border: 0;clip: rect(1px 1px 1px 1px);clip: rect(1px, 1px, 1px, 1px);height: 1px;margin: -1px;overflow: hidden;padding: 0;position: absolute;width: 1px;}#sk-container-id-1 div.sk-estimator {font-family: monospace;background-color: #f0f8ff;border: 1px dotted black;border-radius: 0.25em;box-sizing: border-box;margin-bottom: 0.5em;}#sk-container-id-1 div.sk-estimator:hover {background-color: #d4ebff;}#sk-container-id-1 div.sk-parallel-item::after {content: \"\";width: 100%;border-bottom: 1px solid gray;flex-grow: 1;}#sk-container-id-1 div.sk-label:hover label.sk-toggleable__label {background-color: #d4ebff;}#sk-container-id-1 div.sk-serial::before {content: \"\";position: absolute;border-left: 1px solid gray;box-sizing: border-box;top: 0;bottom: 0;left: 50%;z-index: 0;}#sk-container-id-1 div.sk-serial {display: flex;flex-direction: column;align-items: center;background-color: white;padding-right: 0.2em;padding-left: 0.2em;position: relative;}#sk-container-id-1 div.sk-item {position: relative;z-index: 1;}#sk-container-id-1 div.sk-parallel {display: flex;align-items: stretch;justify-content: center;background-color: white;position: relative;}#sk-container-id-1 div.sk-item::before, #sk-container-id-1 div.sk-parallel-item::before {content: \"\";position: absolute;border-left: 1px solid gray;box-sizing: border-box;top: 0;bottom: 0;left: 50%;z-index: -1;}#sk-container-id-1 div.sk-parallel-item {display: flex;flex-direction: column;z-index: 1;position: relative;background-color: white;}#sk-container-id-1 div.sk-parallel-item:first-child::after {align-self: flex-end;width: 50%;}#sk-container-id-1 div.sk-parallel-item:last-child::after {align-self: flex-start;width: 50%;}#sk-container-id-1 div.sk-parallel-item:only-child::after {width: 0;}#sk-container-id-1 div.sk-dashed-wrapped {border: 1px dashed gray;margin: 0 0.4em 0.5em 0.4em;box-sizing: border-box;padding-bottom: 0.4em;background-color: white;}#sk-container-id-1 div.sk-label label {font-family: monospace;font-weight: bold;display: inline-block;line-height: 1.2em;}#sk-container-id-1 div.sk-label-container {text-align: center;}#sk-container-id-1 div.sk-container {/* jupyter's `normalize.less` sets `[hidden] { display: none; }` but bootstrap.min.css set `[hidden] { display: none !important; }` so we also need the `!important` here to be able to override the default hidden behavior on the sphinx rendered scikit-learn.org. See: https://github.com/scikit-learn/scikit-learn/issues/21755 */display: inline-block !important;position: relative;}#sk-container-id-1 div.sk-text-repr-fallback {display: none;}</style><div id=\"sk-container-id-1\" class=\"sk-top-container\"><div class=\"sk-text-repr-fallback\"><pre>LinearRegression()</pre><b>In a Jupyter environment, please rerun this cell to show the HTML representation or trust the notebook. <br />On GitHub, the HTML representation is unable to render, please try loading this page with nbviewer.org.</b></div><div class=\"sk-container\" hidden><div class=\"sk-item\"><div class=\"sk-estimator sk-toggleable\"><input class=\"sk-toggleable__control sk-hidden--visually\" id=\"sk-estimator-id-1\" type=\"checkbox\" checked><label for=\"sk-estimator-id-1\" class=\"sk-toggleable__label sk-toggleable__label-arrow\">LinearRegression</label><div class=\"sk-toggleable__content\"><pre>LinearRegression()</pre></div></div></div></div></div>"
      ],
      "text/plain": [
       "LinearRegression()"
      ]
     },
     "execution_count": 22,
     "metadata": {},
     "output_type": "execute_result"
    }
   ],
   "source": [
    "mlr.fit(X_train, y_train)"
   ]
  },
  {
   "cell_type": "code",
   "execution_count": 34,
   "metadata": {},
   "outputs": [
    {
     "data": {
      "text/plain": [
       "array([     9,    267,   2013, 189000,   1685,      1,    650,     20])"
      ]
     },
     "execution_count": 34,
     "metadata": {},
     "output_type": "execute_result"
    }
   ],
   "source": [
    "X_train[0]"
   ]
  },
  {
   "cell_type": "code",
   "execution_count": 23,
   "metadata": {},
   "outputs": [
    {
     "data": {
      "text/plain": [
       "array([32900, 13400, 23900, ..., 48000, 21900, 39900])"
      ]
     },
     "execution_count": 23,
     "metadata": {},
     "output_type": "execute_result"
    }
   ],
   "source": [
    "y_test"
   ]
  },
  {
   "cell_type": "code",
   "execution_count": 24,
   "metadata": {},
   "outputs": [],
   "source": [
    "predicted = mlr.predict(x_test)"
   ]
  },
  {
   "cell_type": "code",
   "execution_count": 25,
   "metadata": {},
   "outputs": [
    {
     "data": {
      "text/plain": [
       "array([45907.14685801,  2428.10867955, 42118.52441453, ...,\n",
       "       94727.67104689, 10526.7300267 , 65809.39857462])"
      ]
     },
     "execution_count": 25,
     "metadata": {},
     "output_type": "execute_result"
    }
   ],
   "source": [
    "predicted"
   ]
  },
  {
   "cell_type": "markdown",
   "metadata": {},
   "source": [
    "2. DecisionTreeRegressor"
   ]
  },
  {
   "cell_type": "code",
   "execution_count": 26,
   "metadata": {},
   "outputs": [],
   "source": [
    "from sklearn.tree import DecisionTreeRegressor"
   ]
  },
  {
   "cell_type": "code",
   "execution_count": 27,
   "metadata": {},
   "outputs": [],
   "source": [
    "dtr = DecisionTreeRegressor()"
   ]
  },
  {
   "cell_type": "code",
   "execution_count": 28,
   "metadata": {},
   "outputs": [
    {
     "data": {
      "text/html": [
       "<style>#sk-container-id-2 {color: black;}#sk-container-id-2 pre{padding: 0;}#sk-container-id-2 div.sk-toggleable {background-color: white;}#sk-container-id-2 label.sk-toggleable__label {cursor: pointer;display: block;width: 100%;margin-bottom: 0;padding: 0.3em;box-sizing: border-box;text-align: center;}#sk-container-id-2 label.sk-toggleable__label-arrow:before {content: \"▸\";float: left;margin-right: 0.25em;color: #696969;}#sk-container-id-2 label.sk-toggleable__label-arrow:hover:before {color: black;}#sk-container-id-2 div.sk-estimator:hover label.sk-toggleable__label-arrow:before {color: black;}#sk-container-id-2 div.sk-toggleable__content {max-height: 0;max-width: 0;overflow: hidden;text-align: left;background-color: #f0f8ff;}#sk-container-id-2 div.sk-toggleable__content pre {margin: 0.2em;color: black;border-radius: 0.25em;background-color: #f0f8ff;}#sk-container-id-2 input.sk-toggleable__control:checked~div.sk-toggleable__content {max-height: 200px;max-width: 100%;overflow: auto;}#sk-container-id-2 input.sk-toggleable__control:checked~label.sk-toggleable__label-arrow:before {content: \"▾\";}#sk-container-id-2 div.sk-estimator input.sk-toggleable__control:checked~label.sk-toggleable__label {background-color: #d4ebff;}#sk-container-id-2 div.sk-label input.sk-toggleable__control:checked~label.sk-toggleable__label {background-color: #d4ebff;}#sk-container-id-2 input.sk-hidden--visually {border: 0;clip: rect(1px 1px 1px 1px);clip: rect(1px, 1px, 1px, 1px);height: 1px;margin: -1px;overflow: hidden;padding: 0;position: absolute;width: 1px;}#sk-container-id-2 div.sk-estimator {font-family: monospace;background-color: #f0f8ff;border: 1px dotted black;border-radius: 0.25em;box-sizing: border-box;margin-bottom: 0.5em;}#sk-container-id-2 div.sk-estimator:hover {background-color: #d4ebff;}#sk-container-id-2 div.sk-parallel-item::after {content: \"\";width: 100%;border-bottom: 1px solid gray;flex-grow: 1;}#sk-container-id-2 div.sk-label:hover label.sk-toggleable__label {background-color: #d4ebff;}#sk-container-id-2 div.sk-serial::before {content: \"\";position: absolute;border-left: 1px solid gray;box-sizing: border-box;top: 0;bottom: 0;left: 50%;z-index: 0;}#sk-container-id-2 div.sk-serial {display: flex;flex-direction: column;align-items: center;background-color: white;padding-right: 0.2em;padding-left: 0.2em;position: relative;}#sk-container-id-2 div.sk-item {position: relative;z-index: 1;}#sk-container-id-2 div.sk-parallel {display: flex;align-items: stretch;justify-content: center;background-color: white;position: relative;}#sk-container-id-2 div.sk-item::before, #sk-container-id-2 div.sk-parallel-item::before {content: \"\";position: absolute;border-left: 1px solid gray;box-sizing: border-box;top: 0;bottom: 0;left: 50%;z-index: -1;}#sk-container-id-2 div.sk-parallel-item {display: flex;flex-direction: column;z-index: 1;position: relative;background-color: white;}#sk-container-id-2 div.sk-parallel-item:first-child::after {align-self: flex-end;width: 50%;}#sk-container-id-2 div.sk-parallel-item:last-child::after {align-self: flex-start;width: 50%;}#sk-container-id-2 div.sk-parallel-item:only-child::after {width: 0;}#sk-container-id-2 div.sk-dashed-wrapped {border: 1px dashed gray;margin: 0 0.4em 0.5em 0.4em;box-sizing: border-box;padding-bottom: 0.4em;background-color: white;}#sk-container-id-2 div.sk-label label {font-family: monospace;font-weight: bold;display: inline-block;line-height: 1.2em;}#sk-container-id-2 div.sk-label-container {text-align: center;}#sk-container-id-2 div.sk-container {/* jupyter's `normalize.less` sets `[hidden] { display: none; }` but bootstrap.min.css set `[hidden] { display: none !important; }` so we also need the `!important` here to be able to override the default hidden behavior on the sphinx rendered scikit-learn.org. See: https://github.com/scikit-learn/scikit-learn/issues/21755 */display: inline-block !important;position: relative;}#sk-container-id-2 div.sk-text-repr-fallback {display: none;}</style><div id=\"sk-container-id-2\" class=\"sk-top-container\"><div class=\"sk-text-repr-fallback\"><pre>DecisionTreeRegressor()</pre><b>In a Jupyter environment, please rerun this cell to show the HTML representation or trust the notebook. <br />On GitHub, the HTML representation is unable to render, please try loading this page with nbviewer.org.</b></div><div class=\"sk-container\" hidden><div class=\"sk-item\"><div class=\"sk-estimator sk-toggleable\"><input class=\"sk-toggleable__control sk-hidden--visually\" id=\"sk-estimator-id-2\" type=\"checkbox\" checked><label for=\"sk-estimator-id-2\" class=\"sk-toggleable__label sk-toggleable__label-arrow\">DecisionTreeRegressor</label><div class=\"sk-toggleable__content\"><pre>DecisionTreeRegressor()</pre></div></div></div></div></div>"
      ],
      "text/plain": [
       "DecisionTreeRegressor()"
      ]
     },
     "execution_count": 28,
     "metadata": {},
     "output_type": "execute_result"
    }
   ],
   "source": [
    "dtr.fit(X_train, y_train)"
   ]
  },
  {
   "cell_type": "code",
   "execution_count": 29,
   "metadata": {},
   "outputs": [
    {
     "data": {
      "text/plain": [
       "array([32900, 13400, 23900, ..., 48000, 21900, 39900])"
      ]
     },
     "execution_count": 29,
     "metadata": {},
     "output_type": "execute_result"
    }
   ],
   "source": [
    "y_test"
   ]
  },
  {
   "cell_type": "code",
   "execution_count": 30,
   "metadata": {},
   "outputs": [
    {
     "data": {
      "text/plain": [
       "array([26900., 13500., 25900., ..., 49500., 15375., 45000.])"
      ]
     },
     "execution_count": 30,
     "metadata": {},
     "output_type": "execute_result"
    }
   ],
   "source": [
    "dtr.predict(x_test)"
   ]
  },
  {
   "cell_type": "code",
   "execution_count": 31,
   "metadata": {},
   "outputs": [],
   "source": [
    "import pickle"
   ]
  },
  {
   "cell_type": "code",
   "execution_count": 32,
   "metadata": {},
   "outputs": [],
   "source": [
    "pickle.dump(mlr, open(\"mlr.pkl\", \"wb\"))"
   ]
  },
  {
   "cell_type": "code",
   "execution_count": 33,
   "metadata": {},
   "outputs": [],
   "source": [
    "pickle.dump(dtr, open(\"dtr.pkl\", \"wb\"))"
   ]
  },
  {
   "cell_type": "code",
   "execution_count": null,
   "metadata": {},
   "outputs": [],
   "source": []
  }
 ],
 "metadata": {
  "kernelspec": {
   "display_name": "Python 3",
   "language": "python",
   "name": "python3"
  },
  "language_info": {
   "codemirror_mode": {
    "name": "ipython",
    "version": 3
   },
   "file_extension": ".py",
   "mimetype": "text/x-python",
   "name": "python",
   "nbconvert_exporter": "python",
   "pygments_lexer": "ipython3",
   "version": "3.10.12"
  }
 },
 "nbformat": 4,
 "nbformat_minor": 2
}
