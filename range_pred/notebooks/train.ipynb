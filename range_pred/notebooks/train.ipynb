{
 "cells": [
  {
   "cell_type": "code",
   "execution_count": 1,
   "metadata": {
    "metadata": {}
   },
   "outputs": [],
   "source": [
    "import pandas as pd\n",
    "import numpy as np\n",
    "from matplotlib import pyplot as plt\n",
    "import seaborn as sns\n",
    "import collections\n",
    "import pickle\n",
    "import requests"
   ]
  },
  {
   "cell_type": "code",
   "execution_count": 5,
   "metadata": {
    "metadata": {}
   },
   "outputs": [],
   "source": [
    "from sklearn.linear_model import LinearRegression\n",
    "from sklearn.svm import SVR\n",
    "from sklearn.tree import DecisionTreeRegressor\n",
    "from sklearn.ensemble import RandomForestRegressor"
   ]
  },
  {
   "cell_type": "code",
   "execution_count": null,
   "metadata": {},
   "outputs": [],
   "source": [
    "df = pd.read_csv(\"imp_ev_col.csv\")\n",
    "img_links = pd.read_csv(\"images.csv\")"
   ]
  },
  {
   "cell_type": "code",
   "execution_count": null,
   "metadata": {},
   "outputs": [],
   "source": [
    "df.head()"
   ]
  },
  {
   "cell_type": "code",
   "execution_count": null,
   "metadata": {},
   "outputs": [],
   "source": [
    "from sklearn.model_selection import train_test_split\n",
    "from sklearn.metrics import mean_squared_error, r2_score\n",
    "\n",
    "def calculate_r2(model, X, y, r=None):\n",
    "    X_train, x_test, y_train, y_test = train_test_split(np.array(X),np.array(y), test_size=0.3, random_state=r)\n",
    "\n",
    "    model.fit(X_train, y_train)\n",
    "\n",
    "    y_train_ = model.predict(X_train)\n",
    "    y_train_r2 = r2_score(y_train_, y_train)\n",
    "    y_train_error = mean_squared_error(y_train_, y_train)\n",
    "\n",
    "    y_test_ = model.predict(x_test)\n",
    "    y_test_r2 = r2_score(y_test_, y_test)\n",
    "    y_test_error = mean_squared_error(y_test_, y_test)\n",
    "\n",
    "    return {\n",
    "        \"train_r2\" : y_train_r2,\n",
    "        \"test_r2\" : y_test_r2,\n",
    "        \"train_mse\" : y_train_error,\n",
    "        \"test_mse\" : y_test_error\n",
    "    }\n"
   ]
  },
  {
   "cell_type": "code",
   "execution_count": null,
   "metadata": {},
   "outputs": [],
   "source": [
    "X = df[[\n",
    "    'Top Speed',\n",
    "    'Battery Capacity',\n",
    "    'Gross Vehicle Weight (GVWR)'\n",
    "    ]]\n",
    "\n",
    "y = df['Electric Range']"
   ]
  },
  {
   "cell_type": "code",
   "execution_count": null,
   "metadata": {},
   "outputs": [],
   "source": [
    "df['Gross Vehicle Weight (GVWR)'].mean()"
   ]
  },
  {
   "cell_type": "code",
   "execution_count": null,
   "metadata": {},
   "outputs": [],
   "source": [
    "lr = LinearRegression()\n",
    "calculate_r2(lr, X, y)"
   ]
  },
  {
   "cell_type": "code",
   "execution_count": null,
   "metadata": {},
   "outputs": [],
   "source": [
    "dt = DecisionTreeRegressor(max_depth=3)\n",
    "calculate_r2(dt, X, y)"
   ]
  },
  {
   "cell_type": "code",
   "execution_count": null,
   "metadata": {},
   "outputs": [],
   "source": [
    "rf = RandomForestRegressor(n_estimators=100)\n",
    "calculate_r2(rf, X, y)"
   ]
  },
  {
   "cell_type": "code",
   "execution_count": null,
   "metadata": {},
   "outputs": [],
   "source": [
    "pickle.dump(rf, open(\"rf_range_predict.pkl\", \"wb\"))"
   ]
  },
  {
   "cell_type": "code",
   "execution_count": null,
   "metadata": {},
   "outputs": [],
   "source": [
    "svr = SVR(kernel='linear')\n",
    "calculate_r2(svr, X, y)"
   ]
  },
  {
   "cell_type": "code",
   "execution_count": null,
   "metadata": {},
   "outputs": [],
   "source": [
    "def get_range(model, speed, battery, weight):\n",
    "    result = model.predict([[speed, battery, weight]])\n",
    "    return int(result[0])"
   ]
  },
  {
   "cell_type": "code",
   "execution_count": null,
   "metadata": {},
   "outputs": [],
   "source": [
    "print(\"lr : \", get_range(lr, 185, 77.4, 2495))\n",
    "print(\"svr : \", get_range(svr, 185, 77.4, 2495))\n",
    "print(\"dt : \", get_range(dt, 185, 77.4, 2495))\n",
    "print(\"rf : \",get_range(rf, 185, 77.4, 2495))"
   ]
  },
  {
   "cell_type": "code",
   "execution_count": null,
   "metadata": {},
   "outputs": [],
   "source": []
  },
  {
   "cell_type": "code",
   "execution_count": null,
   "metadata": {},
   "outputs": [],
   "source": [
    "def get_topSpeed(model, range, power, weight):\n",
    "    result = model.predict([[range, power, weight]])\n",
    "    return int(result[0])"
   ]
  },
  {
   "cell_type": "code",
   "execution_count": null,
   "metadata": {},
   "outputs": [],
   "source": []
  },
  {
   "cell_type": "code",
   "execution_count": null,
   "metadata": {},
   "outputs": [],
   "source": [
    "sns.heatmap(df.corr())"
   ]
  },
  {
   "cell_type": "code",
   "execution_count": null,
   "metadata": {},
   "outputs": [],
   "source": [
    "df.head()"
   ]
  },
  {
   "cell_type": "markdown",
   "metadata": {},
   "source": [
    "From Range get Top speed "
   ]
  },
  {
   "cell_type": "code",
   "execution_count": null,
   "metadata": {},
   "outputs": [],
   "source": [
    "X = df[['Electric Range','Battery Capacity','Gross Vehicle Weight (GVWR)']]\n",
    "y = np.array(df['Top Speed']).reshape(-1,1)"
   ]
  },
  {
   "cell_type": "code",
   "execution_count": null,
   "metadata": {},
   "outputs": [],
   "source": [
    "max = [-1,-1]\n",
    "for i in range(0, 100):\n",
    "    dt = RandomForestRegressor(n_estimators=500)\n",
    "    res = calculate_r2(dt, X,y,i)\n",
    "\n",
    "    if res['test_r2'] > max[0]:\n",
    "        max[0] = res['test_r2']\n",
    "        max[1] = i\n",
    "\n",
    "max"
   ]
  },
  {
   "cell_type": "code",
   "execution_count": null,
   "metadata": {},
   "outputs": [],
   "source": [
    "# dt = DecisionTreeRegressor(max_depth=3)\n",
    "# calculate_r2(dt, X,y, r=49)"
   ]
  },
  {
   "cell_type": "code",
   "execution_count": null,
   "metadata": {},
   "outputs": [],
   "source": [
    "rf1 = RandomForestRegressor(n_estimators=500)\n",
    "calculate_r2(rf1, X, y, r=80)"
   ]
  },
  {
   "cell_type": "code",
   "execution_count": null,
   "metadata": {},
   "outputs": [],
   "source": [
    "pickle.dump(rf1, open(\"rf_speed_predict.pkl\", \"wb\"))"
   ]
  },
  {
   "cell_type": "code",
   "execution_count": null,
   "metadata": {},
   "outputs": [],
   "source": [
    "get_range(dt, 185, 77.4, 2495)"
   ]
  },
  {
   "cell_type": "code",
   "execution_count": null,
   "metadata": {},
   "outputs": [],
   "source": [
    "ids = df[df['Electric Range'] >= 417].sort_values(by='Electric Range').reset_index(drop=True)['id'][0:10]"
   ]
  },
  {
   "cell_type": "code",
   "execution_count": null,
   "metadata": {},
   "outputs": [],
   "source": [
    "img_links[img_links['id'] == ids[0]]['link'].reset_index(drop=True)[0]"
   ]
  },
  {
   "cell_type": "code",
   "execution_count": null,
   "metadata": {},
   "outputs": [],
   "source": [
    "url = img_links[img_links['id'] == ids[0]]['link'].reset_index(drop=True)[0]"
   ]
  },
  {
   "cell_type": "code",
   "execution_count": null,
   "metadata": {},
   "outputs": [],
   "source": [
    "import requests\n",
    "from bs4 import BeautifulSoup\n",
    "\n",
    "def get_image(url: str):\n",
    "    res = requests.get(url)\n",
    "    html = res.text\n",
    "    soup = BeautifulSoup(html, 'lxml')\n",
    "\n",
    "    imgs = soup.find_all(\"img\")[1]\n",
    "    return \"https://ev-database.org\" + imgs['src']"
   ]
  },
  {
   "cell_type": "code",
   "execution_count": null,
   "metadata": {},
   "outputs": [],
   "source": [
    "# url = get_image(url)"
   ]
  },
  {
   "cell_type": "code",
   "execution_count": null,
   "metadata": {},
   "outputs": [],
   "source": [
    "model = pickle.load(open(\"rf_range_predict.pkl\", \"rb\"))"
   ]
  },
  {
   "cell_type": "code",
   "execution_count": null,
   "metadata": {},
   "outputs": [],
   "source": [
    "t = 346\n",
    "best_range_id = df[df['Electric Range'] <= t]['id']\n",
    "filter = img_links[img_links['id'].isin(best_range_id)].reset_index(drop=True)"
   ]
  },
  {
   "cell_type": "code",
   "execution_count": null,
   "metadata": {},
   "outputs": [],
   "source": [
    "for i in range(0, filter.shape[1]):\n",
    "    id = filter['id'][i]\n",
    "    brand = filter['Brand'][i]\n",
    "    link = filter['link'][i]\n",
    "    print(id, brand, link)\n",
    "    break"
   ]
  },
  {
   "cell_type": "code",
   "execution_count": 336,
   "metadata": {},
   "outputs": [
    {
     "data": {
      "text/html": [
       "<div>\n",
       "<style scoped>\n",
       "    .dataframe tbody tr th:only-of-type {\n",
       "        vertical-align: middle;\n",
       "    }\n",
       "\n",
       "    .dataframe tbody tr th {\n",
       "        vertical-align: top;\n",
       "    }\n",
       "\n",
       "    .dataframe thead th {\n",
       "        text-align: right;\n",
       "    }\n",
       "</style>\n",
       "<table border=\"1\" class=\"dataframe\">\n",
       "  <thead>\n",
       "    <tr style=\"text-align: right;\">\n",
       "      <th></th>\n",
       "      <th>id</th>\n",
       "      <th>Acceleration 0 - 100 km/h</th>\n",
       "      <th>Top Speed</th>\n",
       "      <th>Electric Range</th>\n",
       "      <th>Total Power</th>\n",
       "      <th>Total Torque</th>\n",
       "      <th>Battery Capacity</th>\n",
       "      <th>Gross Vehicle Weight (GVWR)</th>\n",
       "      <th>Cargo Volume</th>\n",
       "    </tr>\n",
       "  </thead>\n",
       "  <tbody>\n",
       "    <tr>\n",
       "      <th>0</th>\n",
       "      <td>1647</td>\n",
       "      <td>7.8</td>\n",
       "      <td>185</td>\n",
       "      <td>390</td>\n",
       "      <td>168</td>\n",
       "      <td>350</td>\n",
       "      <td>77.4</td>\n",
       "      <td>2495</td>\n",
       "      <td>432</td>\n",
       "    </tr>\n",
       "    <tr>\n",
       "      <th>1</th>\n",
       "      <td>1493</td>\n",
       "      <td>6.2</td>\n",
       "      <td>160</td>\n",
       "      <td>330</td>\n",
       "      <td>215</td>\n",
       "      <td>520</td>\n",
       "      <td>69.7</td>\n",
       "      <td>2580</td>\n",
       "      <td>495</td>\n",
       "    </tr>\n",
       "    <tr>\n",
       "      <th>2</th>\n",
       "      <td>1229</td>\n",
       "      <td>3.2</td>\n",
       "      <td>260</td>\n",
       "      <td>415</td>\n",
       "      <td>500</td>\n",
       "      <td>850</td>\n",
       "      <td>93.4</td>\n",
       "      <td>2880</td>\n",
       "      <td>366</td>\n",
       "    </tr>\n",
       "    <tr>\n",
       "      <th>3</th>\n",
       "      <td>1252</td>\n",
       "      <td>5.7</td>\n",
       "      <td>190</td>\n",
       "      <td>470</td>\n",
       "      <td>250</td>\n",
       "      <td>430</td>\n",
       "      <td>83.9</td>\n",
       "      <td>2605</td>\n",
       "      <td>470</td>\n",
       "    </tr>\n",
       "    <tr>\n",
       "      <th>4</th>\n",
       "      <td>1534</td>\n",
       "      <td>7.9</td>\n",
       "      <td>160</td>\n",
       "      <td>450</td>\n",
       "      <td>150</td>\n",
       "      <td>310</td>\n",
       "      <td>82.0</td>\n",
       "      <td>2300</td>\n",
       "      <td>385</td>\n",
       "    </tr>\n",
       "  </tbody>\n",
       "</table>\n",
       "</div>"
      ],
      "text/plain": [
       "     id  Acceleration 0 - 100 km/h  Top Speed  Electric Range  Total Power  \\\n",
       "0  1647                        7.8        185             390          168   \n",
       "1  1493                        6.2        160             330          215   \n",
       "2  1229                        3.2        260             415          500   \n",
       "3  1252                        5.7        190             470          250   \n",
       "4  1534                        7.9        160             450          150   \n",
       "\n",
       "   Total Torque  Battery Capacity  Gross Vehicle Weight (GVWR)  Cargo Volume  \n",
       "0           350              77.4                         2495           432  \n",
       "1           520              69.7                         2580           495  \n",
       "2           850              93.4                         2880           366  \n",
       "3           430              83.9                         2605           470  \n",
       "4           310              82.0                         2300           385  "
      ]
     },
     "execution_count": 336,
     "metadata": {},
     "output_type": "execute_result"
    }
   ],
   "source": [
    "df.head()"
   ]
  },
  {
   "cell_type": "code",
   "execution_count": 360,
   "metadata": {},
   "outputs": [
    {
     "data": {
      "text/html": [
       "<div>\n",
       "<style scoped>\n",
       "    .dataframe tbody tr th:only-of-type {\n",
       "        vertical-align: middle;\n",
       "    }\n",
       "\n",
       "    .dataframe tbody tr th {\n",
       "        vertical-align: top;\n",
       "    }\n",
       "\n",
       "    .dataframe thead th {\n",
       "        text-align: right;\n",
       "    }\n",
       "</style>\n",
       "<table border=\"1\" class=\"dataframe\">\n",
       "  <thead>\n",
       "    <tr style=\"text-align: right;\">\n",
       "      <th></th>\n",
       "      <th>Acceleration 0 - 100 km/h</th>\n",
       "      <th>Top Speed</th>\n",
       "      <th>Electric Range</th>\n",
       "      <th>Battery Capacity</th>\n",
       "      <th>Gross Vehicle Weight (GVWR)</th>\n",
       "    </tr>\n",
       "  </thead>\n",
       "  <tbody>\n",
       "    <tr>\n",
       "      <th>0</th>\n",
       "      <td>7.8</td>\n",
       "      <td>185</td>\n",
       "      <td>390</td>\n",
       "      <td>77.4</td>\n",
       "      <td>2495</td>\n",
       "    </tr>\n",
       "    <tr>\n",
       "      <th>1</th>\n",
       "      <td>6.2</td>\n",
       "      <td>160</td>\n",
       "      <td>330</td>\n",
       "      <td>69.7</td>\n",
       "      <td>2580</td>\n",
       "    </tr>\n",
       "    <tr>\n",
       "      <th>2</th>\n",
       "      <td>3.2</td>\n",
       "      <td>260</td>\n",
       "      <td>415</td>\n",
       "      <td>93.4</td>\n",
       "      <td>2880</td>\n",
       "    </tr>\n",
       "    <tr>\n",
       "      <th>3</th>\n",
       "      <td>5.7</td>\n",
       "      <td>190</td>\n",
       "      <td>470</td>\n",
       "      <td>83.9</td>\n",
       "      <td>2605</td>\n",
       "    </tr>\n",
       "    <tr>\n",
       "      <th>4</th>\n",
       "      <td>7.9</td>\n",
       "      <td>160</td>\n",
       "      <td>450</td>\n",
       "      <td>82.0</td>\n",
       "      <td>2300</td>\n",
       "    </tr>\n",
       "    <tr>\n",
       "      <th>...</th>\n",
       "      <td>...</td>\n",
       "      <td>...</td>\n",
       "      <td>...</td>\n",
       "      <td>...</td>\n",
       "      <td>...</td>\n",
       "    </tr>\n",
       "    <tr>\n",
       "      <th>189</th>\n",
       "      <td>2.8</td>\n",
       "      <td>260</td>\n",
       "      <td>400</td>\n",
       "      <td>93.4</td>\n",
       "      <td>2870</td>\n",
       "    </tr>\n",
       "    <tr>\n",
       "      <th>190</th>\n",
       "      <td>7.9</td>\n",
       "      <td>160</td>\n",
       "      <td>450</td>\n",
       "      <td>82.0</td>\n",
       "      <td>2280</td>\n",
       "    </tr>\n",
       "    <tr>\n",
       "      <th>191</th>\n",
       "      <td>11.7</td>\n",
       "      <td>135</td>\n",
       "      <td>195</td>\n",
       "      <td>50.0</td>\n",
       "      <td>2440</td>\n",
       "    </tr>\n",
       "    <tr>\n",
       "      <th>192</th>\n",
       "      <td>6.2</td>\n",
       "      <td>180</td>\n",
       "      <td>400</td>\n",
       "      <td>82.0</td>\n",
       "      <td>2715</td>\n",
       "    </tr>\n",
       "    <tr>\n",
       "      <th>193</th>\n",
       "      <td>14.3</td>\n",
       "      <td>130</td>\n",
       "      <td>265</td>\n",
       "      <td>75.0</td>\n",
       "      <td>3100</td>\n",
       "    </tr>\n",
       "  </tbody>\n",
       "</table>\n",
       "<p>194 rows × 5 columns</p>\n",
       "</div>"
      ],
      "text/plain": [
       "     Acceleration 0 - 100 km/h  Top Speed  Electric Range  Battery Capacity  \\\n",
       "0                          7.8        185             390              77.4   \n",
       "1                          6.2        160             330              69.7   \n",
       "2                          3.2        260             415              93.4   \n",
       "3                          5.7        190             470              83.9   \n",
       "4                          7.9        160             450              82.0   \n",
       "..                         ...        ...             ...               ...   \n",
       "189                        2.8        260             400              93.4   \n",
       "190                        7.9        160             450              82.0   \n",
       "191                       11.7        135             195              50.0   \n",
       "192                        6.2        180             400              82.0   \n",
       "193                       14.3        130             265              75.0   \n",
       "\n",
       "     Gross Vehicle Weight (GVWR)  \n",
       "0                           2495  \n",
       "1                           2580  \n",
       "2                           2880  \n",
       "3                           2605  \n",
       "4                           2300  \n",
       "..                           ...  \n",
       "189                         2870  \n",
       "190                         2280  \n",
       "191                         2440  \n",
       "192                         2715  \n",
       "193                         3100  \n",
       "\n",
       "[194 rows x 5 columns]"
      ]
     },
     "execution_count": 360,
     "metadata": {},
     "output_type": "execute_result"
    }
   ],
   "source": [
    "df[['Acceleration 0 - 100 km/h', 'Top Speed', 'Electric Range', 'Battery Capacity','Gross Vehicle Weight (GVWR)']]"
   ]
  },
  {
   "cell_type": "markdown",
   "metadata": {},
   "source": [
    "TESTING API"
   ]
  },
  {
   "cell_type": "code",
   "execution_count": 7,
   "metadata": {
    "metadata": {}
   },
   "outputs": [
    {
     "data": {
      "text/plain": [
       "{'output': {'filter_list': '[{\"id\": \"1252\", \"brand\": \"BMW\", \"link\": \"https://ev-database.org/car/1252/BMW-i4-eDrive40\", \"acceleration\": \"5.7\", \"speed\": \"190\", \"range\": \"470\", \"battery\": \"83.9\", \"weight\": \"2605\"}, {\"id\": \"1653\", \"brand\": \"Mercedes\", \"link\": \"https://ev-database.org/car/1653/Mercedes-EQE-AMG-53-4MATICplus\", \"acceleration\": \"3.5\", \"speed\": \"220\", \"range\": \"480\", \"battery\": \"100.0\", \"weight\": \"3095\"}, {\"id\": \"1484\", \"brand\": \"Mercedes\", \"link\": \"https://ev-database.org/car/1484/Mercedes-EQS-580-4MATIC\", \"acceleration\": \"4.3\", \"speed\": \"210\", \"range\": \"605\", \"battery\": \"120.0\", \"weight\": \"3060\"}, {\"id\": \"1537\", \"brand\": \"Mercedes\", \"link\": \"https://ev-database.org/car/1537/Mercedes-EQS-AMG-53-4MATICplus\", \"acceleration\": \"3.4\", \"speed\": \"250\", \"range\": \"565\", \"battery\": \"120.0\", \"weight\": \"3225\"}, {\"id\": \"1715\", \"brand\": \"Mercedes\", \"link\": \"https://ev-database.org/car/1715/Mercedes-EQE-350-4MATIC\", \"acceleration\": \"6.3\", \"speed\": \"210\", \"range\": \"500\", \"battery\": \"100.0\", \"weight\": \"2970\"}, {\"id\": \"1700\", \"brand\": \"Mercedes\", \"link\": \"https://ev-database.org/car/1700/Mercedes-EQS-500-4MATIC\", \"acceleration\": \"4.8\", \"speed\": \"210\", \"range\": \"605\", \"battery\": \"120.0\", \"weight\": \"3060\"}, {\"id\": \"1590\", \"brand\": \"BMW\", \"link\": \"https://ev-database.org/car/1590/BMW-iX-M60\", \"acceleration\": \"3.8\", \"speed\": \"250\", \"range\": \"485\", \"battery\": \"111.5\", \"weight\": \"3160\"}, {\"id\": \"1716\", \"brand\": \"Mercedes\", \"link\": \"https://ev-database.org/car/1716/Mercedes-EQE-500-4MATIC\", \"acceleration\": \"4.7\", \"speed\": \"210\", \"range\": \"500\", \"battery\": \"100.0\", \"weight\": \"2970\"}, {\"id\": \"1674\", \"brand\": \"Mercedes\", \"link\": \"https://ev-database.org/car/1674/Mercedes-EQS-SUV-450-4MATIC\", \"acceleration\": \"6.0\", \"speed\": \"210\", \"range\": \"485\", \"battery\": \"120.0\", \"weight\": \"3375\"}, {\"id\": \"1673\", \"brand\": \"Mercedes\", \"link\": \"https://ev-database.org/car/1673/Mercedes-EQS-SUV-450plus\", \"acceleration\": \"6.7\", \"speed\": \"210\", \"range\": \"495\", \"battery\": \"120.0\", \"weight\": \"3265\"}, {\"id\": \"1713\", \"brand\": \"Mercedes\", \"link\": \"https://ev-database.org/car/1713/Mercedes-EQE-300\", \"acceleration\": \"7.6\", \"speed\": \"210\", \"range\": \"515\", \"battery\": \"100.0\", \"weight\": \"2880\"}, {\"id\": \"1473\", \"brand\": \"BMW\", \"link\": \"https://ev-database.org/car/1473/BMW-iX-xDrive50\", \"acceleration\": \"4.6\", \"speed\": \"200\", \"range\": \"505\", \"battery\": \"111.5\", \"weight\": \"3145\"}, {\"id\": \"1538\", \"brand\": \"Mercedes\", \"link\": \"https://ev-database.org/car/1538/Mercedes-EQE-350plus\", \"acceleration\": \"6.4\", \"speed\": \"210\", \"range\": \"525\", \"battery\": \"100.0\", \"weight\": \"2880\"}, {\"id\": \"1652\", \"brand\": \"Mercedes\", \"link\": \"https://ev-database.org/car/1652/Mercedes-EQE-AMG-43-4MATIC\", \"acceleration\": \"4.2\", \"speed\": \"210\", \"range\": \"485\", \"battery\": \"100.0\", \"weight\": \"3095\"}, {\"id\": \"1591\", \"brand\": \"Tesla\", \"link\": \"https://ev-database.org/car/1591/Tesla-Model-3-Long-Range-Dual-Motor\", \"acceleration\": \"4.4\", \"speed\": \"233\", \"range\": \"485\", \"battery\": \"82.0\", \"weight\": \"2232\"}, {\"id\": \"1714\", \"brand\": \"Mercedes\", \"link\": \"https://ev-database.org/car/1714/Mercedes-EQE-350\", \"acceleration\": \"6.4\", \"speed\": \"210\", \"range\": \"515\", \"battery\": \"100.0\", \"weight\": \"2880\"}, {\"id\": \"1483\", \"brand\": \"Mercedes\", \"link\": \"https://ev-database.org/car/1483/Mercedes-EQS-450plus\", \"acceleration\": \"6.2\", \"speed\": \"210\", \"range\": \"640\", \"battery\": \"120.0\", \"weight\": \"2945\"}, {\"id\": \"1676\", \"brand\": \"BMW\", \"link\": \"https://ev-database.org/car/1676/BMW-i7-xDrive60\", \"acceleration\": \"4.7\", \"speed\": \"240\", \"range\": \"510\", \"battery\": \"105.0\", \"weight\": \"3250\"}, {\"id\": \"1699\", \"brand\": \"Mercedes\", \"link\": \"https://ev-database.org/car/1699/Mercedes-EQS-450-4MATIC\", \"acceleration\": \"5.6\", \"speed\": \"210\", \"range\": \"615\", \"battery\": \"120.0\", \"weight\": \"3060\"}, {\"id\": \"1394\", \"brand\": \"Porsche\", \"link\": \"https://ev-database.org/car/1394/Porsche-Taycan-Plus\", \"acceleration\": \"5.4\", \"speed\": \"230\", \"range\": \"475\", \"battery\": \"93.4\", \"weight\": \"2795\"}]',\n",
       "  'result': '464.1'}}"
      ]
     },
     "execution_count": 7,
     "metadata": {},
     "output_type": "execute_result"
    }
   ],
   "source": [
    "url = \"http://127.0.0.1:8000/predict/range\"\n",
    "res = requests.post(url, json={\"speed\" : 300, \"battery\" : 82, \"weight\" : 2300})\n",
    "ans = res.json()\n",
    "ans"
   ]
  },
  {
   "cell_type": "code",
   "execution_count": null,
   "metadata": {},
   "outputs": [],
   "source": [
    "speed = 163.204"
   ]
  },
  {
   "cell_type": "code",
   "execution_count": 308,
   "metadata": {},
   "outputs": [],
   "source": [
    "ids = df[df['Top Speed'] >= speed]['id']"
   ]
  },
  {
   "cell_type": "code",
   "execution_count": 309,
   "metadata": {},
   "outputs": [],
   "source": [
    "filter_list = img_links[img_links['id'].isin(ids)].reset_index(drop=True)"
   ]
  },
  {
   "cell_type": "code",
   "execution_count": 330,
   "metadata": {},
   "outputs": [
    {
     "data": {
      "text/html": [
       "<div>\n",
       "<style scoped>\n",
       "    .dataframe tbody tr th:only-of-type {\n",
       "        vertical-align: middle;\n",
       "    }\n",
       "\n",
       "    .dataframe tbody tr th {\n",
       "        vertical-align: top;\n",
       "    }\n",
       "\n",
       "    .dataframe thead th {\n",
       "        text-align: right;\n",
       "    }\n",
       "</style>\n",
       "<table border=\"1\" class=\"dataframe\">\n",
       "  <thead>\n",
       "    <tr style=\"text-align: right;\">\n",
       "      <th></th>\n",
       "      <th>id</th>\n",
       "      <th>Brand</th>\n",
       "      <th>link</th>\n",
       "    </tr>\n",
       "  </thead>\n",
       "  <tbody>\n",
       "    <tr>\n",
       "      <th>0</th>\n",
       "      <td>1647</td>\n",
       "      <td>Genesis</td>\n",
       "      <td>https://ev-database.org/car/1647/Genesis-GV60-...</td>\n",
       "    </tr>\n",
       "    <tr>\n",
       "      <th>1</th>\n",
       "      <td>1229</td>\n",
       "      <td>Porsche</td>\n",
       "      <td>https://ev-database.org/car/1229/Porsche-Tayca...</td>\n",
       "    </tr>\n",
       "    <tr>\n",
       "      <th>2</th>\n",
       "      <td>1252</td>\n",
       "      <td>BMW</td>\n",
       "      <td>https://ev-database.org/car/1252/BMW-i4-eDrive40</td>\n",
       "    </tr>\n",
       "    <tr>\n",
       "      <th>3</th>\n",
       "      <td>1438</td>\n",
       "      <td>Porsche</td>\n",
       "      <td>https://ev-database.org/car/1438/Porsche-Tayca...</td>\n",
       "    </tr>\n",
       "    <tr>\n",
       "      <th>4</th>\n",
       "      <td>1625</td>\n",
       "      <td>Porsche</td>\n",
       "      <td>https://ev-database.org/car/1625/Porsche-Tayca...</td>\n",
       "    </tr>\n",
       "    <tr>\n",
       "      <th>...</th>\n",
       "      <td>...</td>\n",
       "      <td>...</td>\n",
       "      <td>...</td>\n",
       "    </tr>\n",
       "    <tr>\n",
       "      <th>89</th>\n",
       "      <td>1519</td>\n",
       "      <td>BMW</td>\n",
       "      <td>https://ev-database.org/car/1519/BMW-i4-M50</td>\n",
       "    </tr>\n",
       "    <tr>\n",
       "      <th>90</th>\n",
       "      <td>1755</td>\n",
       "      <td>Ford</td>\n",
       "      <td>https://ev-database.org/car/1755/Ford-Mustang-...</td>\n",
       "    </tr>\n",
       "    <tr>\n",
       "      <th>91</th>\n",
       "      <td>1394</td>\n",
       "      <td>Porsche</td>\n",
       "      <td>https://ev-database.org/car/1394/Porsche-Tayca...</td>\n",
       "    </tr>\n",
       "    <tr>\n",
       "      <th>92</th>\n",
       "      <td>1116</td>\n",
       "      <td>Porsche</td>\n",
       "      <td>https://ev-database.org/car/1116/Porsche-Tayca...</td>\n",
       "    </tr>\n",
       "    <tr>\n",
       "      <th>93</th>\n",
       "      <td>1492</td>\n",
       "      <td>Audi</td>\n",
       "      <td>https://ev-database.org/car/1492/Audi-Q4-Sport...</td>\n",
       "    </tr>\n",
       "  </tbody>\n",
       "</table>\n",
       "<p>94 rows × 3 columns</p>\n",
       "</div>"
      ],
      "text/plain": [
       "      id    Brand                                               link\n",
       "0   1647  Genesis  https://ev-database.org/car/1647/Genesis-GV60-...\n",
       "1   1229  Porsche  https://ev-database.org/car/1229/Porsche-Tayca...\n",
       "2   1252      BMW   https://ev-database.org/car/1252/BMW-i4-eDrive40\n",
       "3   1438  Porsche  https://ev-database.org/car/1438/Porsche-Tayca...\n",
       "4   1625  Porsche  https://ev-database.org/car/1625/Porsche-Tayca...\n",
       "..   ...      ...                                                ...\n",
       "89  1519      BMW        https://ev-database.org/car/1519/BMW-i4-M50\n",
       "90  1755     Ford  https://ev-database.org/car/1755/Ford-Mustang-...\n",
       "91  1394  Porsche  https://ev-database.org/car/1394/Porsche-Tayca...\n",
       "92  1116  Porsche  https://ev-database.org/car/1116/Porsche-Tayca...\n",
       "93  1492     Audi  https://ev-database.org/car/1492/Audi-Q4-Sport...\n",
       "\n",
       "[94 rows x 3 columns]"
      ]
     },
     "execution_count": 330,
     "metadata": {},
     "output_type": "execute_result"
    }
   ],
   "source": [
    "filter_list"
   ]
  },
  {
   "cell_type": "code",
   "execution_count": 304,
   "metadata": {},
   "outputs": [],
   "source": [
    "filter_list = [\n",
    "        {\n",
    "            \"id\": filter_list['id'][i],\n",
    "            \"brand\": filter_list['Brand'][i],\n",
    "            \"link\": filter_list['link'][i]\n",
    "        }\n",
    "        for i in range(ids.__len__())\n",
    "    ]"
   ]
  },
  {
   "cell_type": "code",
   "execution_count": 334,
   "metadata": {},
   "outputs": [],
   "source": [
    "# filter_list"
   ]
  },
  {
   "cell_type": "code",
   "execution_count": null,
   "metadata": {},
   "outputs": [],
   "source": []
  },
  {
   "cell_type": "code",
   "execution_count": null,
   "metadata": {},
   "outputs": [],
   "source": [
    "for i in range(ids.__len__()):\n",
    "    data = {\"id\" : img_links['id'][i], \n",
    "            \"brand\" : img_links['Brand'][i], \n",
    "            \"link\" : img_links['link'][i] }\n",
    "    print(data)"
   ]
  },
  {
   "cell_type": "code",
   "execution_count": 268,
   "metadata": {},
   "outputs": [],
   "source": [
    "def make_prediction(model, *args):\n",
    "    input = np.array(args).reshape(1,-1)\n",
    "    result = model.predict(input)[0]\n",
    "    return result"
   ]
  },
  {
   "cell_type": "code",
   "execution_count": 269,
   "metadata": {},
   "outputs": [
    {
     "data": {
      "text/plain": [
       "164.04"
      ]
     },
     "execution_count": 269,
     "metadata": {},
     "output_type": "execute_result"
    }
   ],
   "source": [
    "make_prediction(model,450, 82, 2300)"
   ]
  },
  {
   "cell_type": "code",
   "execution_count": null,
   "metadata": {},
   "outputs": [],
   "source": []
  }
 ],
 "metadata": {
  "kernelspec": {
   "display_name": "Python 3",
   "language": "python",
   "name": "python3"
  },
  "language_info": {
   "codemirror_mode": {
    "name": "ipython",
    "version": 3
   },
   "file_extension": ".py",
   "mimetype": "text/x-python",
   "name": "python",
   "nbconvert_exporter": "python",
   "pygments_lexer": "ipython3",
   "version": "3.10.12"
  }
 },
 "nbformat": 4,
 "nbformat_minor": 2
}
